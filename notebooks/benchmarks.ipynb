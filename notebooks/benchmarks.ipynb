{
 "cells": [
  {
   "cell_type": "code",
   "execution_count": 1,
   "id": "db1d78be09bd5094",
   "metadata": {
    "ExecuteTime": {
     "end_time": "2025-07-03T08:51:22.973883Z",
     "start_time": "2025-07-03T08:51:22.952038Z"
    },
    "collapsed": false
   },
   "outputs": [],
   "source": [
    "import sys\n",
    "sys.path.append('../')\n",
    "\n",
    "from loguru import logger as log"
   ]
  },
  {
   "cell_type": "code",
   "execution_count": 2,
   "id": "initial_id",
   "metadata": {
    "ExecuteTime": {
     "end_time": "2025-07-03T08:51:23.477880Z",
     "start_time": "2025-07-03T08:51:22.977706Z"
    },
    "collapsed": true
   },
   "outputs": [],
   "source": [
    "import numpy as np\n",
    "from ortools.sat.python import cp_model\n",
    "\n",
    "from vrp_study.data_model import Tariff, Cargo, Node\n",
    "from vrp_study.data_model import TariffCost, Route\n",
    "from vrp_study.pdptw_model.pdptw_routing_manager_builder import PDRoutingManagerBuilder\n",
    "from vrp_study.pdptw_model.routing_model import find_optimal_paths"
   ]
  },
  {
   "cell_type": "code",
   "execution_count": 3,
   "id": "559f79286744de08",
   "metadata": {
    "ExecuteTime": {
     "end_time": "2025-07-03T08:51:23.483479Z",
     "start_time": "2025-07-03T08:51:23.480050Z"
    },
    "collapsed": false
   },
   "outputs": [],
   "source": [
    "benchmark_type = 'pdp_400'\n",
    "name = 'LC1_4_9.txt'"
   ]
  },
  {
   "cell_type": "code",
   "execution_count": 4,
   "id": "991efc321c7b5ad9",
   "metadata": {
    "ExecuteTime": {
     "end_time": "2025-07-03T08:51:23.497142Z",
     "start_time": "2025-07-03T08:51:23.485121Z"
    },
    "collapsed": false
   },
   "outputs": [],
   "source": [
    "from typing import Optional\n",
    "\n",
    "tariff = None\n",
    "cargos: list[Cargo] = []\n",
    "depo: Optional[Node] = None"
   ]
  },
  {
   "cell_type": "code",
   "execution_count": 5,
   "id": "9a1a50b9550c425c",
   "metadata": {
    "ExecuteTime": {
     "end_time": "2025-07-03T08:51:23.514238Z",
     "start_time": "2025-07-03T08:51:23.499848Z"
    },
    "collapsed": false
   },
   "outputs": [],
   "source": [
    "id2info = {}\n",
    "p2coordinates = {}\n",
    "with open(f'../data/Li & Lim benchmark/{benchmark_type}/{name}', 'r') as file:\n",
    "    for i, line in enumerate(file):\n",
    "        line = line.split('\\t')\n",
    "        if i == 0:\n",
    "            tariff = Tariff(\n",
    "                id='car',\n",
    "                capacity=int(line[1]),\n",
    "                max_count=int(line[0]),\n",
    "                cost_per_distance=[TariffCost(\n",
    "                    min_dst_km=0,\n",
    "                    max_dst_km=10000,\n",
    "                    cost_per_km=1,\n",
    "                    fixed_cost=0\n",
    "                )]\n",
    "            )\n",
    "        else:\n",
    "            c_id = int(line[0])\n",
    "            x = int(line[1])\n",
    "            y = int(line[2])\n",
    "\n",
    "            mass = int(line[3])\n",
    "\n",
    "            et = int(line[4])\n",
    "            lt = int(line[5])\n",
    "            st = int(line[6])\n",
    "\n",
    "            pick_up = int(line[7])\n",
    "            delivery = int(line[8])\n",
    "            if pick_up == delivery:\n",
    "                # print(12)\n",
    "                depo = Node(\n",
    "                    id=0,\n",
    "                    cargo_id=c_id,\n",
    "                    capacity=0,\n",
    "                    service_time=0,\n",
    "                    start_time=0,\n",
    "                    end_time=lt,\n",
    "                    coordinates=(x, y)\n",
    "                )\n",
    "                continue\n",
    "            if pick_up == 0:\n",
    "                if c_id not in id2info:\n",
    "                    id2info[c_id] = {}\n",
    "                id2info[c_id][0] = (x, y, mass, et, lt, st, c_id, delivery)\n",
    "            else:\n",
    "                delivery = c_id\n",
    "                c_id = pick_up\n",
    "                if c_id not in id2info:\n",
    "                    id2info[c_id] = {}\n",
    "                id2info[c_id][1] = (x, y, mass, et, lt, st, pick_up, delivery)\n"
   ]
  },
  {
   "cell_type": "code",
   "execution_count": 6,
   "id": "c2fb6bc413a17132",
   "metadata": {
    "ExecuteTime": {
     "end_time": "2025-07-03T08:51:23.527495Z",
     "start_time": "2025-07-03T08:51:23.515826Z"
    },
    "collapsed": false
   },
   "outputs": [
    {
     "data": {
      "text/plain": [
       "Node(id=0, cargo_id=0, capacity=0, start_time=0, end_time=1501, service_time=0, coordinates=(100, 100))"
      ]
     },
     "execution_count": 6,
     "metadata": {},
     "output_type": "execute_result"
    }
   ],
   "source": [
    "depo"
   ]
  },
  {
   "cell_type": "code",
   "execution_count": 7,
   "id": "f7bbc6862498a04e",
   "metadata": {
    "ExecuteTime": {
     "end_time": "2025-07-03T08:51:23.536543Z",
     "start_time": "2025-07-03T08:51:23.529163Z"
    },
    "collapsed": false
   },
   "outputs": [],
   "source": [
    "\n",
    "for k, v in id2info.items():\n",
    "    cargos.append(\n",
    "        Cargo(\n",
    "            id=k,\n",
    "            nodes=[\n",
    "                Node(\n",
    "                    cargo_id=k,\n",
    "                    id=v[i][6] if i == 0 else v[i][7],\n",
    "                    capacity=v[i][2],\n",
    "                    service_time=v[i][5],\n",
    "                    start_time=v[i][3],\n",
    "                    end_time=v[i][4],\n",
    "                    coordinates=(v[i][0], v[i][1])\n",
    "                )\n",
    "                for i in range(2)\n",
    "            ]\n",
    "        )\n",
    "    )"
   ]
  },
  {
   "cell_type": "code",
   "execution_count": 8,
   "id": "4239a4ae965983df",
   "metadata": {
    "ExecuteTime": {
     "end_time": "2025-07-03T08:51:24.577351Z",
     "start_time": "2025-07-03T08:51:23.537994Z"
    },
    "collapsed": false
   },
   "outputs": [],
   "source": [
    "p2coordinates.update({\n",
    "    crg.nodes[i].id: crg.nodes[i].coordinates for crg in cargos for i in range(2)\n",
    "})\n",
    "p2coordinates[depo.id] = depo.coordinates\n",
    "distance_matrix = {(u, v): np.sqrt((du[0] - dv[0]) ** 2 + (du[1] - dv[1]) ** 2) for u, du in\n",
    "                   p2coordinates.items() for\n",
    "                   v, dv in p2coordinates.items()}\n",
    "time_matrix = {(u, v): np.sqrt((du[0] - dv[0]) ** 2 + (du[1] - dv[1]) ** 2) for u, du in p2coordinates.items() for\n",
    "               v, dv in p2coordinates.items()}"
   ]
  },
  {
   "cell_type": "code",
   "execution_count": 9,
   "id": "6bd1e99727e05112",
   "metadata": {
    "ExecuteTime": {
     "end_time": "2025-07-03T08:51:24.898954Z",
     "start_time": "2025-07-03T08:51:24.578948Z"
    },
    "collapsed": false
   },
   "outputs": [],
   "source": [
    "from vrp_study.configs import ModelConfig\n",
    "\n",
    "routing_manager_builder = PDRoutingManagerBuilder(\n",
    "    distance_matrix = distance_matrix,\n",
    "    time_matrix = time_matrix,\n",
    "    model_config=ModelConfig(max_execution_time_minutes=1)\n",
    ")\n",
    "\n",
    "routing_manager_builder.add_cargos(cargos)\n",
    "routing_manager_builder.add_tariff(tariff)\n",
    "\n",
    "routing_manager_builder.add_depo(depo)\n",
    "\n",
    "# routing_manager.distance_matrix = distance_matrix\n",
    "# routing_manager.time_matrix = time_matrix\n",
    "\n",
    "\n",
    "routing_manager = routing_manager_builder.build()"
   ]
  },
  {
   "cell_type": "code",
   "execution_count": 10,
   "id": "b89ab99b84f7f518",
   "metadata": {
    "ExecuteTime": {
     "start_time": "2025-07-03T08:51:24.910645Z"
    },
    "collapsed": false
   },
   "outputs": [],
   "source": [
    "from vrp_study.pdptw_model.solution_builder import  SolutionBuilder\n",
    "\n",
    "# sol = find_optimal_paths(routing_manager, SolutionBuilder())"
   ]
  },
  {
   "cell_type": "code",
   "execution_count": 15,
   "id": "26cc4b2b4712073f",
   "metadata": {
    "collapsed": false
   },
   "outputs": [
    {
     "name": "stderr",
     "output_type": "stream",
     "text": [
      "\u001b[32m2025-07-07 15:27:26.556\u001b[0m | \u001b[1mINFO    \u001b[0m | \u001b[36mvrp_study.solver\u001b[0m:\u001b[36msolve\u001b[0m:\u001b[36m166\u001b[0m - \u001b[1mproblem size: 419\u001b[0m\n",
      "\u001b[32m2025-07-07 15:27:26.559\u001b[0m | \u001b[1mINFO    \u001b[0m | \u001b[36mvrp_study.solver\u001b[0m:\u001b[36msolve_routing\u001b[0m:\u001b[36m101\u001b[0m - \u001b[1mНачало создания модели\u001b[0m\n",
      "\u001b[32m2025-07-07 15:27:26.575\u001b[0m | \u001b[1mINFO    \u001b[0m | \u001b[36mvrp_study.pdptw_model.routing_model\u001b[0m:\u001b[36madd_distance_dimension\u001b[0m:\u001b[36m304\u001b[0m - \u001b[1mДобавление размерности для расстояния\u001b[0m\n",
      "\u001b[32m2025-07-07 15:27:26.576\u001b[0m | \u001b[1mINFO    \u001b[0m | \u001b[36mvrp_study.pdptw_model.routing_model\u001b[0m:\u001b[36madd_count_dimension\u001b[0m:\u001b[36m341\u001b[0m - \u001b[1mДобавление размерности для расстояния\u001b[0m\n",
      "\u001b[32m2025-07-07 15:27:26.577\u001b[0m | \u001b[1mINFO    \u001b[0m | \u001b[36mvrp_study.pdptw_model.routing_model\u001b[0m:\u001b[36madd_pick_up_and_delivery\u001b[0m:\u001b[36m273\u001b[0m - \u001b[1mДобавление ограничения для порядка доставки\u001b[0m\n",
      "\u001b[32m2025-07-07 15:27:26.579\u001b[0m | \u001b[1mINFO    \u001b[0m | \u001b[36mvrp_study.pdptw_model.routing_model\u001b[0m:\u001b[36madd_vehicles_cost\u001b[0m:\u001b[36m246\u001b[0m - \u001b[1mДобавление стоимостей машин\u001b[0m\n",
      "\u001b[32m2025-07-07 15:27:26.584\u001b[0m | \u001b[1mINFO    \u001b[0m | \u001b[36mvrp_study.pdptw_model.routing_model\u001b[0m:\u001b[36madd_time_window\u001b[0m:\u001b[36m195\u001b[0m - \u001b[1madd time\u001b[0m\n",
      "\u001b[32m2025-07-07 15:27:26.588\u001b[0m | \u001b[1mINFO    \u001b[0m | \u001b[36mvrp_study.pdptw_model.routing_model\u001b[0m:\u001b[36madd_mass_constraint\u001b[0m:\u001b[36m177\u001b[0m - \u001b[1mДобавление ограничений для массы\u001b[0m\n",
      "\u001b[32m2025-07-07 15:27:26.594\u001b[0m | \u001b[1mINFO    \u001b[0m | \u001b[36mvrp_study.solver\u001b[0m:\u001b[36msolve_routing\u001b[0m:\u001b[36m121\u001b[0m - \u001b[1mНачало решения\u001b[0m\n",
      "\u001b[32m2025-07-07 15:27:27.905\u001b[0m | \u001b[34m\u001b[1mDEBUG   \u001b[0m | \u001b[36mvrp_study.pdptw_model.routing_model\u001b[0m:\u001b[36m__call__\u001b[0m:\u001b[36m37\u001b[0m - \u001b[34m\u001b[1mfind new solution (1): 1107598, best solution: 1107598\u001b[0m\n",
      "\u001b[32m2025-07-07 15:27:27.916\u001b[0m | \u001b[34m\u001b[1mDEBUG   \u001b[0m | \u001b[36mvrp_study.pdptw_model.routing_model\u001b[0m:\u001b[36m__call__\u001b[0m:\u001b[36m37\u001b[0m - \u001b[34m\u001b[1mfind new solution (2): 1105306, best solution: 1105306\u001b[0m\n",
      "\u001b[32m2025-07-07 15:27:27.924\u001b[0m | \u001b[34m\u001b[1mDEBUG   \u001b[0m | \u001b[36mvrp_study.pdptw_model.routing_model\u001b[0m:\u001b[36m__call__\u001b[0m:\u001b[36m37\u001b[0m - \u001b[34m\u001b[1mfind new solution (3): 1105006, best solution: 1105006\u001b[0m\n",
      "\u001b[32m2025-07-07 15:27:27.936\u001b[0m | \u001b[34m\u001b[1mDEBUG   \u001b[0m | \u001b[36mvrp_study.pdptw_model.routing_model\u001b[0m:\u001b[36m__call__\u001b[0m:\u001b[36m37\u001b[0m - \u001b[34m\u001b[1mfind new solution (4): 1104764, best solution: 1104764\u001b[0m\n",
      "\u001b[32m2025-07-07 15:27:27.971\u001b[0m | \u001b[34m\u001b[1mDEBUG   \u001b[0m | \u001b[36mvrp_study.pdptw_model.routing_model\u001b[0m:\u001b[36m__call__\u001b[0m:\u001b[36m37\u001b[0m - \u001b[34m\u001b[1mfind new solution (5): 1100670, best solution: 1100670\u001b[0m\n",
      "\u001b[32m2025-07-07 15:27:27.996\u001b[0m | \u001b[34m\u001b[1mDEBUG   \u001b[0m | \u001b[36mvrp_study.pdptw_model.routing_model\u001b[0m:\u001b[36m__call__\u001b[0m:\u001b[36m37\u001b[0m - \u001b[34m\u001b[1mfind new solution (6): 1097794, best solution: 1097794\u001b[0m\n",
      "\u001b[32m2025-07-07 15:27:28.003\u001b[0m | \u001b[34m\u001b[1mDEBUG   \u001b[0m | \u001b[36mvrp_study.pdptw_model.routing_model\u001b[0m:\u001b[36m__call__\u001b[0m:\u001b[36m37\u001b[0m - \u001b[34m\u001b[1mfind new solution (7): 1091697, best solution: 1091697\u001b[0m\n",
      "\u001b[32m2025-07-07 15:27:28.012\u001b[0m | \u001b[34m\u001b[1mDEBUG   \u001b[0m | \u001b[36mvrp_study.pdptw_model.routing_model\u001b[0m:\u001b[36m__call__\u001b[0m:\u001b[36m37\u001b[0m - \u001b[34m\u001b[1mfind new solution (8): 1091586, best solution: 1091586\u001b[0m\n",
      "\u001b[32m2025-07-07 15:27:28.019\u001b[0m | \u001b[34m\u001b[1mDEBUG   \u001b[0m | \u001b[36mvrp_study.pdptw_model.routing_model\u001b[0m:\u001b[36m__call__\u001b[0m:\u001b[36m37\u001b[0m - \u001b[34m\u001b[1mfind new solution (9): 1091404, best solution: 1091404\u001b[0m\n",
      "\u001b[32m2025-07-07 15:27:28.051\u001b[0m | \u001b[34m\u001b[1mDEBUG   \u001b[0m | \u001b[36mvrp_study.pdptw_model.routing_model\u001b[0m:\u001b[36m__call__\u001b[0m:\u001b[36m37\u001b[0m - \u001b[34m\u001b[1mfind new solution (10): 1089505, best solution: 1089505\u001b[0m\n",
      "\u001b[32m2025-07-07 15:27:28.059\u001b[0m | \u001b[34m\u001b[1mDEBUG   \u001b[0m | \u001b[36mvrp_study.pdptw_model.routing_model\u001b[0m:\u001b[36m__call__\u001b[0m:\u001b[36m37\u001b[0m - \u001b[34m\u001b[1mfind new solution (11): 1089484, best solution: 1089484\u001b[0m\n",
      "\u001b[32m2025-07-07 15:27:28.066\u001b[0m | \u001b[34m\u001b[1mDEBUG   \u001b[0m | \u001b[36mvrp_study.pdptw_model.routing_model\u001b[0m:\u001b[36m__call__\u001b[0m:\u001b[36m37\u001b[0m - \u001b[34m\u001b[1mfind new solution (12): 1089466, best solution: 1089466\u001b[0m\n",
      "\u001b[32m2025-07-07 15:27:28.074\u001b[0m | \u001b[34m\u001b[1mDEBUG   \u001b[0m | \u001b[36mvrp_study.pdptw_model.routing_model\u001b[0m:\u001b[36m__call__\u001b[0m:\u001b[36m37\u001b[0m - \u001b[34m\u001b[1mfind new solution (13): 1089224, best solution: 1089224\u001b[0m\n",
      "\u001b[32m2025-07-07 15:27:28.083\u001b[0m | \u001b[34m\u001b[1mDEBUG   \u001b[0m | \u001b[36mvrp_study.pdptw_model.routing_model\u001b[0m:\u001b[36m__call__\u001b[0m:\u001b[36m37\u001b[0m - \u001b[34m\u001b[1mfind new solution (14): 1089222, best solution: 1089222\u001b[0m\n",
      "\u001b[32m2025-07-07 15:27:28.118\u001b[0m | \u001b[34m\u001b[1mDEBUG   \u001b[0m | \u001b[36mvrp_study.pdptw_model.routing_model\u001b[0m:\u001b[36m__call__\u001b[0m:\u001b[36m37\u001b[0m - \u001b[34m\u001b[1mfind new solution (15): 1089140, best solution: 1089140\u001b[0m\n",
      "\u001b[32m2025-07-07 15:27:28.138\u001b[0m | \u001b[34m\u001b[1mDEBUG   \u001b[0m | \u001b[36mvrp_study.pdptw_model.routing_model\u001b[0m:\u001b[36m__call__\u001b[0m:\u001b[36m37\u001b[0m - \u001b[34m\u001b[1mfind new solution (16): 1087110, best solution: 1087110\u001b[0m\n",
      "\u001b[32m2025-07-07 15:27:28.150\u001b[0m | \u001b[34m\u001b[1mDEBUG   \u001b[0m | \u001b[36mvrp_study.pdptw_model.routing_model\u001b[0m:\u001b[36m__call__\u001b[0m:\u001b[36m37\u001b[0m - \u001b[34m\u001b[1mfind new solution (17): 1085989, best solution: 1085989\u001b[0m\n",
      "\u001b[32m2025-07-07 15:27:28.164\u001b[0m | \u001b[34m\u001b[1mDEBUG   \u001b[0m | \u001b[36mvrp_study.pdptw_model.routing_model\u001b[0m:\u001b[36m__call__\u001b[0m:\u001b[36m37\u001b[0m - \u001b[34m\u001b[1mfind new solution (18): 1082954, best solution: 1082954\u001b[0m\n",
      "\u001b[32m2025-07-07 15:27:28.181\u001b[0m | \u001b[34m\u001b[1mDEBUG   \u001b[0m | \u001b[36mvrp_study.pdptw_model.routing_model\u001b[0m:\u001b[36m__call__\u001b[0m:\u001b[36m37\u001b[0m - \u001b[34m\u001b[1mfind new solution (19): 1079962, best solution: 1079962\u001b[0m\n",
      "\u001b[32m2025-07-07 15:27:28.191\u001b[0m | \u001b[34m\u001b[1mDEBUG   \u001b[0m | \u001b[36mvrp_study.pdptw_model.routing_model\u001b[0m:\u001b[36m__call__\u001b[0m:\u001b[36m37\u001b[0m - \u001b[34m\u001b[1mfind new solution (20): 1078808, best solution: 1078808\u001b[0m\n",
      "\u001b[32m2025-07-07 15:27:28.205\u001b[0m | \u001b[34m\u001b[1mDEBUG   \u001b[0m | \u001b[36mvrp_study.pdptw_model.routing_model\u001b[0m:\u001b[36m__call__\u001b[0m:\u001b[36m37\u001b[0m - \u001b[34m\u001b[1mfind new solution (21): 1078356, best solution: 1078356\u001b[0m\n",
      "\u001b[32m2025-07-07 15:27:28.215\u001b[0m | \u001b[34m\u001b[1mDEBUG   \u001b[0m | \u001b[36mvrp_study.pdptw_model.routing_model\u001b[0m:\u001b[36m__call__\u001b[0m:\u001b[36m37\u001b[0m - \u001b[34m\u001b[1mfind new solution (22): 1078306, best solution: 1078306\u001b[0m\n",
      "\u001b[32m2025-07-07 15:27:28.256\u001b[0m | \u001b[34m\u001b[1mDEBUG   \u001b[0m | \u001b[36mvrp_study.pdptw_model.routing_model\u001b[0m:\u001b[36m__call__\u001b[0m:\u001b[36m37\u001b[0m - \u001b[34m\u001b[1mfind new solution (23): 1075318, best solution: 1075318\u001b[0m\n",
      "\u001b[32m2025-07-07 15:27:28.300\u001b[0m | \u001b[34m\u001b[1mDEBUG   \u001b[0m | \u001b[36mvrp_study.pdptw_model.routing_model\u001b[0m:\u001b[36m__call__\u001b[0m:\u001b[36m37\u001b[0m - \u001b[34m\u001b[1mfind new solution (24): 1071091, best solution: 1071091\u001b[0m\n",
      "\u001b[32m2025-07-07 15:27:28.307\u001b[0m | \u001b[34m\u001b[1mDEBUG   \u001b[0m | \u001b[36mvrp_study.pdptw_model.routing_model\u001b[0m:\u001b[36m__call__\u001b[0m:\u001b[36m37\u001b[0m - \u001b[34m\u001b[1mfind new solution (25): 1070185, best solution: 1070185\u001b[0m\n",
      "\u001b[32m2025-07-07 15:27:28.316\u001b[0m | \u001b[34m\u001b[1mDEBUG   \u001b[0m | \u001b[36mvrp_study.pdptw_model.routing_model\u001b[0m:\u001b[36m__call__\u001b[0m:\u001b[36m37\u001b[0m - \u001b[34m\u001b[1mfind new solution (26): 1069697, best solution: 1069697\u001b[0m\n",
      "\u001b[32m2025-07-07 15:27:28.324\u001b[0m | \u001b[34m\u001b[1mDEBUG   \u001b[0m | \u001b[36mvrp_study.pdptw_model.routing_model\u001b[0m:\u001b[36m__call__\u001b[0m:\u001b[36m37\u001b[0m - \u001b[34m\u001b[1mfind new solution (27): 1068397, best solution: 1068397\u001b[0m\n",
      "\u001b[32m2025-07-07 15:27:28.332\u001b[0m | \u001b[34m\u001b[1mDEBUG   \u001b[0m | \u001b[36mvrp_study.pdptw_model.routing_model\u001b[0m:\u001b[36m__call__\u001b[0m:\u001b[36m37\u001b[0m - \u001b[34m\u001b[1mfind new solution (28): 1067674, best solution: 1067674\u001b[0m\n",
      "\u001b[32m2025-07-07 15:27:28.351\u001b[0m | \u001b[34m\u001b[1mDEBUG   \u001b[0m | \u001b[36mvrp_study.pdptw_model.routing_model\u001b[0m:\u001b[36m__call__\u001b[0m:\u001b[36m37\u001b[0m - \u001b[34m\u001b[1mfind new solution (29): 1066237, best solution: 1066237\u001b[0m\n",
      "\u001b[32m2025-07-07 15:27:28.362\u001b[0m | \u001b[34m\u001b[1mDEBUG   \u001b[0m | \u001b[36mvrp_study.pdptw_model.routing_model\u001b[0m:\u001b[36m__call__\u001b[0m:\u001b[36m37\u001b[0m - \u001b[34m\u001b[1mfind new solution (30): 1065228, best solution: 1065228\u001b[0m\n",
      "\u001b[32m2025-07-07 15:27:28.370\u001b[0m | \u001b[34m\u001b[1mDEBUG   \u001b[0m | \u001b[36mvrp_study.pdptw_model.routing_model\u001b[0m:\u001b[36m__call__\u001b[0m:\u001b[36m37\u001b[0m - \u001b[34m\u001b[1mfind new solution (31): 1062178, best solution: 1062178\u001b[0m\n",
      "\u001b[32m2025-07-07 15:27:28.378\u001b[0m | \u001b[34m\u001b[1mDEBUG   \u001b[0m | \u001b[36mvrp_study.pdptw_model.routing_model\u001b[0m:\u001b[36m__call__\u001b[0m:\u001b[36m37\u001b[0m - \u001b[34m\u001b[1mfind new solution (32): 1053874, best solution: 1053874\u001b[0m\n",
      "\u001b[32m2025-07-07 15:27:28.409\u001b[0m | \u001b[34m\u001b[1mDEBUG   \u001b[0m | \u001b[36mvrp_study.pdptw_model.routing_model\u001b[0m:\u001b[36m__call__\u001b[0m:\u001b[36m37\u001b[0m - \u001b[34m\u001b[1mfind new solution (33): 1053818, best solution: 1053818\u001b[0m\n",
      "\u001b[32m2025-07-07 15:27:28.420\u001b[0m | \u001b[34m\u001b[1mDEBUG   \u001b[0m | \u001b[36mvrp_study.pdptw_model.routing_model\u001b[0m:\u001b[36m__call__\u001b[0m:\u001b[36m37\u001b[0m - \u001b[34m\u001b[1mfind new solution (34): 1052188, best solution: 1052188\u001b[0m\n",
      "\u001b[32m2025-07-07 15:27:28.449\u001b[0m | \u001b[34m\u001b[1mDEBUG   \u001b[0m | \u001b[36mvrp_study.pdptw_model.routing_model\u001b[0m:\u001b[36m__call__\u001b[0m:\u001b[36m37\u001b[0m - \u001b[34m\u001b[1mfind new solution (35): 1049315, best solution: 1049315\u001b[0m\n",
      "\u001b[32m2025-07-07 15:27:28.514\u001b[0m | \u001b[34m\u001b[1mDEBUG   \u001b[0m | \u001b[36mvrp_study.pdptw_model.routing_model\u001b[0m:\u001b[36m__call__\u001b[0m:\u001b[36m37\u001b[0m - \u001b[34m\u001b[1mfind new solution (36): 1047794, best solution: 1047794\u001b[0m\n",
      "\u001b[32m2025-07-07 15:27:28.579\u001b[0m | \u001b[34m\u001b[1mDEBUG   \u001b[0m | \u001b[36mvrp_study.pdptw_model.routing_model\u001b[0m:\u001b[36m__call__\u001b[0m:\u001b[36m37\u001b[0m - \u001b[34m\u001b[1mfind new solution (37): 1047656, best solution: 1047656\u001b[0m\n",
      "\u001b[32m2025-07-07 15:27:28.596\u001b[0m | \u001b[34m\u001b[1mDEBUG   \u001b[0m | \u001b[36mvrp_study.pdptw_model.routing_model\u001b[0m:\u001b[36m__call__\u001b[0m:\u001b[36m37\u001b[0m - \u001b[34m\u001b[1mfind new solution (38): 1047614, best solution: 1047614\u001b[0m\n",
      "\u001b[32m2025-07-07 15:27:28.604\u001b[0m | \u001b[34m\u001b[1mDEBUG   \u001b[0m | \u001b[36mvrp_study.pdptw_model.routing_model\u001b[0m:\u001b[36m__call__\u001b[0m:\u001b[36m37\u001b[0m - \u001b[34m\u001b[1mfind new solution (39): 1047354, best solution: 1047354\u001b[0m\n",
      "\u001b[32m2025-07-07 15:27:28.612\u001b[0m | \u001b[34m\u001b[1mDEBUG   \u001b[0m | \u001b[36mvrp_study.pdptw_model.routing_model\u001b[0m:\u001b[36m__call__\u001b[0m:\u001b[36m37\u001b[0m - \u001b[34m\u001b[1mfind new solution (40): 1047278, best solution: 1047278\u001b[0m\n",
      "\u001b[32m2025-07-07 15:27:28.647\u001b[0m | \u001b[34m\u001b[1mDEBUG   \u001b[0m | \u001b[36mvrp_study.pdptw_model.routing_model\u001b[0m:\u001b[36m__call__\u001b[0m:\u001b[36m37\u001b[0m - \u001b[34m\u001b[1mfind new solution (41): 1047020, best solution: 1047020\u001b[0m\n",
      "\u001b[32m2025-07-07 15:27:28.655\u001b[0m | \u001b[34m\u001b[1mDEBUG   \u001b[0m | \u001b[36mvrp_study.pdptw_model.routing_model\u001b[0m:\u001b[36m__call__\u001b[0m:\u001b[36m37\u001b[0m - \u001b[34m\u001b[1mfind new solution (42): 1047000, best solution: 1047000\u001b[0m\n",
      "\u001b[32m2025-07-07 15:27:28.704\u001b[0m | \u001b[34m\u001b[1mDEBUG   \u001b[0m | \u001b[36mvrp_study.pdptw_model.routing_model\u001b[0m:\u001b[36m__call__\u001b[0m:\u001b[36m37\u001b[0m - \u001b[34m\u001b[1mfind new solution (43): 1045101, best solution: 1045101\u001b[0m\n",
      "\u001b[32m2025-07-07 15:27:28.711\u001b[0m | \u001b[34m\u001b[1mDEBUG   \u001b[0m | \u001b[36mvrp_study.pdptw_model.routing_model\u001b[0m:\u001b[36m__call__\u001b[0m:\u001b[36m37\u001b[0m - \u001b[34m\u001b[1mfind new solution (44): 1044936, best solution: 1044936\u001b[0m\n",
      "\u001b[32m2025-07-07 15:27:28.719\u001b[0m | \u001b[34m\u001b[1mDEBUG   \u001b[0m | \u001b[36mvrp_study.pdptw_model.routing_model\u001b[0m:\u001b[36m__call__\u001b[0m:\u001b[36m37\u001b[0m - \u001b[34m\u001b[1mfind new solution (45): 1044882, best solution: 1044882\u001b[0m\n",
      "\u001b[32m2025-07-07 15:27:28.727\u001b[0m | \u001b[34m\u001b[1mDEBUG   \u001b[0m | \u001b[36mvrp_study.pdptw_model.routing_model\u001b[0m:\u001b[36m__call__\u001b[0m:\u001b[36m37\u001b[0m - \u001b[34m\u001b[1mfind new solution (46): 1044473, best solution: 1044473\u001b[0m\n",
      "\u001b[32m2025-07-07 15:27:28.752\u001b[0m | \u001b[34m\u001b[1mDEBUG   \u001b[0m | \u001b[36mvrp_study.pdptw_model.routing_model\u001b[0m:\u001b[36m__call__\u001b[0m:\u001b[36m37\u001b[0m - \u001b[34m\u001b[1mfind new solution (47): 1041812, best solution: 1041812\u001b[0m\n",
      "\u001b[32m2025-07-07 15:27:28.759\u001b[0m | \u001b[34m\u001b[1mDEBUG   \u001b[0m | \u001b[36mvrp_study.pdptw_model.routing_model\u001b[0m:\u001b[36m__call__\u001b[0m:\u001b[36m37\u001b[0m - \u001b[34m\u001b[1mfind new solution (48): 1040664, best solution: 1040664\u001b[0m\n",
      "\u001b[32m2025-07-07 15:27:28.768\u001b[0m | \u001b[34m\u001b[1mDEBUG   \u001b[0m | \u001b[36mvrp_study.pdptw_model.routing_model\u001b[0m:\u001b[36m__call__\u001b[0m:\u001b[36m37\u001b[0m - \u001b[34m\u001b[1mfind new solution (49): 1039778, best solution: 1039778\u001b[0m\n",
      "\u001b[32m2025-07-07 15:27:28.799\u001b[0m | \u001b[34m\u001b[1mDEBUG   \u001b[0m | \u001b[36mvrp_study.pdptw_model.routing_model\u001b[0m:\u001b[36m__call__\u001b[0m:\u001b[36m37\u001b[0m - \u001b[34m\u001b[1mfind new solution (50): 1034858, best solution: 1034858\u001b[0m\n",
      "\u001b[32m2025-07-07 15:27:28.806\u001b[0m | \u001b[34m\u001b[1mDEBUG   \u001b[0m | \u001b[36mvrp_study.pdptw_model.routing_model\u001b[0m:\u001b[36m__call__\u001b[0m:\u001b[36m37\u001b[0m - \u001b[34m\u001b[1mfind new solution (51): 1034518, best solution: 1034518\u001b[0m\n",
      "\u001b[32m2025-07-07 15:27:28.815\u001b[0m | \u001b[34m\u001b[1mDEBUG   \u001b[0m | \u001b[36mvrp_study.pdptw_model.routing_model\u001b[0m:\u001b[36m__call__\u001b[0m:\u001b[36m37\u001b[0m - \u001b[34m\u001b[1mfind new solution (52): 1033244, best solution: 1033244\u001b[0m\n",
      "\u001b[32m2025-07-07 15:27:28.822\u001b[0m | \u001b[34m\u001b[1mDEBUG   \u001b[0m | \u001b[36mvrp_study.pdptw_model.routing_model\u001b[0m:\u001b[36m__call__\u001b[0m:\u001b[36m37\u001b[0m - \u001b[34m\u001b[1mfind new solution (53): 1033195, best solution: 1033195\u001b[0m\n",
      "\u001b[32m2025-07-07 15:27:28.830\u001b[0m | \u001b[34m\u001b[1mDEBUG   \u001b[0m | \u001b[36mvrp_study.pdptw_model.routing_model\u001b[0m:\u001b[36m__call__\u001b[0m:\u001b[36m37\u001b[0m - \u001b[34m\u001b[1mfind new solution (54): 1033093, best solution: 1033093\u001b[0m\n",
      "\u001b[32m2025-07-07 15:27:28.837\u001b[0m | \u001b[34m\u001b[1mDEBUG   \u001b[0m | \u001b[36mvrp_study.pdptw_model.routing_model\u001b[0m:\u001b[36m__call__\u001b[0m:\u001b[36m37\u001b[0m - \u001b[34m\u001b[1mfind new solution (55): 1032685, best solution: 1032685\u001b[0m\n",
      "\u001b[32m2025-07-07 15:27:28.850\u001b[0m | \u001b[34m\u001b[1mDEBUG   \u001b[0m | \u001b[36mvrp_study.pdptw_model.routing_model\u001b[0m:\u001b[36m__call__\u001b[0m:\u001b[36m37\u001b[0m - \u001b[34m\u001b[1mfind new solution (56): 1032463, best solution: 1032463\u001b[0m\n",
      "\u001b[32m2025-07-07 15:27:28.878\u001b[0m | \u001b[34m\u001b[1mDEBUG   \u001b[0m | \u001b[36mvrp_study.pdptw_model.routing_model\u001b[0m:\u001b[36m__call__\u001b[0m:\u001b[36m37\u001b[0m - \u001b[34m\u001b[1mfind new solution (57): 1032417, best solution: 1032417\u001b[0m\n",
      "\u001b[32m2025-07-07 15:27:28.892\u001b[0m | \u001b[34m\u001b[1mDEBUG   \u001b[0m | \u001b[36mvrp_study.pdptw_model.routing_model\u001b[0m:\u001b[36m__call__\u001b[0m:\u001b[36m37\u001b[0m - \u001b[34m\u001b[1mfind new solution (58): 1032240, best solution: 1032240\u001b[0m\n",
      "\u001b[32m2025-07-07 15:27:28.954\u001b[0m | \u001b[34m\u001b[1mDEBUG   \u001b[0m | \u001b[36mvrp_study.pdptw_model.routing_model\u001b[0m:\u001b[36m__call__\u001b[0m:\u001b[36m37\u001b[0m - \u001b[34m\u001b[1mfind new solution (59): 1032200, best solution: 1032200\u001b[0m\n",
      "\u001b[32m2025-07-07 15:27:29.004\u001b[0m | \u001b[34m\u001b[1mDEBUG   \u001b[0m | \u001b[36mvrp_study.pdptw_model.routing_model\u001b[0m:\u001b[36m__call__\u001b[0m:\u001b[36m37\u001b[0m - \u001b[34m\u001b[1mfind new solution (60): 1031826, best solution: 1031826\u001b[0m\n",
      "\u001b[32m2025-07-07 15:27:29.012\u001b[0m | \u001b[34m\u001b[1mDEBUG   \u001b[0m | \u001b[36mvrp_study.pdptw_model.routing_model\u001b[0m:\u001b[36m__call__\u001b[0m:\u001b[36m37\u001b[0m - \u001b[34m\u001b[1mfind new solution (61): 1030915, best solution: 1030915\u001b[0m\n",
      "\u001b[32m2025-07-07 15:27:29.022\u001b[0m | \u001b[34m\u001b[1mDEBUG   \u001b[0m | \u001b[36mvrp_study.pdptw_model.routing_model\u001b[0m:\u001b[36m__call__\u001b[0m:\u001b[36m37\u001b[0m - \u001b[34m\u001b[1mfind new solution (62): 1030705, best solution: 1030705\u001b[0m\n",
      "\u001b[32m2025-07-07 15:27:29.108\u001b[0m | \u001b[34m\u001b[1mDEBUG   \u001b[0m | \u001b[36mvrp_study.pdptw_model.routing_model\u001b[0m:\u001b[36m__call__\u001b[0m:\u001b[36m37\u001b[0m - \u001b[34m\u001b[1mfind new solution (63): 1029150, best solution: 1029150\u001b[0m\n",
      "\u001b[32m2025-07-07 15:27:29.119\u001b[0m | \u001b[34m\u001b[1mDEBUG   \u001b[0m | \u001b[36mvrp_study.pdptw_model.routing_model\u001b[0m:\u001b[36m__call__\u001b[0m:\u001b[36m37\u001b[0m - \u001b[34m\u001b[1mfind new solution (64): 1028119, best solution: 1028119\u001b[0m\n",
      "\u001b[32m2025-07-07 15:27:29.126\u001b[0m | \u001b[34m\u001b[1mDEBUG   \u001b[0m | \u001b[36mvrp_study.pdptw_model.routing_model\u001b[0m:\u001b[36m__call__\u001b[0m:\u001b[36m37\u001b[0m - \u001b[34m\u001b[1mfind new solution (65): 1027620, best solution: 1027620\u001b[0m\n",
      "\u001b[32m2025-07-07 15:27:29.133\u001b[0m | \u001b[34m\u001b[1mDEBUG   \u001b[0m | \u001b[36mvrp_study.pdptw_model.routing_model\u001b[0m:\u001b[36m__call__\u001b[0m:\u001b[36m37\u001b[0m - \u001b[34m\u001b[1mfind new solution (66): 1027194, best solution: 1027194\u001b[0m\n",
      "\u001b[32m2025-07-07 15:27:29.200\u001b[0m | \u001b[34m\u001b[1mDEBUG   \u001b[0m | \u001b[36mvrp_study.pdptw_model.routing_model\u001b[0m:\u001b[36m__call__\u001b[0m:\u001b[36m37\u001b[0m - \u001b[34m\u001b[1mfind new solution (67): 1027134, best solution: 1027134\u001b[0m\n",
      "\u001b[32m2025-07-07 15:27:29.226\u001b[0m | \u001b[34m\u001b[1mDEBUG   \u001b[0m | \u001b[36mvrp_study.pdptw_model.routing_model\u001b[0m:\u001b[36m__call__\u001b[0m:\u001b[36m37\u001b[0m - \u001b[34m\u001b[1mfind new solution (68): 1020340, best solution: 1020340\u001b[0m\n",
      "\u001b[32m2025-07-07 15:27:29.234\u001b[0m | \u001b[34m\u001b[1mDEBUG   \u001b[0m | \u001b[36mvrp_study.pdptw_model.routing_model\u001b[0m:\u001b[36m__call__\u001b[0m:\u001b[36m37\u001b[0m - \u001b[34m\u001b[1mfind new solution (69): 1019987, best solution: 1019987\u001b[0m\n",
      "\u001b[32m2025-07-07 15:27:29.262\u001b[0m | \u001b[34m\u001b[1mDEBUG   \u001b[0m | \u001b[36mvrp_study.pdptw_model.routing_model\u001b[0m:\u001b[36m__call__\u001b[0m:\u001b[36m37\u001b[0m - \u001b[34m\u001b[1mfind new solution (70): 1019509, best solution: 1019509\u001b[0m\n",
      "\u001b[32m2025-07-07 15:27:29.328\u001b[0m | \u001b[34m\u001b[1mDEBUG   \u001b[0m | \u001b[36mvrp_study.pdptw_model.routing_model\u001b[0m:\u001b[36m__call__\u001b[0m:\u001b[36m37\u001b[0m - \u001b[34m\u001b[1mfind new solution (71): 1019295, best solution: 1019295\u001b[0m\n",
      "\u001b[32m2025-07-07 15:27:29.353\u001b[0m | \u001b[34m\u001b[1mDEBUG   \u001b[0m | \u001b[36mvrp_study.pdptw_model.routing_model\u001b[0m:\u001b[36m__call__\u001b[0m:\u001b[36m37\u001b[0m - \u001b[34m\u001b[1mfind new solution (72): 1018625, best solution: 1018625\u001b[0m\n",
      "\u001b[32m2025-07-07 15:27:29.576\u001b[0m | \u001b[34m\u001b[1mDEBUG   \u001b[0m | \u001b[36mvrp_study.pdptw_model.routing_model\u001b[0m:\u001b[36m__call__\u001b[0m:\u001b[36m37\u001b[0m - \u001b[34m\u001b[1mfind new solution (73): 1016490, best solution: 1016490\u001b[0m\n",
      "\u001b[32m2025-07-07 15:27:29.769\u001b[0m | \u001b[34m\u001b[1mDEBUG   \u001b[0m | \u001b[36mvrp_study.pdptw_model.routing_model\u001b[0m:\u001b[36m__call__\u001b[0m:\u001b[36m37\u001b[0m - \u001b[34m\u001b[1mfind new solution (74): 1016472, best solution: 1016472\u001b[0m\n",
      "\u001b[32m2025-07-07 15:27:29.777\u001b[0m | \u001b[34m\u001b[1mDEBUG   \u001b[0m | \u001b[36mvrp_study.pdptw_model.routing_model\u001b[0m:\u001b[36m__call__\u001b[0m:\u001b[36m37\u001b[0m - \u001b[34m\u001b[1mfind new solution (75): 1016407, best solution: 1016407\u001b[0m\n",
      "\u001b[32m2025-07-07 15:27:29.811\u001b[0m | \u001b[34m\u001b[1mDEBUG   \u001b[0m | \u001b[36mvrp_study.pdptw_model.routing_model\u001b[0m:\u001b[36m__call__\u001b[0m:\u001b[36m37\u001b[0m - \u001b[34m\u001b[1mfind new solution (76): 1016315, best solution: 1016315\u001b[0m\n",
      "\u001b[32m2025-07-07 15:27:29.819\u001b[0m | \u001b[34m\u001b[1mDEBUG   \u001b[0m | \u001b[36mvrp_study.pdptw_model.routing_model\u001b[0m:\u001b[36m__call__\u001b[0m:\u001b[36m37\u001b[0m - \u001b[34m\u001b[1mfind new solution (77): 1015792, best solution: 1015792\u001b[0m\n",
      "\u001b[32m2025-07-07 15:27:29.826\u001b[0m | \u001b[34m\u001b[1mDEBUG   \u001b[0m | \u001b[36mvrp_study.pdptw_model.routing_model\u001b[0m:\u001b[36m__call__\u001b[0m:\u001b[36m37\u001b[0m - \u001b[34m\u001b[1mfind new solution (78): 1015791, best solution: 1015791\u001b[0m\n",
      "\u001b[32m2025-07-07 15:27:29.833\u001b[0m | \u001b[34m\u001b[1mDEBUG   \u001b[0m | \u001b[36mvrp_study.pdptw_model.routing_model\u001b[0m:\u001b[36m__call__\u001b[0m:\u001b[36m37\u001b[0m - \u001b[34m\u001b[1mfind new solution (79): 1015431, best solution: 1015431\u001b[0m\n",
      "\u001b[32m2025-07-07 15:27:29.866\u001b[0m | \u001b[34m\u001b[1mDEBUG   \u001b[0m | \u001b[36mvrp_study.pdptw_model.routing_model\u001b[0m:\u001b[36m__call__\u001b[0m:\u001b[36m37\u001b[0m - \u001b[34m\u001b[1mfind new solution (80): 1015279, best solution: 1015279\u001b[0m\n",
      "\u001b[32m2025-07-07 15:27:29.874\u001b[0m | \u001b[34m\u001b[1mDEBUG   \u001b[0m | \u001b[36mvrp_study.pdptw_model.routing_model\u001b[0m:\u001b[36m__call__\u001b[0m:\u001b[36m37\u001b[0m - \u001b[34m\u001b[1mfind new solution (81): 1014771, best solution: 1014771\u001b[0m\n",
      "\u001b[32m2025-07-07 15:27:29.882\u001b[0m | \u001b[34m\u001b[1mDEBUG   \u001b[0m | \u001b[36mvrp_study.pdptw_model.routing_model\u001b[0m:\u001b[36m__call__\u001b[0m:\u001b[36m37\u001b[0m - \u001b[34m\u001b[1mfind new solution (82): 1014656, best solution: 1014656\u001b[0m\n",
      "\u001b[32m2025-07-07 15:27:29.916\u001b[0m | \u001b[34m\u001b[1mDEBUG   \u001b[0m | \u001b[36mvrp_study.pdptw_model.routing_model\u001b[0m:\u001b[36m__call__\u001b[0m:\u001b[36m37\u001b[0m - \u001b[34m\u001b[1mfind new solution (83): 1014236, best solution: 1014236\u001b[0m\n",
      "\u001b[32m2025-07-07 15:27:29.949\u001b[0m | \u001b[34m\u001b[1mDEBUG   \u001b[0m | \u001b[36mvrp_study.pdptw_model.routing_model\u001b[0m:\u001b[36m__call__\u001b[0m:\u001b[36m37\u001b[0m - \u001b[34m\u001b[1mfind new solution (84): 1011958, best solution: 1011958\u001b[0m\n",
      "\u001b[32m2025-07-07 15:27:29.957\u001b[0m | \u001b[34m\u001b[1mDEBUG   \u001b[0m | \u001b[36mvrp_study.pdptw_model.routing_model\u001b[0m:\u001b[36m__call__\u001b[0m:\u001b[36m37\u001b[0m - \u001b[34m\u001b[1mfind new solution (85): 1010668, best solution: 1010668\u001b[0m\n",
      "\u001b[32m2025-07-07 15:27:29.964\u001b[0m | \u001b[34m\u001b[1mDEBUG   \u001b[0m | \u001b[36mvrp_study.pdptw_model.routing_model\u001b[0m:\u001b[36m__call__\u001b[0m:\u001b[36m37\u001b[0m - \u001b[34m\u001b[1mfind new solution (86): 1010406, best solution: 1010406\u001b[0m\n",
      "\u001b[32m2025-07-07 15:27:29.971\u001b[0m | \u001b[34m\u001b[1mDEBUG   \u001b[0m | \u001b[36mvrp_study.pdptw_model.routing_model\u001b[0m:\u001b[36m__call__\u001b[0m:\u001b[36m37\u001b[0m - \u001b[34m\u001b[1mfind new solution (87): 1010255, best solution: 1010255\u001b[0m\n",
      "\u001b[32m2025-07-07 15:27:29.993\u001b[0m | \u001b[34m\u001b[1mDEBUG   \u001b[0m | \u001b[36mvrp_study.pdptw_model.routing_model\u001b[0m:\u001b[36m__call__\u001b[0m:\u001b[36m37\u001b[0m - \u001b[34m\u001b[1mfind new solution (88): 1010164, best solution: 1010164\u001b[0m\n",
      "\u001b[32m2025-07-07 15:27:30.097\u001b[0m | \u001b[34m\u001b[1mDEBUG   \u001b[0m | \u001b[36mvrp_study.pdptw_model.routing_model\u001b[0m:\u001b[36m__call__\u001b[0m:\u001b[36m37\u001b[0m - \u001b[34m\u001b[1mfind new solution (89): 1010137, best solution: 1010137\u001b[0m\n",
      "\u001b[32m2025-07-07 15:27:30.104\u001b[0m | \u001b[34m\u001b[1mDEBUG   \u001b[0m | \u001b[36mvrp_study.pdptw_model.routing_model\u001b[0m:\u001b[36m__call__\u001b[0m:\u001b[36m37\u001b[0m - \u001b[34m\u001b[1mfind new solution (90): 1010109, best solution: 1010109\u001b[0m\n",
      "\u001b[32m2025-07-07 15:27:30.113\u001b[0m | \u001b[34m\u001b[1mDEBUG   \u001b[0m | \u001b[36mvrp_study.pdptw_model.routing_model\u001b[0m:\u001b[36m__call__\u001b[0m:\u001b[36m37\u001b[0m - \u001b[34m\u001b[1mfind new solution (91): 1003998, best solution: 1003998\u001b[0m\n",
      "\u001b[32m2025-07-07 15:27:30.121\u001b[0m | \u001b[34m\u001b[1mDEBUG   \u001b[0m | \u001b[36mvrp_study.pdptw_model.routing_model\u001b[0m:\u001b[36m__call__\u001b[0m:\u001b[36m37\u001b[0m - \u001b[34m\u001b[1mfind new solution (92): 1003917, best solution: 1003917\u001b[0m\n",
      "\u001b[32m2025-07-07 15:27:30.129\u001b[0m | \u001b[34m\u001b[1mDEBUG   \u001b[0m | \u001b[36mvrp_study.pdptw_model.routing_model\u001b[0m:\u001b[36m__call__\u001b[0m:\u001b[36m37\u001b[0m - \u001b[34m\u001b[1mfind new solution (93): 1003816, best solution: 1003816\u001b[0m\n",
      "\u001b[32m2025-07-07 15:27:30.136\u001b[0m | \u001b[34m\u001b[1mDEBUG   \u001b[0m | \u001b[36mvrp_study.pdptw_model.routing_model\u001b[0m:\u001b[36m__call__\u001b[0m:\u001b[36m37\u001b[0m - \u001b[34m\u001b[1mfind new solution (94): 1003556, best solution: 1003556\u001b[0m\n",
      "\u001b[32m2025-07-07 15:27:30.249\u001b[0m | \u001b[34m\u001b[1mDEBUG   \u001b[0m | \u001b[36mvrp_study.pdptw_model.routing_model\u001b[0m:\u001b[36m__call__\u001b[0m:\u001b[36m37\u001b[0m - \u001b[34m\u001b[1mfind new solution (95): 1003168, best solution: 1003168\u001b[0m\n",
      "\u001b[32m2025-07-07 15:27:30.263\u001b[0m | \u001b[34m\u001b[1mDEBUG   \u001b[0m | \u001b[36mvrp_study.pdptw_model.routing_model\u001b[0m:\u001b[36m__call__\u001b[0m:\u001b[36m37\u001b[0m - \u001b[34m\u001b[1mfind new solution (96): 998963, best solution: 998963\u001b[0m\n",
      "\u001b[32m2025-07-07 15:27:30.270\u001b[0m | \u001b[34m\u001b[1mDEBUG   \u001b[0m | \u001b[36mvrp_study.pdptw_model.routing_model\u001b[0m:\u001b[36m__call__\u001b[0m:\u001b[36m37\u001b[0m - \u001b[34m\u001b[1mfind new solution (97): 998438, best solution: 998438\u001b[0m\n",
      "\u001b[32m2025-07-07 15:27:30.278\u001b[0m | \u001b[34m\u001b[1mDEBUG   \u001b[0m | \u001b[36mvrp_study.pdptw_model.routing_model\u001b[0m:\u001b[36m__call__\u001b[0m:\u001b[36m37\u001b[0m - \u001b[34m\u001b[1mfind new solution (98): 998252, best solution: 998252\u001b[0m\n",
      "\u001b[32m2025-07-07 15:27:30.285\u001b[0m | \u001b[34m\u001b[1mDEBUG   \u001b[0m | \u001b[36mvrp_study.pdptw_model.routing_model\u001b[0m:\u001b[36m__call__\u001b[0m:\u001b[36m37\u001b[0m - \u001b[34m\u001b[1mfind new solution (99): 998140, best solution: 998140\u001b[0m\n",
      "\u001b[32m2025-07-07 15:27:30.293\u001b[0m | \u001b[34m\u001b[1mDEBUG   \u001b[0m | \u001b[36mvrp_study.pdptw_model.routing_model\u001b[0m:\u001b[36m__call__\u001b[0m:\u001b[36m37\u001b[0m - \u001b[34m\u001b[1mfind new solution (100): 997853, best solution: 997853\u001b[0m\n",
      "\u001b[32m2025-07-07 15:27:30.326\u001b[0m | \u001b[34m\u001b[1mDEBUG   \u001b[0m | \u001b[36mvrp_study.pdptw_model.routing_model\u001b[0m:\u001b[36m__call__\u001b[0m:\u001b[36m37\u001b[0m - \u001b[34m\u001b[1mfind new solution (101): 997831, best solution: 997831\u001b[0m\n",
      "\u001b[32m2025-07-07 15:27:30.334\u001b[0m | \u001b[34m\u001b[1mDEBUG   \u001b[0m | \u001b[36mvrp_study.pdptw_model.routing_model\u001b[0m:\u001b[36m__call__\u001b[0m:\u001b[36m37\u001b[0m - \u001b[34m\u001b[1mfind new solution (102): 997784, best solution: 997784\u001b[0m\n",
      "\u001b[32m2025-07-07 15:27:30.340\u001b[0m | \u001b[34m\u001b[1mDEBUG   \u001b[0m | \u001b[36mvrp_study.pdptw_model.routing_model\u001b[0m:\u001b[36m__call__\u001b[0m:\u001b[36m37\u001b[0m - \u001b[34m\u001b[1mfind new solution (103): 997566, best solution: 997566\u001b[0m\n",
      "\u001b[32m2025-07-07 15:27:30.375\u001b[0m | \u001b[34m\u001b[1mDEBUG   \u001b[0m | \u001b[36mvrp_study.pdptw_model.routing_model\u001b[0m:\u001b[36m__call__\u001b[0m:\u001b[36m37\u001b[0m - \u001b[34m\u001b[1mfind new solution (104): 997551, best solution: 997551\u001b[0m\n",
      "\u001b[32m2025-07-07 15:27:30.391\u001b[0m | \u001b[34m\u001b[1mDEBUG   \u001b[0m | \u001b[36mvrp_study.pdptw_model.routing_model\u001b[0m:\u001b[36m__call__\u001b[0m:\u001b[36m37\u001b[0m - \u001b[34m\u001b[1mfind new solution (105): 992874, best solution: 992874\u001b[0m\n",
      "\u001b[32m2025-07-07 15:27:30.399\u001b[0m | \u001b[34m\u001b[1mDEBUG   \u001b[0m | \u001b[36mvrp_study.pdptw_model.routing_model\u001b[0m:\u001b[36m__call__\u001b[0m:\u001b[36m37\u001b[0m - \u001b[34m\u001b[1mfind new solution (106): 992691, best solution: 992691\u001b[0m\n",
      "\u001b[32m2025-07-07 15:27:30.406\u001b[0m | \u001b[34m\u001b[1mDEBUG   \u001b[0m | \u001b[36mvrp_study.pdptw_model.routing_model\u001b[0m:\u001b[36m__call__\u001b[0m:\u001b[36m37\u001b[0m - \u001b[34m\u001b[1mfind new solution (107): 992681, best solution: 992681\u001b[0m\n",
      "\u001b[32m2025-07-07 15:27:30.415\u001b[0m | \u001b[34m\u001b[1mDEBUG   \u001b[0m | \u001b[36mvrp_study.pdptw_model.routing_model\u001b[0m:\u001b[36m__call__\u001b[0m:\u001b[36m37\u001b[0m - \u001b[34m\u001b[1mfind new solution (108): 992621, best solution: 992621\u001b[0m\n",
      "\u001b[32m2025-07-07 15:27:30.529\u001b[0m | \u001b[34m\u001b[1mDEBUG   \u001b[0m | \u001b[36mvrp_study.pdptw_model.routing_model\u001b[0m:\u001b[36m__call__\u001b[0m:\u001b[36m37\u001b[0m - \u001b[34m\u001b[1mfind new solution (109): 992524, best solution: 992524\u001b[0m\n",
      "\u001b[32m2025-07-07 15:27:30.561\u001b[0m | \u001b[34m\u001b[1mDEBUG   \u001b[0m | \u001b[36mvrp_study.pdptw_model.routing_model\u001b[0m:\u001b[36m__call__\u001b[0m:\u001b[36m37\u001b[0m - \u001b[34m\u001b[1mfind new solution (110): 986801, best solution: 986801\u001b[0m\n",
      "\u001b[32m2025-07-07 15:27:30.585\u001b[0m | \u001b[34m\u001b[1mDEBUG   \u001b[0m | \u001b[36mvrp_study.pdptw_model.routing_model\u001b[0m:\u001b[36m__call__\u001b[0m:\u001b[36m37\u001b[0m - \u001b[34m\u001b[1mfind new solution (111): 986722, best solution: 986722\u001b[0m\n",
      "\u001b[32m2025-07-07 15:27:30.592\u001b[0m | \u001b[34m\u001b[1mDEBUG   \u001b[0m | \u001b[36mvrp_study.pdptw_model.routing_model\u001b[0m:\u001b[36m__call__\u001b[0m:\u001b[36m37\u001b[0m - \u001b[34m\u001b[1mfind new solution (112): 986634, best solution: 986634\u001b[0m\n",
      "\u001b[32m2025-07-07 15:27:30.600\u001b[0m | \u001b[34m\u001b[1mDEBUG   \u001b[0m | \u001b[36mvrp_study.pdptw_model.routing_model\u001b[0m:\u001b[36m__call__\u001b[0m:\u001b[36m37\u001b[0m - \u001b[34m\u001b[1mfind new solution (113): 986354, best solution: 986354\u001b[0m\n",
      "\u001b[32m2025-07-07 15:27:30.607\u001b[0m | \u001b[34m\u001b[1mDEBUG   \u001b[0m | \u001b[36mvrp_study.pdptw_model.routing_model\u001b[0m:\u001b[36m__call__\u001b[0m:\u001b[36m37\u001b[0m - \u001b[34m\u001b[1mfind new solution (114): 986187, best solution: 986187\u001b[0m\n",
      "\u001b[32m2025-07-07 15:27:30.616\u001b[0m | \u001b[34m\u001b[1mDEBUG   \u001b[0m | \u001b[36mvrp_study.pdptw_model.routing_model\u001b[0m:\u001b[36m__call__\u001b[0m:\u001b[36m37\u001b[0m - \u001b[34m\u001b[1mfind new solution (115): 985947, best solution: 985947\u001b[0m\n",
      "\u001b[32m2025-07-07 15:27:30.624\u001b[0m | \u001b[34m\u001b[1mDEBUG   \u001b[0m | \u001b[36mvrp_study.pdptw_model.routing_model\u001b[0m:\u001b[36m__call__\u001b[0m:\u001b[36m37\u001b[0m - \u001b[34m\u001b[1mfind new solution (116): 985898, best solution: 985898\u001b[0m\n",
      "\u001b[32m2025-07-07 15:27:30.876\u001b[0m | \u001b[34m\u001b[1mDEBUG   \u001b[0m | \u001b[36mvrp_study.pdptw_model.routing_model\u001b[0m:\u001b[36m__call__\u001b[0m:\u001b[36m37\u001b[0m - \u001b[34m\u001b[1mfind new solution (117): 979544, best solution: 979544\u001b[0m\n",
      "\u001b[32m2025-07-07 15:27:30.884\u001b[0m | \u001b[34m\u001b[1mDEBUG   \u001b[0m | \u001b[36mvrp_study.pdptw_model.routing_model\u001b[0m:\u001b[36m__call__\u001b[0m:\u001b[36m37\u001b[0m - \u001b[34m\u001b[1mfind new solution (118): 979246, best solution: 979246\u001b[0m\n",
      "\u001b[32m2025-07-07 15:27:30.891\u001b[0m | \u001b[34m\u001b[1mDEBUG   \u001b[0m | \u001b[36mvrp_study.pdptw_model.routing_model\u001b[0m:\u001b[36m__call__\u001b[0m:\u001b[36m37\u001b[0m - \u001b[34m\u001b[1mfind new solution (119): 978653, best solution: 978653\u001b[0m\n",
      "\u001b[32m2025-07-07 15:27:30.908\u001b[0m | \u001b[34m\u001b[1mDEBUG   \u001b[0m | \u001b[36mvrp_study.pdptw_model.routing_model\u001b[0m:\u001b[36m__call__\u001b[0m:\u001b[36m37\u001b[0m - \u001b[34m\u001b[1mfind new solution (120): 978328, best solution: 978328\u001b[0m\n",
      "\u001b[32m2025-07-07 15:27:31.164\u001b[0m | \u001b[34m\u001b[1mDEBUG   \u001b[0m | \u001b[36mvrp_study.pdptw_model.routing_model\u001b[0m:\u001b[36m__call__\u001b[0m:\u001b[36m37\u001b[0m - \u001b[34m\u001b[1mfind new solution (121): 971722, best solution: 971722\u001b[0m\n",
      "\u001b[32m2025-07-07 15:27:31.204\u001b[0m | \u001b[34m\u001b[1mDEBUG   \u001b[0m | \u001b[36mvrp_study.pdptw_model.routing_model\u001b[0m:\u001b[36m__call__\u001b[0m:\u001b[36m37\u001b[0m - \u001b[34m\u001b[1mfind new solution (122): 971557, best solution: 971557\u001b[0m\n",
      "\u001b[32m2025-07-07 15:27:31.220\u001b[0m | \u001b[34m\u001b[1mDEBUG   \u001b[0m | \u001b[36mvrp_study.pdptw_model.routing_model\u001b[0m:\u001b[36m__call__\u001b[0m:\u001b[36m37\u001b[0m - \u001b[34m\u001b[1mfind new solution (123): 968565, best solution: 968565\u001b[0m\n",
      "\u001b[32m2025-07-07 15:27:31.228\u001b[0m | \u001b[34m\u001b[1mDEBUG   \u001b[0m | \u001b[36mvrp_study.pdptw_model.routing_model\u001b[0m:\u001b[36m__call__\u001b[0m:\u001b[36m37\u001b[0m - \u001b[34m\u001b[1mfind new solution (124): 967411, best solution: 967411\u001b[0m\n",
      "\u001b[32m2025-07-07 15:27:31.346\u001b[0m | \u001b[34m\u001b[1mDEBUG   \u001b[0m | \u001b[36mvrp_study.pdptw_model.routing_model\u001b[0m:\u001b[36m__call__\u001b[0m:\u001b[36m37\u001b[0m - \u001b[34m\u001b[1mfind new solution (125): 967398, best solution: 967398\u001b[0m\n",
      "\u001b[32m2025-07-07 15:27:31.590\u001b[0m | \u001b[34m\u001b[1mDEBUG   \u001b[0m | \u001b[36mvrp_study.pdptw_model.routing_model\u001b[0m:\u001b[36m__call__\u001b[0m:\u001b[36m37\u001b[0m - \u001b[34m\u001b[1mfind new solution (126): 967325, best solution: 967325\u001b[0m\n",
      "\u001b[32m2025-07-07 15:27:31.606\u001b[0m | \u001b[34m\u001b[1mDEBUG   \u001b[0m | \u001b[36mvrp_study.pdptw_model.routing_model\u001b[0m:\u001b[36m__call__\u001b[0m:\u001b[36m37\u001b[0m - \u001b[34m\u001b[1mfind new solution (127): 955506, best solution: 955506\u001b[0m\n",
      "\u001b[32m2025-07-07 15:27:31.638\u001b[0m | \u001b[34m\u001b[1mDEBUG   \u001b[0m | \u001b[36mvrp_study.pdptw_model.routing_model\u001b[0m:\u001b[36m__call__\u001b[0m:\u001b[36m37\u001b[0m - \u001b[34m\u001b[1mfind new solution (128): 955243, best solution: 955243\u001b[0m\n",
      "\u001b[32m2025-07-07 15:27:31.646\u001b[0m | \u001b[34m\u001b[1mDEBUG   \u001b[0m | \u001b[36mvrp_study.pdptw_model.routing_model\u001b[0m:\u001b[36m__call__\u001b[0m:\u001b[36m37\u001b[0m - \u001b[34m\u001b[1mfind new solution (129): 955063, best solution: 955063\u001b[0m\n",
      "\u001b[32m2025-07-07 15:27:31.653\u001b[0m | \u001b[34m\u001b[1mDEBUG   \u001b[0m | \u001b[36mvrp_study.pdptw_model.routing_model\u001b[0m:\u001b[36m__call__\u001b[0m:\u001b[36m37\u001b[0m - \u001b[34m\u001b[1mfind new solution (130): 954759, best solution: 954759\u001b[0m\n",
      "\u001b[32m2025-07-07 15:27:31.682\u001b[0m | \u001b[34m\u001b[1mDEBUG   \u001b[0m | \u001b[36mvrp_study.pdptw_model.routing_model\u001b[0m:\u001b[36m__call__\u001b[0m:\u001b[36m37\u001b[0m - \u001b[34m\u001b[1mfind new solution (131): 950013, best solution: 950013\u001b[0m\n",
      "\u001b[32m2025-07-07 15:27:31.996\u001b[0m | \u001b[34m\u001b[1mDEBUG   \u001b[0m | \u001b[36mvrp_study.pdptw_model.routing_model\u001b[0m:\u001b[36m__call__\u001b[0m:\u001b[36m37\u001b[0m - \u001b[34m\u001b[1mfind new solution (132): 949213, best solution: 949213\u001b[0m\n",
      "\u001b[32m2025-07-07 15:27:32.020\u001b[0m | \u001b[34m\u001b[1mDEBUG   \u001b[0m | \u001b[36mvrp_study.pdptw_model.routing_model\u001b[0m:\u001b[36m__call__\u001b[0m:\u001b[36m37\u001b[0m - \u001b[34m\u001b[1mfind new solution (133): 947132, best solution: 947132\u001b[0m\n",
      "\u001b[32m2025-07-07 15:27:32.028\u001b[0m | \u001b[34m\u001b[1mDEBUG   \u001b[0m | \u001b[36mvrp_study.pdptw_model.routing_model\u001b[0m:\u001b[36m__call__\u001b[0m:\u001b[36m37\u001b[0m - \u001b[34m\u001b[1mfind new solution (134): 946824, best solution: 946824\u001b[0m\n",
      "\u001b[32m2025-07-07 15:27:32.036\u001b[0m | \u001b[34m\u001b[1mDEBUG   \u001b[0m | \u001b[36mvrp_study.pdptw_model.routing_model\u001b[0m:\u001b[36m__call__\u001b[0m:\u001b[36m37\u001b[0m - \u001b[34m\u001b[1mfind new solution (135): 946745, best solution: 946745\u001b[0m\n",
      "\u001b[32m2025-07-07 15:27:32.068\u001b[0m | \u001b[34m\u001b[1mDEBUG   \u001b[0m | \u001b[36mvrp_study.pdptw_model.routing_model\u001b[0m:\u001b[36m__call__\u001b[0m:\u001b[36m37\u001b[0m - \u001b[34m\u001b[1mfind new solution (136): 945216, best solution: 945216\u001b[0m\n",
      "\u001b[32m2025-07-07 15:27:32.128\u001b[0m | \u001b[34m\u001b[1mDEBUG   \u001b[0m | \u001b[36mvrp_study.pdptw_model.routing_model\u001b[0m:\u001b[36m__call__\u001b[0m:\u001b[36m37\u001b[0m - \u001b[34m\u001b[1mfind new solution (137): 944673, best solution: 944673\u001b[0m\n",
      "\u001b[32m2025-07-07 15:27:32.136\u001b[0m | \u001b[34m\u001b[1mDEBUG   \u001b[0m | \u001b[36mvrp_study.pdptw_model.routing_model\u001b[0m:\u001b[36m__call__\u001b[0m:\u001b[36m37\u001b[0m - \u001b[34m\u001b[1mfind new solution (138): 944320, best solution: 944320\u001b[0m\n",
      "\u001b[32m2025-07-07 15:27:32.144\u001b[0m | \u001b[34m\u001b[1mDEBUG   \u001b[0m | \u001b[36mvrp_study.pdptw_model.routing_model\u001b[0m:\u001b[36m__call__\u001b[0m:\u001b[36m37\u001b[0m - \u001b[34m\u001b[1mfind new solution (139): 944299, best solution: 944299\u001b[0m\n",
      "\u001b[32m2025-07-07 15:27:32.152\u001b[0m | \u001b[34m\u001b[1mDEBUG   \u001b[0m | \u001b[36mvrp_study.pdptw_model.routing_model\u001b[0m:\u001b[36m__call__\u001b[0m:\u001b[36m37\u001b[0m - \u001b[34m\u001b[1mfind new solution (140): 944295, best solution: 944295\u001b[0m\n",
      "\u001b[32m2025-07-07 15:27:32.166\u001b[0m | \u001b[34m\u001b[1mDEBUG   \u001b[0m | \u001b[36mvrp_study.pdptw_model.routing_model\u001b[0m:\u001b[36m__call__\u001b[0m:\u001b[36m37\u001b[0m - \u001b[34m\u001b[1mfind new solution (141): 943107, best solution: 943107\u001b[0m\n",
      "\u001b[32m2025-07-07 15:27:32.173\u001b[0m | \u001b[34m\u001b[1mDEBUG   \u001b[0m | \u001b[36mvrp_study.pdptw_model.routing_model\u001b[0m:\u001b[36m__call__\u001b[0m:\u001b[36m37\u001b[0m - \u001b[34m\u001b[1mfind new solution (142): 942936, best solution: 942936\u001b[0m\n",
      "\u001b[32m2025-07-07 15:27:32.209\u001b[0m | \u001b[34m\u001b[1mDEBUG   \u001b[0m | \u001b[36mvrp_study.pdptw_model.routing_model\u001b[0m:\u001b[36m__call__\u001b[0m:\u001b[36m37\u001b[0m - \u001b[34m\u001b[1mfind new solution (143): 942931, best solution: 942931\u001b[0m\n",
      "\u001b[32m2025-07-07 15:27:32.264\u001b[0m | \u001b[34m\u001b[1mDEBUG   \u001b[0m | \u001b[36mvrp_study.pdptw_model.routing_model\u001b[0m:\u001b[36m__call__\u001b[0m:\u001b[36m37\u001b[0m - \u001b[34m\u001b[1mfind new solution (144): 942712, best solution: 942712\u001b[0m\n",
      "\u001b[32m2025-07-07 15:27:32.293\u001b[0m | \u001b[34m\u001b[1mDEBUG   \u001b[0m | \u001b[36mvrp_study.pdptw_model.routing_model\u001b[0m:\u001b[36m__call__\u001b[0m:\u001b[36m37\u001b[0m - \u001b[34m\u001b[1mfind new solution (145): 936684, best solution: 936684\u001b[0m\n",
      "\u001b[32m2025-07-07 15:27:32.310\u001b[0m | \u001b[34m\u001b[1mDEBUG   \u001b[0m | \u001b[36mvrp_study.pdptw_model.routing_model\u001b[0m:\u001b[36m__call__\u001b[0m:\u001b[36m37\u001b[0m - \u001b[34m\u001b[1mfind new solution (146): 934826, best solution: 934826\u001b[0m\n",
      "\u001b[32m2025-07-07 15:27:32.322\u001b[0m | \u001b[34m\u001b[1mDEBUG   \u001b[0m | \u001b[36mvrp_study.pdptw_model.routing_model\u001b[0m:\u001b[36m__call__\u001b[0m:\u001b[36m37\u001b[0m - \u001b[34m\u001b[1mfind new solution (147): 933236, best solution: 933236\u001b[0m\n",
      "\u001b[32m2025-07-07 15:27:32.332\u001b[0m | \u001b[34m\u001b[1mDEBUG   \u001b[0m | \u001b[36mvrp_study.pdptw_model.routing_model\u001b[0m:\u001b[36m__call__\u001b[0m:\u001b[36m37\u001b[0m - \u001b[34m\u001b[1mfind new solution (148): 933158, best solution: 933158\u001b[0m\n",
      "\u001b[32m2025-07-07 15:27:32.341\u001b[0m | \u001b[34m\u001b[1mDEBUG   \u001b[0m | \u001b[36mvrp_study.pdptw_model.routing_model\u001b[0m:\u001b[36m__call__\u001b[0m:\u001b[36m37\u001b[0m - \u001b[34m\u001b[1mfind new solution (149): 932856, best solution: 932856\u001b[0m\n",
      "\u001b[32m2025-07-07 15:27:32.359\u001b[0m | \u001b[34m\u001b[1mDEBUG   \u001b[0m | \u001b[36mvrp_study.pdptw_model.routing_model\u001b[0m:\u001b[36m__call__\u001b[0m:\u001b[36m37\u001b[0m - \u001b[34m\u001b[1mfind new solution (150): 930755, best solution: 930755\u001b[0m\n",
      "\u001b[32m2025-07-07 15:27:32.425\u001b[0m | \u001b[34m\u001b[1mDEBUG   \u001b[0m | \u001b[36mvrp_study.pdptw_model.routing_model\u001b[0m:\u001b[36m__call__\u001b[0m:\u001b[36m37\u001b[0m - \u001b[34m\u001b[1mfind new solution (151): 930746, best solution: 930746\u001b[0m\n",
      "\u001b[32m2025-07-07 15:27:32.432\u001b[0m | \u001b[34m\u001b[1mDEBUG   \u001b[0m | \u001b[36mvrp_study.pdptw_model.routing_model\u001b[0m:\u001b[36m__call__\u001b[0m:\u001b[36m37\u001b[0m - \u001b[34m\u001b[1mfind new solution (152): 930690, best solution: 930690\u001b[0m\n",
      "\u001b[32m2025-07-07 15:27:32.530\u001b[0m | \u001b[34m\u001b[1mDEBUG   \u001b[0m | \u001b[36mvrp_study.pdptw_model.routing_model\u001b[0m:\u001b[36m__call__\u001b[0m:\u001b[36m37\u001b[0m - \u001b[34m\u001b[1mfind new solution (153): 930622, best solution: 930622\u001b[0m\n",
      "\u001b[32m2025-07-07 15:27:32.538\u001b[0m | \u001b[34m\u001b[1mDEBUG   \u001b[0m | \u001b[36mvrp_study.pdptw_model.routing_model\u001b[0m:\u001b[36m__call__\u001b[0m:\u001b[36m37\u001b[0m - \u001b[34m\u001b[1mfind new solution (154): 930513, best solution: 930513\u001b[0m\n",
      "\u001b[32m2025-07-07 15:27:32.545\u001b[0m | \u001b[34m\u001b[1mDEBUG   \u001b[0m | \u001b[36mvrp_study.pdptw_model.routing_model\u001b[0m:\u001b[36m__call__\u001b[0m:\u001b[36m37\u001b[0m - \u001b[34m\u001b[1mfind new solution (155): 930237, best solution: 930237\u001b[0m\n",
      "\u001b[32m2025-07-07 15:27:32.586\u001b[0m | \u001b[34m\u001b[1mDEBUG   \u001b[0m | \u001b[36mvrp_study.pdptw_model.routing_model\u001b[0m:\u001b[36m__call__\u001b[0m:\u001b[36m37\u001b[0m - \u001b[34m\u001b[1mfind new solution (156): 920659, best solution: 920659\u001b[0m\n",
      "\u001b[32m2025-07-07 15:27:32.594\u001b[0m | \u001b[34m\u001b[1mDEBUG   \u001b[0m | \u001b[36mvrp_study.pdptw_model.routing_model\u001b[0m:\u001b[36m__call__\u001b[0m:\u001b[36m37\u001b[0m - \u001b[34m\u001b[1mfind new solution (157): 919790, best solution: 919790\u001b[0m\n",
      "\u001b[32m2025-07-07 15:27:32.602\u001b[0m | \u001b[34m\u001b[1mDEBUG   \u001b[0m | \u001b[36mvrp_study.pdptw_model.routing_model\u001b[0m:\u001b[36m__call__\u001b[0m:\u001b[36m37\u001b[0m - \u001b[34m\u001b[1mfind new solution (158): 919464, best solution: 919464\u001b[0m\n",
      "\u001b[32m2025-07-07 15:27:32.872\u001b[0m | \u001b[34m\u001b[1mDEBUG   \u001b[0m | \u001b[36mvrp_study.pdptw_model.routing_model\u001b[0m:\u001b[36m__call__\u001b[0m:\u001b[36m37\u001b[0m - \u001b[34m\u001b[1mfind new solution (159): 919018, best solution: 919018\u001b[0m\n",
      "\u001b[32m2025-07-07 15:27:33.157\u001b[0m | \u001b[34m\u001b[1mDEBUG   \u001b[0m | \u001b[36mvrp_study.pdptw_model.routing_model\u001b[0m:\u001b[36m__call__\u001b[0m:\u001b[36m37\u001b[0m - \u001b[34m\u001b[1mfind new solution (160): 919005, best solution: 919005\u001b[0m\n",
      "\u001b[32m2025-07-07 15:27:33.165\u001b[0m | \u001b[34m\u001b[1mDEBUG   \u001b[0m | \u001b[36mvrp_study.pdptw_model.routing_model\u001b[0m:\u001b[36m__call__\u001b[0m:\u001b[36m37\u001b[0m - \u001b[34m\u001b[1mfind new solution (161): 918986, best solution: 918986\u001b[0m\n",
      "\u001b[32m2025-07-07 15:27:33.210\u001b[0m | \u001b[34m\u001b[1mDEBUG   \u001b[0m | \u001b[36mvrp_study.pdptw_model.routing_model\u001b[0m:\u001b[36m__call__\u001b[0m:\u001b[36m37\u001b[0m - \u001b[34m\u001b[1mfind new solution (162): 918884, best solution: 918884\u001b[0m\n",
      "\u001b[32m2025-07-07 15:27:33.681\u001b[0m | \u001b[34m\u001b[1mDEBUG   \u001b[0m | \u001b[36mvrp_study.pdptw_model.routing_model\u001b[0m:\u001b[36m__call__\u001b[0m:\u001b[36m37\u001b[0m - \u001b[34m\u001b[1mfind new solution (163): 918526, best solution: 918526\u001b[0m\n",
      "\u001b[32m2025-07-07 15:27:33.689\u001b[0m | \u001b[34m\u001b[1mDEBUG   \u001b[0m | \u001b[36mvrp_study.pdptw_model.routing_model\u001b[0m:\u001b[36m__call__\u001b[0m:\u001b[36m37\u001b[0m - \u001b[34m\u001b[1mfind new solution (164): 918073, best solution: 918073\u001b[0m\n",
      "\u001b[32m2025-07-07 15:27:33.704\u001b[0m | \u001b[34m\u001b[1mDEBUG   \u001b[0m | \u001b[36mvrp_study.pdptw_model.routing_model\u001b[0m:\u001b[36m__call__\u001b[0m:\u001b[36m37\u001b[0m - \u001b[34m\u001b[1mfind new solution (165): 918050, best solution: 918050\u001b[0m\n",
      "\u001b[32m2025-07-07 15:27:34.040\u001b[0m | \u001b[34m\u001b[1mDEBUG   \u001b[0m | \u001b[36mvrp_study.pdptw_model.routing_model\u001b[0m:\u001b[36m__call__\u001b[0m:\u001b[36m37\u001b[0m - \u001b[34m\u001b[1mfind new solution (166): 917982, best solution: 917982\u001b[0m\n",
      "\u001b[32m2025-07-07 15:27:34.056\u001b[0m | \u001b[34m\u001b[1mDEBUG   \u001b[0m | \u001b[36mvrp_study.pdptw_model.routing_model\u001b[0m:\u001b[36m__call__\u001b[0m:\u001b[36m37\u001b[0m - \u001b[34m\u001b[1mfind new solution (167): 914930, best solution: 914930\u001b[0m\n",
      "\u001b[32m2025-07-07 15:27:34.063\u001b[0m | \u001b[34m\u001b[1mDEBUG   \u001b[0m | \u001b[36mvrp_study.pdptw_model.routing_model\u001b[0m:\u001b[36m__call__\u001b[0m:\u001b[36m37\u001b[0m - \u001b[34m\u001b[1mfind new solution (168): 914871, best solution: 914871\u001b[0m\n",
      "\u001b[32m2025-07-07 15:27:34.071\u001b[0m | \u001b[34m\u001b[1mDEBUG   \u001b[0m | \u001b[36mvrp_study.pdptw_model.routing_model\u001b[0m:\u001b[36m__call__\u001b[0m:\u001b[36m37\u001b[0m - \u001b[34m\u001b[1mfind new solution (169): 914730, best solution: 914730\u001b[0m\n",
      "\u001b[32m2025-07-07 15:27:34.785\u001b[0m | \u001b[34m\u001b[1mDEBUG   \u001b[0m | \u001b[36mvrp_study.pdptw_model.routing_model\u001b[0m:\u001b[36m__call__\u001b[0m:\u001b[36m37\u001b[0m - \u001b[34m\u001b[1mfind new solution (170): 914722, best solution: 914722\u001b[0m\n",
      "\u001b[32m2025-07-07 15:27:34.793\u001b[0m | \u001b[34m\u001b[1mDEBUG   \u001b[0m | \u001b[36mvrp_study.pdptw_model.routing_model\u001b[0m:\u001b[36m__call__\u001b[0m:\u001b[36m37\u001b[0m - \u001b[34m\u001b[1mfind new solution (171): 914604, best solution: 914604\u001b[0m\n",
      "\u001b[32m2025-07-07 15:27:35.712\u001b[0m | \u001b[34m\u001b[1mDEBUG   \u001b[0m | \u001b[36mvrp_study.pdptw_model.routing_model\u001b[0m:\u001b[36m__call__\u001b[0m:\u001b[36m37\u001b[0m - \u001b[34m\u001b[1mfind new solution (172): 914578, best solution: 914578\u001b[0m\n",
      "\u001b[32m2025-07-07 15:27:35.735\u001b[0m | \u001b[34m\u001b[1mDEBUG   \u001b[0m | \u001b[36mvrp_study.pdptw_model.routing_model\u001b[0m:\u001b[36m__call__\u001b[0m:\u001b[36m37\u001b[0m - \u001b[34m\u001b[1mfind new solution (173): 912212, best solution: 912212\u001b[0m\n",
      "\u001b[32m2025-07-07 15:27:36.053\u001b[0m | \u001b[34m\u001b[1mDEBUG   \u001b[0m | \u001b[36mvrp_study.pdptw_model.routing_model\u001b[0m:\u001b[36m__call__\u001b[0m:\u001b[36m37\u001b[0m - \u001b[34m\u001b[1mfind new solution (174): 911783, best solution: 911783\u001b[0m\n",
      "\u001b[32m2025-07-07 15:27:36.664\u001b[0m | \u001b[34m\u001b[1mDEBUG   \u001b[0m | \u001b[36mvrp_study.pdptw_model.routing_model\u001b[0m:\u001b[36m__call__\u001b[0m:\u001b[36m37\u001b[0m - \u001b[34m\u001b[1mfind new solution (175): 911412, best solution: 911412\u001b[0m\n",
      "\u001b[32m2025-07-07 15:27:37.125\u001b[0m | \u001b[34m\u001b[1mDEBUG   \u001b[0m | \u001b[36mvrp_study.pdptw_model.routing_model\u001b[0m:\u001b[36m__call__\u001b[0m:\u001b[36m37\u001b[0m - \u001b[34m\u001b[1mfind new solution (176): 910039, best solution: 910039\u001b[0m\n",
      "\u001b[32m2025-07-07 15:27:37.133\u001b[0m | \u001b[34m\u001b[1mDEBUG   \u001b[0m | \u001b[36mvrp_study.pdptw_model.routing_model\u001b[0m:\u001b[36m__call__\u001b[0m:\u001b[36m37\u001b[0m - \u001b[34m\u001b[1mfind new solution (177): 903623, best solution: 903623\u001b[0m\n",
      "\u001b[32m2025-07-07 15:27:37.189\u001b[0m | \u001b[34m\u001b[1mDEBUG   \u001b[0m | \u001b[36mvrp_study.pdptw_model.routing_model\u001b[0m:\u001b[36m__call__\u001b[0m:\u001b[36m37\u001b[0m - \u001b[34m\u001b[1mfind new solution (178): 903361, best solution: 903361\u001b[0m\n",
      "\u001b[32m2025-07-07 15:27:37.235\u001b[0m | \u001b[34m\u001b[1mDEBUG   \u001b[0m | \u001b[36mvrp_study.pdptw_model.routing_model\u001b[0m:\u001b[36m__call__\u001b[0m:\u001b[36m37\u001b[0m - \u001b[34m\u001b[1mfind new solution (179): 903173, best solution: 903173\u001b[0m\n",
      "\u001b[32m2025-07-07 15:27:37.785\u001b[0m | \u001b[34m\u001b[1mDEBUG   \u001b[0m | \u001b[36mvrp_study.pdptw_model.routing_model\u001b[0m:\u001b[36m__call__\u001b[0m:\u001b[36m37\u001b[0m - \u001b[34m\u001b[1mfind new solution (180): 903113, best solution: 903113\u001b[0m\n",
      "\u001b[32m2025-07-07 15:27:38.046\u001b[0m | \u001b[34m\u001b[1mDEBUG   \u001b[0m | \u001b[36mvrp_study.pdptw_model.routing_model\u001b[0m:\u001b[36m__call__\u001b[0m:\u001b[36m37\u001b[0m - \u001b[34m\u001b[1mfind new solution (181): 903088, best solution: 903088\u001b[0m\n",
      "\u001b[32m2025-07-07 15:27:38.376\u001b[0m | \u001b[34m\u001b[1mDEBUG   \u001b[0m | \u001b[36mvrp_study.pdptw_model.routing_model\u001b[0m:\u001b[36m__call__\u001b[0m:\u001b[36m37\u001b[0m - \u001b[34m\u001b[1mfind new solution (182): 903056, best solution: 903056\u001b[0m\n",
      "\u001b[32m2025-07-07 15:27:38.701\u001b[0m | \u001b[34m\u001b[1mDEBUG   \u001b[0m | \u001b[36mvrp_study.pdptw_model.routing_model\u001b[0m:\u001b[36m__call__\u001b[0m:\u001b[36m37\u001b[0m - \u001b[34m\u001b[1mfind new solution (183): 902995, best solution: 902995\u001b[0m\n",
      "\u001b[32m2025-07-07 15:27:39.591\u001b[0m | \u001b[34m\u001b[1mDEBUG   \u001b[0m | \u001b[36mvrp_study.pdptw_model.routing_model\u001b[0m:\u001b[36m__call__\u001b[0m:\u001b[36m37\u001b[0m - \u001b[34m\u001b[1mfind new solution (184): 902960, best solution: 902960\u001b[0m\n",
      "\u001b[32m2025-07-07 15:27:39.844\u001b[0m | \u001b[34m\u001b[1mDEBUG   \u001b[0m | \u001b[36mvrp_study.pdptw_model.routing_model\u001b[0m:\u001b[36m__call__\u001b[0m:\u001b[36m37\u001b[0m - \u001b[34m\u001b[1mfind new solution (185): 902630, best solution: 902630\u001b[0m\n",
      "\u001b[32m2025-07-07 15:27:40.132\u001b[0m | \u001b[34m\u001b[1mDEBUG   \u001b[0m | \u001b[36mvrp_study.pdptw_model.routing_model\u001b[0m:\u001b[36m__call__\u001b[0m:\u001b[36m37\u001b[0m - \u001b[34m\u001b[1mfind new solution (186): 902606, best solution: 902606\u001b[0m\n",
      "\u001b[32m2025-07-07 15:27:40.140\u001b[0m | \u001b[34m\u001b[1mDEBUG   \u001b[0m | \u001b[36mvrp_study.pdptw_model.routing_model\u001b[0m:\u001b[36m__call__\u001b[0m:\u001b[36m37\u001b[0m - \u001b[34m\u001b[1mfind new solution (187): 902445, best solution: 902445\u001b[0m\n",
      "\u001b[32m2025-07-07 15:27:40.813\u001b[0m | \u001b[34m\u001b[1mDEBUG   \u001b[0m | \u001b[36mvrp_study.pdptw_model.routing_model\u001b[0m:\u001b[36m__call__\u001b[0m:\u001b[36m37\u001b[0m - \u001b[34m\u001b[1mfind new solution (188): 902264, best solution: 902264\u001b[0m\n",
      "\u001b[32m2025-07-07 15:27:40.928\u001b[0m | \u001b[34m\u001b[1mDEBUG   \u001b[0m | \u001b[36mvrp_study.pdptw_model.routing_model\u001b[0m:\u001b[36m__call__\u001b[0m:\u001b[36m37\u001b[0m - \u001b[34m\u001b[1mfind new solution (189): 902147, best solution: 902147\u001b[0m\n",
      "\u001b[32m2025-07-07 15:27:40.939\u001b[0m | \u001b[34m\u001b[1mDEBUG   \u001b[0m | \u001b[36mvrp_study.pdptw_model.routing_model\u001b[0m:\u001b[36m__call__\u001b[0m:\u001b[36m37\u001b[0m - \u001b[34m\u001b[1mfind new solution (190): 902142, best solution: 902142\u001b[0m\n",
      "\u001b[32m2025-07-07 15:27:41.740\u001b[0m | \u001b[34m\u001b[1mDEBUG   \u001b[0m | \u001b[36mvrp_study.pdptw_model.routing_model\u001b[0m:\u001b[36m__call__\u001b[0m:\u001b[36m37\u001b[0m - \u001b[34m\u001b[1mfind new solution (191): 901989, best solution: 901989\u001b[0m\n",
      "\u001b[32m2025-07-07 15:27:42.816\u001b[0m | \u001b[34m\u001b[1mDEBUG   \u001b[0m | \u001b[36mvrp_study.pdptw_model.routing_model\u001b[0m:\u001b[36m__call__\u001b[0m:\u001b[36m37\u001b[0m - \u001b[34m\u001b[1mfind new solution (192): 901886, best solution: 901886\u001b[0m\n",
      "\u001b[32m2025-07-07 15:27:42.823\u001b[0m | \u001b[34m\u001b[1mDEBUG   \u001b[0m | \u001b[36mvrp_study.pdptw_model.routing_model\u001b[0m:\u001b[36m__call__\u001b[0m:\u001b[36m37\u001b[0m - \u001b[34m\u001b[1mfind new solution (193): 901838, best solution: 901838\u001b[0m\n",
      "\u001b[32m2025-07-07 15:27:42.866\u001b[0m | \u001b[34m\u001b[1mDEBUG   \u001b[0m | \u001b[36mvrp_study.pdptw_model.routing_model\u001b[0m:\u001b[36m__call__\u001b[0m:\u001b[36m37\u001b[0m - \u001b[34m\u001b[1mfind new solution (194): 901112, best solution: 901112\u001b[0m\n",
      "\u001b[32m2025-07-07 15:27:42.874\u001b[0m | \u001b[34m\u001b[1mDEBUG   \u001b[0m | \u001b[36mvrp_study.pdptw_model.routing_model\u001b[0m:\u001b[36m__call__\u001b[0m:\u001b[36m37\u001b[0m - \u001b[34m\u001b[1mfind new solution (195): 899476, best solution: 899476\u001b[0m\n",
      "\u001b[32m2025-07-07 15:27:42.888\u001b[0m | \u001b[34m\u001b[1mDEBUG   \u001b[0m | \u001b[36mvrp_study.pdptw_model.routing_model\u001b[0m:\u001b[36m__call__\u001b[0m:\u001b[36m37\u001b[0m - \u001b[34m\u001b[1mfind new solution (196): 899469, best solution: 899469\u001b[0m\n",
      "\u001b[32m2025-07-07 15:27:42.928\u001b[0m | \u001b[34m\u001b[1mDEBUG   \u001b[0m | \u001b[36mvrp_study.pdptw_model.routing_model\u001b[0m:\u001b[36m__call__\u001b[0m:\u001b[36m37\u001b[0m - \u001b[34m\u001b[1mfind new solution (197): 893250, best solution: 893250\u001b[0m\n",
      "\u001b[32m2025-07-07 15:27:42.949\u001b[0m | \u001b[34m\u001b[1mDEBUG   \u001b[0m | \u001b[36mvrp_study.pdptw_model.routing_model\u001b[0m:\u001b[36m__call__\u001b[0m:\u001b[36m37\u001b[0m - \u001b[34m\u001b[1mfind new solution (198): 893119, best solution: 893119\u001b[0m\n",
      "\u001b[32m2025-07-07 15:27:42.963\u001b[0m | \u001b[34m\u001b[1mDEBUG   \u001b[0m | \u001b[36mvrp_study.pdptw_model.routing_model\u001b[0m:\u001b[36m__call__\u001b[0m:\u001b[36m37\u001b[0m - \u001b[34m\u001b[1mfind new solution (199): 892808, best solution: 892808\u001b[0m\n",
      "\u001b[32m2025-07-07 15:27:43.016\u001b[0m | \u001b[34m\u001b[1mDEBUG   \u001b[0m | \u001b[36mvrp_study.pdptw_model.routing_model\u001b[0m:\u001b[36m__call__\u001b[0m:\u001b[36m37\u001b[0m - \u001b[34m\u001b[1mfind new solution (200): 885245, best solution: 885245\u001b[0m\n",
      "\u001b[32m2025-07-07 15:27:43.032\u001b[0m | \u001b[34m\u001b[1mDEBUG   \u001b[0m | \u001b[36mvrp_study.pdptw_model.routing_model\u001b[0m:\u001b[36m__call__\u001b[0m:\u001b[36m37\u001b[0m - \u001b[34m\u001b[1mfind new solution (201): 885234, best solution: 885234\u001b[0m\n",
      "\u001b[32m2025-07-07 15:27:43.070\u001b[0m | \u001b[34m\u001b[1mDEBUG   \u001b[0m | \u001b[36mvrp_study.pdptw_model.routing_model\u001b[0m:\u001b[36m__call__\u001b[0m:\u001b[36m37\u001b[0m - \u001b[34m\u001b[1mfind new solution (202): 885018, best solution: 885018\u001b[0m\n",
      "\u001b[32m2025-07-07 15:27:43.394\u001b[0m | \u001b[34m\u001b[1mDEBUG   \u001b[0m | \u001b[36mvrp_study.pdptw_model.routing_model\u001b[0m:\u001b[36m__call__\u001b[0m:\u001b[36m37\u001b[0m - \u001b[34m\u001b[1mfind new solution (203): 884899, best solution: 884899\u001b[0m\n",
      "\u001b[32m2025-07-07 15:27:43.416\u001b[0m | \u001b[34m\u001b[1mDEBUG   \u001b[0m | \u001b[36mvrp_study.pdptw_model.routing_model\u001b[0m:\u001b[36m__call__\u001b[0m:\u001b[36m37\u001b[0m - \u001b[34m\u001b[1mfind new solution (204): 884789, best solution: 884789\u001b[0m\n",
      "\u001b[32m2025-07-07 15:27:44.110\u001b[0m | \u001b[34m\u001b[1mDEBUG   \u001b[0m | \u001b[36mvrp_study.pdptw_model.routing_model\u001b[0m:\u001b[36m__call__\u001b[0m:\u001b[36m37\u001b[0m - \u001b[34m\u001b[1mfind new solution (205): 884558, best solution: 884558\u001b[0m\n",
      "\u001b[32m2025-07-07 15:27:45.034\u001b[0m | \u001b[34m\u001b[1mDEBUG   \u001b[0m | \u001b[36mvrp_study.pdptw_model.routing_model\u001b[0m:\u001b[36m__call__\u001b[0m:\u001b[36m37\u001b[0m - \u001b[34m\u001b[1mfind new solution (206): 884548, best solution: 884548\u001b[0m\n",
      "\u001b[32m2025-07-07 15:27:47.377\u001b[0m | \u001b[34m\u001b[1mDEBUG   \u001b[0m | \u001b[36mvrp_study.pdptw_model.routing_model\u001b[0m:\u001b[36m__call__\u001b[0m:\u001b[36m37\u001b[0m - \u001b[34m\u001b[1mfind new solution (207): 883809, best solution: 883809\u001b[0m\n",
      "\u001b[32m2025-07-07 15:27:47.803\u001b[0m | \u001b[34m\u001b[1mDEBUG   \u001b[0m | \u001b[36mvrp_study.pdptw_model.routing_model\u001b[0m:\u001b[36m__call__\u001b[0m:\u001b[36m37\u001b[0m - \u001b[34m\u001b[1mfind new solution (208): 878070, best solution: 878070\u001b[0m\n",
      "\u001b[32m2025-07-07 15:27:47.930\u001b[0m | \u001b[34m\u001b[1mDEBUG   \u001b[0m | \u001b[36mvrp_study.pdptw_model.routing_model\u001b[0m:\u001b[36m__call__\u001b[0m:\u001b[36m37\u001b[0m - \u001b[34m\u001b[1mfind new solution (209): 877548, best solution: 877548\u001b[0m\n",
      "\u001b[32m2025-07-07 15:27:48.304\u001b[0m | \u001b[34m\u001b[1mDEBUG   \u001b[0m | \u001b[36mvrp_study.pdptw_model.routing_model\u001b[0m:\u001b[36m__call__\u001b[0m:\u001b[36m37\u001b[0m - \u001b[34m\u001b[1mfind new solution (210): 877523, best solution: 877523\u001b[0m\n",
      "\u001b[32m2025-07-07 15:27:48.435\u001b[0m | \u001b[34m\u001b[1mDEBUG   \u001b[0m | \u001b[36mvrp_study.pdptw_model.routing_model\u001b[0m:\u001b[36m__call__\u001b[0m:\u001b[36m37\u001b[0m - \u001b[34m\u001b[1mfind new solution (211): 877183, best solution: 877183\u001b[0m\n",
      "\u001b[32m2025-07-07 15:27:48.500\u001b[0m | \u001b[34m\u001b[1mDEBUG   \u001b[0m | \u001b[36mvrp_study.pdptw_model.routing_model\u001b[0m:\u001b[36m__call__\u001b[0m:\u001b[36m37\u001b[0m - \u001b[34m\u001b[1mfind new solution (212): 871674, best solution: 871674\u001b[0m\n",
      "\u001b[32m2025-07-07 15:27:48.727\u001b[0m | \u001b[34m\u001b[1mDEBUG   \u001b[0m | \u001b[36mvrp_study.pdptw_model.routing_model\u001b[0m:\u001b[36m__call__\u001b[0m:\u001b[36m37\u001b[0m - \u001b[34m\u001b[1mfind new solution (213): 871657, best solution: 871657\u001b[0m\n",
      "\u001b[32m2025-07-07 15:27:49.327\u001b[0m | \u001b[34m\u001b[1mDEBUG   \u001b[0m | \u001b[36mvrp_study.pdptw_model.routing_model\u001b[0m:\u001b[36m__call__\u001b[0m:\u001b[36m37\u001b[0m - \u001b[34m\u001b[1mfind new solution (214): 871528, best solution: 871528\u001b[0m\n",
      "\u001b[32m2025-07-07 15:27:49.686\u001b[0m | \u001b[34m\u001b[1mDEBUG   \u001b[0m | \u001b[36mvrp_study.pdptw_model.routing_model\u001b[0m:\u001b[36m__call__\u001b[0m:\u001b[36m37\u001b[0m - \u001b[34m\u001b[1mfind new solution (215): 866936, best solution: 866936\u001b[0m\n",
      "\u001b[32m2025-07-07 15:27:49.786\u001b[0m | \u001b[34m\u001b[1mDEBUG   \u001b[0m | \u001b[36mvrp_study.pdptw_model.routing_model\u001b[0m:\u001b[36m__call__\u001b[0m:\u001b[36m37\u001b[0m - \u001b[34m\u001b[1mfind new solution (216): 865498, best solution: 865498\u001b[0m\n",
      "\u001b[32m2025-07-07 15:27:49.978\u001b[0m | \u001b[34m\u001b[1mDEBUG   \u001b[0m | \u001b[36mvrp_study.pdptw_model.routing_model\u001b[0m:\u001b[36m__call__\u001b[0m:\u001b[36m37\u001b[0m - \u001b[34m\u001b[1mfind new solution (217): 865458, best solution: 865458\u001b[0m\n",
      "\u001b[32m2025-07-07 15:27:50.127\u001b[0m | \u001b[34m\u001b[1mDEBUG   \u001b[0m | \u001b[36mvrp_study.pdptw_model.routing_model\u001b[0m:\u001b[36m__call__\u001b[0m:\u001b[36m37\u001b[0m - \u001b[34m\u001b[1mfind new solution (218): 864923, best solution: 864923\u001b[0m\n",
      "\u001b[32m2025-07-07 15:27:51.305\u001b[0m | \u001b[34m\u001b[1mDEBUG   \u001b[0m | \u001b[36mvrp_study.pdptw_model.routing_model\u001b[0m:\u001b[36m__call__\u001b[0m:\u001b[36m37\u001b[0m - \u001b[34m\u001b[1mfind new solution (219): 863872, best solution: 863872\u001b[0m\n",
      "\u001b[32m2025-07-07 15:27:51.668\u001b[0m | \u001b[34m\u001b[1mDEBUG   \u001b[0m | \u001b[36mvrp_study.pdptw_model.routing_model\u001b[0m:\u001b[36m__call__\u001b[0m:\u001b[36m37\u001b[0m - \u001b[34m\u001b[1mfind new solution (220): 862954, best solution: 862954\u001b[0m\n",
      "\u001b[32m2025-07-07 15:27:53.058\u001b[0m | \u001b[34m\u001b[1mDEBUG   \u001b[0m | \u001b[36mvrp_study.pdptw_model.routing_model\u001b[0m:\u001b[36m__call__\u001b[0m:\u001b[36m37\u001b[0m - \u001b[34m\u001b[1mfind new solution (221): 862947, best solution: 862947\u001b[0m\n",
      "\u001b[32m2025-07-07 15:27:54.224\u001b[0m | \u001b[34m\u001b[1mDEBUG   \u001b[0m | \u001b[36mvrp_study.pdptw_model.routing_model\u001b[0m:\u001b[36m__call__\u001b[0m:\u001b[36m37\u001b[0m - \u001b[34m\u001b[1mfind new solution (222): 862292, best solution: 862292\u001b[0m\n",
      "\u001b[32m2025-07-07 15:27:59.001\u001b[0m | \u001b[34m\u001b[1mDEBUG   \u001b[0m | \u001b[36mvrp_study.pdptw_model.routing_model\u001b[0m:\u001b[36m__call__\u001b[0m:\u001b[36m37\u001b[0m - \u001b[34m\u001b[1mfind new solution (223): 862290, best solution: 862290\u001b[0m\n",
      "\u001b[32m2025-07-07 15:27:59.353\u001b[0m | \u001b[34m\u001b[1mDEBUG   \u001b[0m | \u001b[36mvrp_study.pdptw_model.routing_model\u001b[0m:\u001b[36m__call__\u001b[0m:\u001b[36m37\u001b[0m - \u001b[34m\u001b[1mfind new solution (224): 859778, best solution: 859778\u001b[0m\n",
      "\u001b[32m2025-07-07 15:27:59.362\u001b[0m | \u001b[34m\u001b[1mDEBUG   \u001b[0m | \u001b[36mvrp_study.pdptw_model.routing_model\u001b[0m:\u001b[36m__call__\u001b[0m:\u001b[36m37\u001b[0m - \u001b[34m\u001b[1mfind new solution (225): 858253, best solution: 858253\u001b[0m\n",
      "\u001b[32m2025-07-07 15:27:59.371\u001b[0m | \u001b[34m\u001b[1mDEBUG   \u001b[0m | \u001b[36mvrp_study.pdptw_model.routing_model\u001b[0m:\u001b[36m__call__\u001b[0m:\u001b[36m37\u001b[0m - \u001b[34m\u001b[1mfind new solution (226): 857474, best solution: 857474\u001b[0m\n",
      "\u001b[32m2025-07-07 15:27:59.418\u001b[0m | \u001b[34m\u001b[1mDEBUG   \u001b[0m | \u001b[36mvrp_study.pdptw_model.routing_model\u001b[0m:\u001b[36m__call__\u001b[0m:\u001b[36m37\u001b[0m - \u001b[34m\u001b[1mfind new solution (227): 857250, best solution: 857250\u001b[0m\n",
      "\u001b[32m2025-07-07 15:27:59.431\u001b[0m | \u001b[34m\u001b[1mDEBUG   \u001b[0m | \u001b[36mvrp_study.pdptw_model.routing_model\u001b[0m:\u001b[36m__call__\u001b[0m:\u001b[36m37\u001b[0m - \u001b[34m\u001b[1mfind new solution (228): 853967, best solution: 853967\u001b[0m\n",
      "\u001b[32m2025-07-07 15:27:59.460\u001b[0m | \u001b[34m\u001b[1mDEBUG   \u001b[0m | \u001b[36mvrp_study.pdptw_model.routing_model\u001b[0m:\u001b[36m__call__\u001b[0m:\u001b[36m37\u001b[0m - \u001b[34m\u001b[1mfind new solution (229): 853655, best solution: 853655\u001b[0m\n",
      "\u001b[32m2025-07-07 15:27:59.476\u001b[0m | \u001b[34m\u001b[1mDEBUG   \u001b[0m | \u001b[36mvrp_study.pdptw_model.routing_model\u001b[0m:\u001b[36m__call__\u001b[0m:\u001b[36m37\u001b[0m - \u001b[34m\u001b[1mfind new solution (230): 852526, best solution: 852526\u001b[0m\n",
      "\u001b[32m2025-07-07 15:27:59.508\u001b[0m | \u001b[34m\u001b[1mDEBUG   \u001b[0m | \u001b[36mvrp_study.pdptw_model.routing_model\u001b[0m:\u001b[36m__call__\u001b[0m:\u001b[36m37\u001b[0m - \u001b[34m\u001b[1mfind new solution (231): 851350, best solution: 851350\u001b[0m\n",
      "\u001b[32m2025-07-07 15:27:59.589\u001b[0m | \u001b[34m\u001b[1mDEBUG   \u001b[0m | \u001b[36mvrp_study.pdptw_model.routing_model\u001b[0m:\u001b[36m__call__\u001b[0m:\u001b[36m37\u001b[0m - \u001b[34m\u001b[1mfind new solution (232): 851219, best solution: 851219\u001b[0m\n",
      "\u001b[32m2025-07-07 15:27:59.701\u001b[0m | \u001b[34m\u001b[1mDEBUG   \u001b[0m | \u001b[36mvrp_study.pdptw_model.routing_model\u001b[0m:\u001b[36m__call__\u001b[0m:\u001b[36m37\u001b[0m - \u001b[34m\u001b[1mfind new solution (233): 850961, best solution: 850961\u001b[0m\n",
      "\u001b[32m2025-07-07 15:27:59.751\u001b[0m | \u001b[34m\u001b[1mDEBUG   \u001b[0m | \u001b[36mvrp_study.pdptw_model.routing_model\u001b[0m:\u001b[36m__call__\u001b[0m:\u001b[36m37\u001b[0m - \u001b[34m\u001b[1mfind new solution (234): 850760, best solution: 850760\u001b[0m\n",
      "\u001b[32m2025-07-07 15:27:59.887\u001b[0m | \u001b[34m\u001b[1mDEBUG   \u001b[0m | \u001b[36mvrp_study.pdptw_model.routing_model\u001b[0m:\u001b[36m__call__\u001b[0m:\u001b[36m37\u001b[0m - \u001b[34m\u001b[1mfind new solution (235): 850481, best solution: 850481\u001b[0m\n",
      "\u001b[32m2025-07-07 15:27:59.903\u001b[0m | \u001b[34m\u001b[1mDEBUG   \u001b[0m | \u001b[36mvrp_study.pdptw_model.routing_model\u001b[0m:\u001b[36m__call__\u001b[0m:\u001b[36m37\u001b[0m - \u001b[34m\u001b[1mfind new solution (236): 849425, best solution: 849425\u001b[0m\n",
      "\u001b[32m2025-07-07 15:28:00.127\u001b[0m | \u001b[34m\u001b[1mDEBUG   \u001b[0m | \u001b[36mvrp_study.pdptw_model.routing_model\u001b[0m:\u001b[36m__call__\u001b[0m:\u001b[36m37\u001b[0m - \u001b[34m\u001b[1mfind new solution (237): 847158, best solution: 847158\u001b[0m\n",
      "\u001b[32m2025-07-07 15:28:00.272\u001b[0m | \u001b[34m\u001b[1mDEBUG   \u001b[0m | \u001b[36mvrp_study.pdptw_model.routing_model\u001b[0m:\u001b[36m__call__\u001b[0m:\u001b[36m37\u001b[0m - \u001b[34m\u001b[1mfind new solution (238): 847104, best solution: 847104\u001b[0m\n",
      "\u001b[32m2025-07-07 15:28:00.289\u001b[0m | \u001b[34m\u001b[1mDEBUG   \u001b[0m | \u001b[36mvrp_study.pdptw_model.routing_model\u001b[0m:\u001b[36m__call__\u001b[0m:\u001b[36m37\u001b[0m - \u001b[34m\u001b[1mfind new solution (239): 846966, best solution: 846966\u001b[0m\n",
      "\u001b[32m2025-07-07 15:28:00.515\u001b[0m | \u001b[34m\u001b[1mDEBUG   \u001b[0m | \u001b[36mvrp_study.pdptw_model.routing_model\u001b[0m:\u001b[36m__call__\u001b[0m:\u001b[36m37\u001b[0m - \u001b[34m\u001b[1mfind new solution (240): 846963, best solution: 846963\u001b[0m\n",
      "\u001b[32m2025-07-07 15:28:00.971\u001b[0m | \u001b[34m\u001b[1mDEBUG   \u001b[0m | \u001b[36mvrp_study.pdptw_model.routing_model\u001b[0m:\u001b[36m__call__\u001b[0m:\u001b[36m37\u001b[0m - \u001b[34m\u001b[1mfind new solution (241): 845904, best solution: 845904\u001b[0m\n",
      "\u001b[32m2025-07-07 15:28:00.979\u001b[0m | \u001b[34m\u001b[1mDEBUG   \u001b[0m | \u001b[36mvrp_study.pdptw_model.routing_model\u001b[0m:\u001b[36m__call__\u001b[0m:\u001b[36m37\u001b[0m - \u001b[34m\u001b[1mfind new solution (242): 845544, best solution: 845544\u001b[0m\n",
      "\u001b[32m2025-07-07 15:28:00.996\u001b[0m | \u001b[34m\u001b[1mDEBUG   \u001b[0m | \u001b[36mvrp_study.pdptw_model.routing_model\u001b[0m:\u001b[36m__call__\u001b[0m:\u001b[36m37\u001b[0m - \u001b[34m\u001b[1mfind new solution (243): 845401, best solution: 845401\u001b[0m\n",
      "\u001b[32m2025-07-07 15:28:01.003\u001b[0m | \u001b[34m\u001b[1mDEBUG   \u001b[0m | \u001b[36mvrp_study.pdptw_model.routing_model\u001b[0m:\u001b[36m__call__\u001b[0m:\u001b[36m37\u001b[0m - \u001b[34m\u001b[1mfind new solution (244): 845314, best solution: 845314\u001b[0m\n",
      "\u001b[32m2025-07-07 15:28:01.010\u001b[0m | \u001b[34m\u001b[1mDEBUG   \u001b[0m | \u001b[36mvrp_study.pdptw_model.routing_model\u001b[0m:\u001b[36m__call__\u001b[0m:\u001b[36m37\u001b[0m - \u001b[34m\u001b[1mfind new solution (245): 843902, best solution: 843902\u001b[0m\n",
      "\u001b[32m2025-07-07 15:28:01.017\u001b[0m | \u001b[34m\u001b[1mDEBUG   \u001b[0m | \u001b[36mvrp_study.pdptw_model.routing_model\u001b[0m:\u001b[36m__call__\u001b[0m:\u001b[36m37\u001b[0m - \u001b[34m\u001b[1mfind new solution (246): 843684, best solution: 843684\u001b[0m\n",
      "\u001b[32m2025-07-07 15:28:01.025\u001b[0m | \u001b[34m\u001b[1mDEBUG   \u001b[0m | \u001b[36mvrp_study.pdptw_model.routing_model\u001b[0m:\u001b[36m__call__\u001b[0m:\u001b[36m37\u001b[0m - \u001b[34m\u001b[1mfind new solution (247): 843421, best solution: 843421\u001b[0m\n",
      "\u001b[32m2025-07-07 15:28:01.080\u001b[0m | \u001b[34m\u001b[1mDEBUG   \u001b[0m | \u001b[36mvrp_study.pdptw_model.routing_model\u001b[0m:\u001b[36m__call__\u001b[0m:\u001b[36m37\u001b[0m - \u001b[34m\u001b[1mfind new solution (248): 842784, best solution: 842784\u001b[0m\n",
      "\u001b[32m2025-07-07 15:28:01.217\u001b[0m | \u001b[34m\u001b[1mDEBUG   \u001b[0m | \u001b[36mvrp_study.pdptw_model.routing_model\u001b[0m:\u001b[36m__call__\u001b[0m:\u001b[36m37\u001b[0m - \u001b[34m\u001b[1mfind new solution (249): 842768, best solution: 842768\u001b[0m\n",
      "\u001b[32m2025-07-07 15:28:01.365\u001b[0m | \u001b[34m\u001b[1mDEBUG   \u001b[0m | \u001b[36mvrp_study.pdptw_model.routing_model\u001b[0m:\u001b[36m__call__\u001b[0m:\u001b[36m37\u001b[0m - \u001b[34m\u001b[1mfind new solution (250): 842406, best solution: 842406\u001b[0m\n",
      "\u001b[32m2025-07-07 15:28:01.677\u001b[0m | \u001b[34m\u001b[1mDEBUG   \u001b[0m | \u001b[36mvrp_study.pdptw_model.routing_model\u001b[0m:\u001b[36m__call__\u001b[0m:\u001b[36m37\u001b[0m - \u001b[34m\u001b[1mfind new solution (251): 841227, best solution: 841227\u001b[0m\n",
      "\u001b[32m2025-07-07 15:28:02.372\u001b[0m | \u001b[34m\u001b[1mDEBUG   \u001b[0m | \u001b[36mvrp_study.pdptw_model.routing_model\u001b[0m:\u001b[36m__call__\u001b[0m:\u001b[36m37\u001b[0m - \u001b[34m\u001b[1mfind new solution (252): 841139, best solution: 841139\u001b[0m\n",
      "\u001b[32m2025-07-07 15:28:03.268\u001b[0m | \u001b[34m\u001b[1mDEBUG   \u001b[0m | \u001b[36mvrp_study.pdptw_model.routing_model\u001b[0m:\u001b[36m__call__\u001b[0m:\u001b[36m37\u001b[0m - \u001b[34m\u001b[1mfind new solution (253): 841133, best solution: 841133\u001b[0m\n",
      "\u001b[32m2025-07-07 15:28:04.261\u001b[0m | \u001b[34m\u001b[1mDEBUG   \u001b[0m | \u001b[36mvrp_study.pdptw_model.routing_model\u001b[0m:\u001b[36m__call__\u001b[0m:\u001b[36m37\u001b[0m - \u001b[34m\u001b[1mfind new solution (254): 835996, best solution: 835996\u001b[0m\n",
      "\u001b[32m2025-07-07 15:28:04.318\u001b[0m | \u001b[34m\u001b[1mDEBUG   \u001b[0m | \u001b[36mvrp_study.pdptw_model.routing_model\u001b[0m:\u001b[36m__call__\u001b[0m:\u001b[36m37\u001b[0m - \u001b[34m\u001b[1mfind new solution (255): 835589, best solution: 835589\u001b[0m\n",
      "\u001b[32m2025-07-07 15:28:04.396\u001b[0m | \u001b[34m\u001b[1mDEBUG   \u001b[0m | \u001b[36mvrp_study.pdptw_model.routing_model\u001b[0m:\u001b[36m__call__\u001b[0m:\u001b[36m37\u001b[0m - \u001b[34m\u001b[1mfind new solution (256): 835420, best solution: 835420\u001b[0m\n",
      "\u001b[32m2025-07-07 15:28:04.419\u001b[0m | \u001b[34m\u001b[1mDEBUG   \u001b[0m | \u001b[36mvrp_study.pdptw_model.routing_model\u001b[0m:\u001b[36m__call__\u001b[0m:\u001b[36m37\u001b[0m - \u001b[34m\u001b[1mfind new solution (257): 835160, best solution: 835160\u001b[0m\n",
      "\u001b[32m2025-07-07 15:28:04.509\u001b[0m | \u001b[34m\u001b[1mDEBUG   \u001b[0m | \u001b[36mvrp_study.pdptw_model.routing_model\u001b[0m:\u001b[36m__call__\u001b[0m:\u001b[36m37\u001b[0m - \u001b[34m\u001b[1mfind new solution (258): 834805, best solution: 834805\u001b[0m\n",
      "\u001b[32m2025-07-07 15:28:04.636\u001b[0m | \u001b[34m\u001b[1mDEBUG   \u001b[0m | \u001b[36mvrp_study.pdptw_model.routing_model\u001b[0m:\u001b[36m__call__\u001b[0m:\u001b[36m37\u001b[0m - \u001b[34m\u001b[1mfind new solution (259): 833875, best solution: 833875\u001b[0m\n",
      "\u001b[32m2025-07-07 15:28:04.644\u001b[0m | \u001b[34m\u001b[1mDEBUG   \u001b[0m | \u001b[36mvrp_study.pdptw_model.routing_model\u001b[0m:\u001b[36m__call__\u001b[0m:\u001b[36m37\u001b[0m - \u001b[34m\u001b[1mfind new solution (260): 833790, best solution: 833790\u001b[0m\n",
      "\u001b[32m2025-07-07 15:28:04.960\u001b[0m | \u001b[34m\u001b[1mDEBUG   \u001b[0m | \u001b[36mvrp_study.pdptw_model.routing_model\u001b[0m:\u001b[36m__call__\u001b[0m:\u001b[36m37\u001b[0m - \u001b[34m\u001b[1mfind new solution (261): 833446, best solution: 833446\u001b[0m\n",
      "\u001b[32m2025-07-07 15:28:05.019\u001b[0m | \u001b[34m\u001b[1mDEBUG   \u001b[0m | \u001b[36mvrp_study.pdptw_model.routing_model\u001b[0m:\u001b[36m__call__\u001b[0m:\u001b[36m37\u001b[0m - \u001b[34m\u001b[1mfind new solution (262): 833365, best solution: 833365\u001b[0m\n",
      "\u001b[32m2025-07-07 15:28:05.318\u001b[0m | \u001b[34m\u001b[1mDEBUG   \u001b[0m | \u001b[36mvrp_study.pdptw_model.routing_model\u001b[0m:\u001b[36m__call__\u001b[0m:\u001b[36m37\u001b[0m - \u001b[34m\u001b[1mfind new solution (263): 833239, best solution: 833239\u001b[0m\n",
      "\u001b[32m2025-07-07 15:28:05.536\u001b[0m | \u001b[34m\u001b[1mDEBUG   \u001b[0m | \u001b[36mvrp_study.pdptw_model.routing_model\u001b[0m:\u001b[36m__call__\u001b[0m:\u001b[36m37\u001b[0m - \u001b[34m\u001b[1mfind new solution (264): 825521, best solution: 825521\u001b[0m\n",
      "\u001b[32m2025-07-07 15:28:05.568\u001b[0m | \u001b[34m\u001b[1mDEBUG   \u001b[0m | \u001b[36mvrp_study.pdptw_model.routing_model\u001b[0m:\u001b[36m__call__\u001b[0m:\u001b[36m37\u001b[0m - \u001b[34m\u001b[1mfind new solution (265): 825352, best solution: 825352\u001b[0m\n",
      "\u001b[32m2025-07-07 15:28:05.587\u001b[0m | \u001b[34m\u001b[1mDEBUG   \u001b[0m | \u001b[36mvrp_study.pdptw_model.routing_model\u001b[0m:\u001b[36m__call__\u001b[0m:\u001b[36m37\u001b[0m - \u001b[34m\u001b[1mfind new solution (266): 824902, best solution: 824902\u001b[0m\n",
      "\u001b[32m2025-07-07 15:28:05.595\u001b[0m | \u001b[34m\u001b[1mDEBUG   \u001b[0m | \u001b[36mvrp_study.pdptw_model.routing_model\u001b[0m:\u001b[36m__call__\u001b[0m:\u001b[36m37\u001b[0m - \u001b[34m\u001b[1mfind new solution (267): 824896, best solution: 824896\u001b[0m\n",
      "\u001b[32m2025-07-07 15:28:05.966\u001b[0m | \u001b[34m\u001b[1mDEBUG   \u001b[0m | \u001b[36mvrp_study.pdptw_model.routing_model\u001b[0m:\u001b[36m__call__\u001b[0m:\u001b[36m37\u001b[0m - \u001b[34m\u001b[1mfind new solution (268): 824608, best solution: 824608\u001b[0m\n",
      "\u001b[32m2025-07-07 15:28:05.973\u001b[0m | \u001b[34m\u001b[1mDEBUG   \u001b[0m | \u001b[36mvrp_study.pdptw_model.routing_model\u001b[0m:\u001b[36m__call__\u001b[0m:\u001b[36m37\u001b[0m - \u001b[34m\u001b[1mfind new solution (269): 824411, best solution: 824411\u001b[0m\n",
      "\u001b[32m2025-07-07 15:28:05.980\u001b[0m | \u001b[34m\u001b[1mDEBUG   \u001b[0m | \u001b[36mvrp_study.pdptw_model.routing_model\u001b[0m:\u001b[36m__call__\u001b[0m:\u001b[36m37\u001b[0m - \u001b[34m\u001b[1mfind new solution (270): 824330, best solution: 824330\u001b[0m\n",
      "\u001b[32m2025-07-07 15:28:05.988\u001b[0m | \u001b[34m\u001b[1mDEBUG   \u001b[0m | \u001b[36mvrp_study.pdptw_model.routing_model\u001b[0m:\u001b[36m__call__\u001b[0m:\u001b[36m37\u001b[0m - \u001b[34m\u001b[1mfind new solution (271): 824148, best solution: 824148\u001b[0m\n",
      "\u001b[32m2025-07-07 15:28:05.996\u001b[0m | \u001b[34m\u001b[1mDEBUG   \u001b[0m | \u001b[36mvrp_study.pdptw_model.routing_model\u001b[0m:\u001b[36m__call__\u001b[0m:\u001b[36m37\u001b[0m - \u001b[34m\u001b[1mfind new solution (272): 823951, best solution: 823951\u001b[0m\n",
      "\u001b[32m2025-07-07 15:28:06.003\u001b[0m | \u001b[34m\u001b[1mDEBUG   \u001b[0m | \u001b[36mvrp_study.pdptw_model.routing_model\u001b[0m:\u001b[36m__call__\u001b[0m:\u001b[36m37\u001b[0m - \u001b[34m\u001b[1mfind new solution (273): 823870, best solution: 823870\u001b[0m\n",
      "\u001b[32m2025-07-07 15:28:06.913\u001b[0m | \u001b[34m\u001b[1mDEBUG   \u001b[0m | \u001b[36mvrp_study.pdptw_model.routing_model\u001b[0m:\u001b[36m__call__\u001b[0m:\u001b[36m37\u001b[0m - \u001b[34m\u001b[1mfind new solution (274): 823752, best solution: 823752\u001b[0m\n",
      "\u001b[32m2025-07-07 15:28:08.376\u001b[0m | \u001b[34m\u001b[1mDEBUG   \u001b[0m | \u001b[36mvrp_study.pdptw_model.routing_model\u001b[0m:\u001b[36m__call__\u001b[0m:\u001b[36m37\u001b[0m - \u001b[34m\u001b[1mfind new solution (275): 814953, best solution: 814953\u001b[0m\n",
      "\u001b[32m2025-07-07 15:28:09.009\u001b[0m | \u001b[34m\u001b[1mDEBUG   \u001b[0m | \u001b[36mvrp_study.pdptw_model.routing_model\u001b[0m:\u001b[36m__call__\u001b[0m:\u001b[36m37\u001b[0m - \u001b[34m\u001b[1mfind new solution (276): 814928, best solution: 814928\u001b[0m\n",
      "\u001b[32m2025-07-07 15:28:10.795\u001b[0m | \u001b[34m\u001b[1mDEBUG   \u001b[0m | \u001b[36mvrp_study.pdptw_model.routing_model\u001b[0m:\u001b[36m__call__\u001b[0m:\u001b[36m37\u001b[0m - \u001b[34m\u001b[1mfind new solution (277): 814068, best solution: 814068\u001b[0m\n",
      "\u001b[32m2025-07-07 15:28:10.943\u001b[0m | \u001b[34m\u001b[1mDEBUG   \u001b[0m | \u001b[36mvrp_study.pdptw_model.routing_model\u001b[0m:\u001b[36m__call__\u001b[0m:\u001b[36m37\u001b[0m - \u001b[34m\u001b[1mfind new solution (278): 813509, best solution: 813509\u001b[0m\n",
      "\u001b[32m2025-07-07 15:28:11.429\u001b[0m | \u001b[34m\u001b[1mDEBUG   \u001b[0m | \u001b[36mvrp_study.pdptw_model.routing_model\u001b[0m:\u001b[36m__call__\u001b[0m:\u001b[36m37\u001b[0m - \u001b[34m\u001b[1mfind new solution (279): 813344, best solution: 813344\u001b[0m\n",
      "\u001b[32m2025-07-07 15:28:12.294\u001b[0m | \u001b[34m\u001b[1mDEBUG   \u001b[0m | \u001b[36mvrp_study.pdptw_model.routing_model\u001b[0m:\u001b[36m__call__\u001b[0m:\u001b[36m37\u001b[0m - \u001b[34m\u001b[1mfind new solution (280): 813159, best solution: 813159\u001b[0m\n",
      "\u001b[32m2025-07-07 15:28:13.995\u001b[0m | \u001b[34m\u001b[1mDEBUG   \u001b[0m | \u001b[36mvrp_study.pdptw_model.routing_model\u001b[0m:\u001b[36m__call__\u001b[0m:\u001b[36m37\u001b[0m - \u001b[34m\u001b[1mfind new solution (281): 811834, best solution: 811834\u001b[0m\n",
      "\u001b[32m2025-07-07 15:28:14.186\u001b[0m | \u001b[34m\u001b[1mDEBUG   \u001b[0m | \u001b[36mvrp_study.pdptw_model.routing_model\u001b[0m:\u001b[36m__call__\u001b[0m:\u001b[36m37\u001b[0m - \u001b[34m\u001b[1mfind new solution (282): 811598, best solution: 811598\u001b[0m\n",
      "\u001b[32m2025-07-07 15:28:14.995\u001b[0m | \u001b[34m\u001b[1mDEBUG   \u001b[0m | \u001b[36mvrp_study.pdptw_model.routing_model\u001b[0m:\u001b[36m__call__\u001b[0m:\u001b[36m37\u001b[0m - \u001b[34m\u001b[1mfind new solution (283): 806984, best solution: 806984\u001b[0m\n",
      "\u001b[32m2025-07-07 15:28:15.562\u001b[0m | \u001b[34m\u001b[1mDEBUG   \u001b[0m | \u001b[36mvrp_study.pdptw_model.routing_model\u001b[0m:\u001b[36m__call__\u001b[0m:\u001b[36m37\u001b[0m - \u001b[34m\u001b[1mfind new solution (284): 806816, best solution: 806816\u001b[0m\n",
      "\u001b[32m2025-07-07 15:28:15.588\u001b[0m | \u001b[34m\u001b[1mDEBUG   \u001b[0m | \u001b[36mvrp_study.pdptw_model.routing_model\u001b[0m:\u001b[36m__call__\u001b[0m:\u001b[36m37\u001b[0m - \u001b[34m\u001b[1mfind new solution (285): 806813, best solution: 806813\u001b[0m\n",
      "\u001b[32m2025-07-07 15:28:15.714\u001b[0m | \u001b[34m\u001b[1mDEBUG   \u001b[0m | \u001b[36mvrp_study.pdptw_model.routing_model\u001b[0m:\u001b[36m__call__\u001b[0m:\u001b[36m37\u001b[0m - \u001b[34m\u001b[1mfind new solution (286): 806293, best solution: 806293\u001b[0m\n",
      "\u001b[32m2025-07-07 15:28:16.007\u001b[0m | \u001b[34m\u001b[1mDEBUG   \u001b[0m | \u001b[36mvrp_study.pdptw_model.routing_model\u001b[0m:\u001b[36m__call__\u001b[0m:\u001b[36m37\u001b[0m - \u001b[34m\u001b[1mfind new solution (287): 805771, best solution: 805771\u001b[0m\n",
      "\u001b[32m2025-07-07 15:28:16.855\u001b[0m | \u001b[34m\u001b[1mDEBUG   \u001b[0m | \u001b[36mvrp_study.pdptw_model.routing_model\u001b[0m:\u001b[36m__call__\u001b[0m:\u001b[36m37\u001b[0m - \u001b[34m\u001b[1mfind new solution (288): 805683, best solution: 805683\u001b[0m\n",
      "\u001b[32m2025-07-07 15:28:17.775\u001b[0m | \u001b[34m\u001b[1mDEBUG   \u001b[0m | \u001b[36mvrp_study.pdptw_model.routing_model\u001b[0m:\u001b[36m__call__\u001b[0m:\u001b[36m37\u001b[0m - \u001b[34m\u001b[1mfind new solution (289): 805509, best solution: 805509\u001b[0m\n",
      "\u001b[32m2025-07-07 15:28:18.304\u001b[0m | \u001b[34m\u001b[1mDEBUG   \u001b[0m | \u001b[36mvrp_study.pdptw_model.routing_model\u001b[0m:\u001b[36m__call__\u001b[0m:\u001b[36m37\u001b[0m - \u001b[34m\u001b[1mfind new solution (290): 802366, best solution: 802366\u001b[0m\n",
      "\u001b[32m2025-07-07 15:28:23.100\u001b[0m | \u001b[34m\u001b[1mDEBUG   \u001b[0m | \u001b[36mvrp_study.pdptw_model.routing_model\u001b[0m:\u001b[36m__call__\u001b[0m:\u001b[36m37\u001b[0m - \u001b[34m\u001b[1mfind new solution (291): 802338, best solution: 802338\u001b[0m\n",
      "\u001b[32m2025-07-07 15:28:24.093\u001b[0m | \u001b[34m\u001b[1mDEBUG   \u001b[0m | \u001b[36mvrp_study.pdptw_model.routing_model\u001b[0m:\u001b[36m__call__\u001b[0m:\u001b[36m37\u001b[0m - \u001b[34m\u001b[1mfind new solution (292): 802020, best solution: 802020\u001b[0m\n",
      "\u001b[32m2025-07-07 15:28:24.419\u001b[0m | \u001b[34m\u001b[1mDEBUG   \u001b[0m | \u001b[36mvrp_study.pdptw_model.routing_model\u001b[0m:\u001b[36m__call__\u001b[0m:\u001b[36m37\u001b[0m - \u001b[34m\u001b[1mfind new solution (293): 801803, best solution: 801803\u001b[0m\n",
      "\u001b[32m2025-07-07 15:28:24.641\u001b[0m | \u001b[34m\u001b[1mDEBUG   \u001b[0m | \u001b[36mvrp_study.pdptw_model.routing_model\u001b[0m:\u001b[36m__call__\u001b[0m:\u001b[36m37\u001b[0m - \u001b[34m\u001b[1mfind new solution (294): 801798, best solution: 801798\u001b[0m\n",
      "\u001b[32m2025-07-07 15:28:24.779\u001b[0m | \u001b[34m\u001b[1mDEBUG   \u001b[0m | \u001b[36mvrp_study.pdptw_model.routing_model\u001b[0m:\u001b[36m__call__\u001b[0m:\u001b[36m37\u001b[0m - \u001b[34m\u001b[1mfind new solution (295): 799714, best solution: 799714\u001b[0m\n",
      "\u001b[32m2025-07-07 15:28:25.351\u001b[0m | \u001b[34m\u001b[1mDEBUG   \u001b[0m | \u001b[36mvrp_study.pdptw_model.routing_model\u001b[0m:\u001b[36m__call__\u001b[0m:\u001b[36m37\u001b[0m - \u001b[34m\u001b[1mfind new solution (296): 799059, best solution: 799059\u001b[0m\n",
      "\u001b[32m2025-07-07 15:28:25.359\u001b[0m | \u001b[34m\u001b[1mDEBUG   \u001b[0m | \u001b[36mvrp_study.pdptw_model.routing_model\u001b[0m:\u001b[36m__call__\u001b[0m:\u001b[36m37\u001b[0m - \u001b[34m\u001b[1mfind new solution (297): 799014, best solution: 799014\u001b[0m\n",
      "\u001b[32m2025-07-07 15:28:26.617\u001b[0m | \u001b[1mINFO    \u001b[0m | \u001b[36mvrp_study.solver\u001b[0m:\u001b[36msolve\u001b[0m:\u001b[36m174\u001b[0m - \u001b[1msolution found\u001b[0m\n"
     ]
    },
    {
     "data": {
      "text/plain": [
       "(799014,\n",
       " {0: Route(id=0, path=[0, 147, 148, 19, 315, 316, 285, 286, 20, 253, 254, 0], tariff=Tariff(id='car', capacity=200, cost_per_distance=[TariffCost(min_dst_km=0, max_dst_km=10000, cost_per_km=1, fixed_cost=0)], max_count=100)),\n",
       "  1: Route(id=1, path=[0, 297, 298, 81, 323, 324, 287, 311, 312, 288, 203, 204, 82, 0], tariff=Tariff(id='car', capacity=200, cost_per_distance=[TariffCost(min_dst_km=0, max_dst_km=10000, cost_per_km=1, fixed_cost=0)], max_count=100)),\n",
       "  2: Route(id=2, path=[0, 95, 99, 96, 100, 1, 197, 215, 198, 2, 216, 0], tariff=Tariff(id='car', capacity=200, cost_per_distance=[TariffCost(min_dst_km=0, max_dst_km=10000, cost_per_km=1, fixed_cost=0)], max_count=100)),\n",
       "  3: Route(id=3, path=[0, 277, 173, 174, 5, 278, 6, 0], tariff=Tariff(id='car', capacity=200, cost_per_distance=[TariffCost(min_dst_km=0, max_dst_km=10000, cost_per_km=1, fixed_cost=0)], max_count=100)),\n",
       "  4: Route(id=4, path=[0, 73, 39, 301, 61, 62, 91, 92, 302, 74, 40, 0], tariff=Tariff(id='car', capacity=200, cost_per_distance=[TariffCost(min_dst_km=0, max_dst_km=10000, cost_per_km=1, fixed_cost=0)], max_count=100)),\n",
       "  6: Route(id=6, path=[0, 371, 121, 372, 417, 265, 122, 261, 262, 266, 418, 0], tariff=Tariff(id='car', capacity=200, cost_per_distance=[TariffCost(min_dst_km=0, max_dst_km=10000, cost_per_km=1, fixed_cost=0)], max_count=100)),\n",
       "  7: Route(id=7, path=[0, 25, 313, 29, 314, 175, 243, 244, 176, 139, 26, 30, 140, 353, 354, 0], tariff=Tariff(id='car', capacity=200, cost_per_distance=[TariffCost(min_dst_km=0, max_dst_km=10000, cost_per_km=1, fixed_cost=0)], max_count=100)),\n",
       "  8: Route(id=8, path=[0, 125, 411, 412, 11, 135, 136, 126, 27, 385, 12, 28, 386, 0], tariff=Tariff(id='car', capacity=200, cost_per_distance=[TariffCost(min_dst_km=0, max_dst_km=10000, cost_per_km=1, fixed_cost=0)], max_count=100)),\n",
       "  10: Route(id=10, path=[0, 65, 66, 55, 23, 17, 24, 18, 56, 0], tariff=Tariff(id='car', capacity=200, cost_per_distance=[TariffCost(min_dst_km=0, max_dst_km=10000, cost_per_km=1, fixed_cost=0)], max_count=100)),\n",
       "  11: Route(id=11, path=[0, 155, 71, 111, 72, 156, 409, 112, 410, 0], tariff=Tariff(id='car', capacity=200, cost_per_distance=[TariffCost(min_dst_km=0, max_dst_km=10000, cost_per_km=1, fixed_cost=0)], max_count=100)),\n",
       "  12: Route(id=12, path=[0, 87, 201, 307, 308, 393, 394, 202, 41, 42, 88, 0], tariff=Tariff(id='car', capacity=200, cost_per_distance=[TariffCost(min_dst_km=0, max_dst_km=10000, cost_per_km=1, fixed_cost=0)], max_count=100)),\n",
       "  13: Route(id=13, path=[0, 399, 231, 159, 239, 299, 160, 400, 300, 240, 232, 0], tariff=Tariff(id='car', capacity=200, cost_per_distance=[TariffCost(min_dst_km=0, max_dst_km=10000, cost_per_km=1, fixed_cost=0)], max_count=100)),\n",
       "  14: Route(id=14, path=[0, 167, 105, 281, 168, 79, 282, 395, 396, 143, 144, 106, 149, 150, 80, 0], tariff=Tariff(id='car', capacity=200, cost_per_distance=[TariffCost(min_dst_km=0, max_dst_km=10000, cost_per_km=1, fixed_cost=0)], max_count=100)),\n",
       "  15: Route(id=15, path=[0, 263, 363, 341, 141, 342, 264, 142, 331, 332, 364, 0], tariff=Tariff(id='car', capacity=200, cost_per_distance=[TariffCost(min_dst_km=0, max_dst_km=10000, cost_per_km=1, fixed_cost=0)], max_count=100)),\n",
       "  16: Route(id=16, path=[0, 45, 251, 252, 46, 229, 230, 183, 184, 0], tariff=Tariff(id='car', capacity=200, cost_per_distance=[TariffCost(min_dst_km=0, max_dst_km=10000, cost_per_km=1, fixed_cost=0)], max_count=100)),\n",
       "  17: Route(id=17, path=[0, 181, 182, 213, 413, 375, 376, 3, 414, 214, 4, 407, 408, 0], tariff=Tariff(id='car', capacity=200, cost_per_distance=[TariffCost(min_dst_km=0, max_dst_km=10000, cost_per_km=1, fixed_cost=0)], max_count=100)),\n",
       "  18: Route(id=18, path=[0, 59, 49, 129, 153, 154, 60, 305, 50, 130, 306, 0], tariff=Tariff(id='car', capacity=200, cost_per_distance=[TariffCost(min_dst_km=0, max_dst_km=10000, cost_per_km=1, fixed_cost=0)], max_count=100)),\n",
       "  19: Route(id=19, path=[0, 379, 380, 145, 303, 146, 304, 389, 221, 161, 162, 222, 390, 0], tariff=Tariff(id='car', capacity=200, cost_per_distance=[TariffCost(min_dst_km=0, max_dst_km=10000, cost_per_km=1, fixed_cost=0)], max_count=100)),\n",
       "  20: Route(id=20, path=[0, 21, 237, 271, 22, 415, 416, 238, 272, 351, 352, 0], tariff=Tariff(id='car', capacity=200, cost_per_distance=[TariffCost(min_dst_km=0, max_dst_km=10000, cost_per_km=1, fixed_cost=0)], max_count=100)),\n",
       "  21: Route(id=21, path=[0, 383, 193, 367, 347, 348, 384, 219, 220, 368, 235, 236, 194, 0], tariff=Tariff(id='car', capacity=200, cost_per_distance=[TariffCost(min_dst_km=0, max_dst_km=10000, cost_per_km=1, fixed_cost=0)], max_count=100)),\n",
       "  22: Route(id=22, path=[0, 85, 9, 86, 403, 404, 89, 10, 90, 247, 248, 157, 158, 361, 362, 0], tariff=Tariff(id='car', capacity=200, cost_per_distance=[TariffCost(min_dst_km=0, max_dst_km=10000, cost_per_km=1, fixed_cost=0)], max_count=100)),\n",
       "  23: Route(id=23, path=[0, 225, 101, 102, 31, 43, 233, 32, 44, 234, 226, 0], tariff=Tariff(id='car', capacity=200, cost_per_distance=[TariffCost(min_dst_km=0, max_dst_km=10000, cost_per_km=1, fixed_cost=0)], max_count=100)),\n",
       "  24: Route(id=24, path=[0, 295, 405, 406, 369, 189, 296, 370, 397, 357, 398, 358, 190, 0], tariff=Tariff(id='car', capacity=200, cost_per_distance=[TariffCost(min_dst_km=0, max_dst_km=10000, cost_per_km=1, fixed_cost=0)], max_count=100)),\n",
       "  25: Route(id=25, path=[0, 131, 113, 127, 257, 258, 128, 132, 191, 192, 114, 0], tariff=Tariff(id='car', capacity=200, cost_per_distance=[TariffCost(min_dst_km=0, max_dst_km=10000, cost_per_km=1, fixed_cost=0)], max_count=100)),\n",
       "  26: Route(id=26, path=[0, 387, 33, 388, 321, 322, 199, 34, 267, 268, 200, 255, 256, 0], tariff=Tariff(id='car', capacity=200, cost_per_distance=[TariffCost(min_dst_km=0, max_dst_km=10000, cost_per_km=1, fixed_cost=0)], max_count=100)),\n",
       "  27: Route(id=27, path=[0, 171, 241, 242, 289, 290, 109, 110, 93, 94, 172, 345, 346, 0], tariff=Tariff(id='car', capacity=200, cost_per_distance=[TariffCost(min_dst_km=0, max_dst_km=10000, cost_per_km=1, fixed_cost=0)], max_count=100)),\n",
       "  28: Route(id=28, path=[0, 57, 275, 276, 355, 185, 356, 53, 58, 217, 186, 218, 54, 0], tariff=Tariff(id='car', capacity=200, cost_per_distance=[TariffCost(min_dst_km=0, max_dst_km=10000, cost_per_km=1, fixed_cost=0)], max_count=100)),\n",
       "  29: Route(id=29, path=[0, 133, 134, 279, 151, 152, 169, 280, 170, 0], tariff=Tariff(id='car', capacity=200, cost_per_distance=[TariffCost(min_dst_km=0, max_dst_km=10000, cost_per_km=1, fixed_cost=0)], max_count=100)),\n",
       "  30: Route(id=30, path=[0, 165, 337, 47, 48, 166, 338, 209, 325, 177, 178, 326, 210, 0], tariff=Tariff(id='car', capacity=200, cost_per_distance=[TariffCost(min_dst_km=0, max_dst_km=10000, cost_per_km=1, fixed_cost=0)], max_count=100)),\n",
       "  31: Route(id=31, path=[0, 373, 293, 294, 317, 318, 374, 365, 309, 310, 223, 366, 224, 0], tariff=Tariff(id='car', capacity=200, cost_per_distance=[TariffCost(min_dst_km=0, max_dst_km=10000, cost_per_km=1, fixed_cost=0)], max_count=100)),\n",
       "  32: Route(id=32, path=[0, 195, 349, 381, 35, 15, 16, 382, 36, 350, 391, 392, 196, 0], tariff=Tariff(id='car', capacity=200, cost_per_distance=[TariffCost(min_dst_km=0, max_dst_km=10000, cost_per_km=1, fixed_cost=0)], max_count=100)),\n",
       "  33: Route(id=33, path=[0, 245, 329, 67, 246, 339, 83, 84, 340, 68, 330, 0], tariff=Tariff(id='car', capacity=200, cost_per_distance=[TariffCost(min_dst_km=0, max_dst_km=10000, cost_per_km=1, fixed_cost=0)], max_count=100)),\n",
       "  34: Route(id=34, path=[0, 77, 211, 51, 283, 273, 52, 137, 274, 78, 284, 212, 138, 335, 336, 0], tariff=Tariff(id='car', capacity=200, cost_per_distance=[TariffCost(min_dst_km=0, max_dst_km=10000, cost_per_km=1, fixed_cost=0)], max_count=100)),\n",
       "  35: Route(id=35, path=[0, 187, 115, 69, 327, 116, 188, 70, 328, 7, 8, 291, 292, 0], tariff=Tariff(id='car', capacity=200, cost_per_distance=[TariffCost(min_dst_km=0, max_dst_km=10000, cost_per_km=1, fixed_cost=0)], max_count=100)),\n",
       "  37: Route(id=37, path=[0, 75, 63, 64, 117, 76, 123, 118, 124, 0], tariff=Tariff(id='car', capacity=200, cost_per_distance=[TariffCost(min_dst_km=0, max_dst_km=10000, cost_per_km=1, fixed_cost=0)], max_count=100)),\n",
       "  38: Route(id=38, path=[0, 97, 227, 228, 37, 107, 38, 205, 98, 206, 108, 0], tariff=Tariff(id='car', capacity=200, cost_per_distance=[TariffCost(min_dst_km=0, max_dst_km=10000, cost_per_km=1, fixed_cost=0)], max_count=100)),\n",
       "  39: Route(id=39, path=[0, 249, 250, 13, 14, 319, 320, 269, 270, 401, 402, 0], tariff=Tariff(id='car', capacity=200, cost_per_distance=[TariffCost(min_dst_km=0, max_dst_km=10000, cost_per_km=1, fixed_cost=0)], max_count=100)),\n",
       "  40: Route(id=40, path=[0, 163, 164, 343, 333, 377, 378, 179, 180, 334, 344, 0], tariff=Tariff(id='car', capacity=200, cost_per_distance=[TariffCost(min_dst_km=0, max_dst_km=10000, cost_per_km=1, fixed_cost=0)], max_count=100)),\n",
       "  41: Route(id=41, path=[0, 119, 120, 207, 208, 259, 260, 359, 103, 360, 104, 0], tariff=Tariff(id='car', capacity=200, cost_per_distance=[TariffCost(min_dst_km=0, max_dst_km=10000, cost_per_km=1, fixed_cost=0)], max_count=100))})"
      ]
     },
     "execution_count": 15,
     "metadata": {},
     "output_type": "execute_result"
    }
   ],
   "source": [
    "from vrp_study.pdptw_model.solution_builder import SolutionBuilder\n",
    "from vrp_study.pdptw_model.routing_model import get_optimal_model_params, PDP_CONSTRAINTS, get_solution, SolutionCallback\n",
    "from vrp_study.solver import VehicleRoutingSolver\n",
    "\n",
    "\n",
    "vrp_solver = VehicleRoutingSolver(routing_manager=routing_manager,\n",
    "                                  solution_callback=SolutionCallback,\n",
    "                                  solution_processing=None,\n",
    "                                  search_parameters=get_optimal_model_params(), \n",
    "                                  initial_solution_builder=None, \n",
    "                                  constraints=PDP_CONSTRAINTS)\n",
    "\n",
    "vrp_solver.solve()"
   ]
  },
  {
   "cell_type": "code",
   "execution_count": 12,
   "id": "33bc623d73fbab33",
   "metadata": {
    "collapsed": false
   },
   "outputs": [],
   "source": [
    "#  best_score: 107\n",
    "# 2025-06-02 14:45:05,380 - routing_model [INFO] - best_score: 46228.27"
   ]
  },
  {
   "cell_type": "code",
   "execution_count": 13,
   "id": "6c8841a344403423",
   "metadata": {
    "collapsed": false
   },
   "outputs": [],
   "source": [
    "# est_score: 8\n",
    "# 2025-06-02 14:25:30,179 - routing_model [INFO] - best_score: 1979.21"
   ]
  },
  {
   "cell_type": "code",
   "execution_count": 14,
   "id": "3dec13fea9c46a8c",
   "metadata": {
    "collapsed": false
   },
   "outputs": [
    {
     "ename": "NameError",
     "evalue": "name 'sol' is not defined",
     "output_type": "error",
     "traceback": [
      "\u001b[0;31m---------------------------------------------------------------------------\u001b[0m",
      "\u001b[0;31mNameError\u001b[0m                                 Traceback (most recent call last)",
      "Cell \u001b[0;32mIn[14], line 2\u001b[0m\n\u001b[1;32m      1\u001b[0m total_l \u001b[38;5;241m=\u001b[39m \u001b[38;5;241m0\u001b[39m\n\u001b[0;32m----> 2\u001b[0m \u001b[38;5;28;01mfor\u001b[39;00m s \u001b[38;5;129;01min\u001b[39;00m \u001b[43msol\u001b[49m[\u001b[38;5;241m0\u001b[39m]:\n\u001b[1;32m      3\u001b[0m     \u001b[38;5;28;01mif\u001b[39;00m \u001b[38;5;28mlen\u001b[39m(s) \u001b[38;5;241m>\u001b[39m \u001b[38;5;241m0\u001b[39m:\n\u001b[1;32m      4\u001b[0m         \u001b[38;5;66;03m# print(s)\u001b[39;00m\n\u001b[1;32m      5\u001b[0m         \u001b[38;5;66;03m# a = routing_manager.nodes()[s[i]]\u001b[39;00m\n\u001b[1;32m      6\u001b[0m         \u001b[38;5;66;03m# b = routing_manager.nodes()[s[i+1]]\u001b[39;00m\n\u001b[1;32m      8\u001b[0m         l \u001b[38;5;241m=\u001b[39m \u001b[38;5;28msum\u001b[39m(routing_manager\u001b[38;5;241m.\u001b[39mget_distance(routing_manager\u001b[38;5;241m.\u001b[39mnodes()[s[i]], routing_manager\u001b[38;5;241m.\u001b[39mnodes()[s[i \u001b[38;5;241m+\u001b[39m \u001b[38;5;241m1\u001b[39m]]) \u001b[38;5;28;01mfor\u001b[39;00m i \u001b[38;5;129;01min\u001b[39;00m \u001b[38;5;28mrange\u001b[39m(\u001b[38;5;28mlen\u001b[39m(s) \u001b[38;5;241m-\u001b[39m \u001b[38;5;241m1\u001b[39m))\n",
      "\u001b[0;31mNameError\u001b[0m: name 'sol' is not defined"
     ]
    }
   ],
   "source": [
    "total_l = 0\n",
    "for s in sol[0]:\n",
    "    if len(s) > 0:\n",
    "        # print(s)\n",
    "        # a = routing_manager.nodes()[s[i]]\n",
    "        # b = routing_manager.nodes()[s[i+1]]\n",
    "        \n",
    "        l = sum(routing_manager.get_distance(routing_manager.nodes()[s[i]], routing_manager.nodes()[s[i + 1]]) for i in range(len(s) - 1))\n",
    "        # print(s, l)\n",
    "        total_l += l\n",
    "total_l"
   ]
  },
  {
   "cell_type": "code",
   "execution_count": null,
   "id": "a5835ff8",
   "metadata": {},
   "outputs": [
    {
     "data": {
      "text/plain": [
       "vrp_study.routing_manager.RoutingManager"
      ]
     },
     "execution_count": 47,
     "metadata": {},
     "output_type": "execute_result"
    }
   ],
   "source": [
    "type(routing_manager)"
   ]
  },
  {
   "cell_type": "code",
   "execution_count": null,
   "id": "2b3a47a4a6ce1eff",
   "metadata": {
    "collapsed": false
   },
   "outputs": [],
   "source": [
    "for crg in cargos:\n",
    "    in1 = routing_manager_builder._node_to_inner_node[crg.nodes[0]]\n",
    "    in2 = routing_manager_builder._node_to_inner_node[crg.nodes[1]]\n",
    "\n",
    "    start = None\n",
    "    end = None\n",
    "    in_time = None\n",
    "    out_time = None\n",
    "\n",
    "    for i, s in enumerate(sol[0]):\n",
    "        s_time = sol[1][i]\n",
    "        if len(s) == 0:\n",
    "            continue\n",
    "\n",
    "        for order, i in enumerate(s):\n",
    "            if i == in1.id:\n",
    "                start = i\n",
    "                in_time = s_time[order]\n",
    "            if i == in2.id:\n",
    "                end = i\n",
    "                out_time = s_time[order]\n",
    "\n",
    "    assert start is not None and end is not None and start < end, (start, end)\n",
    "\n",
    "    if not (crg.nodes[0].start_time <= in_time[0] and crg.nodes[0].end_time >= in_time[1]):\n",
    "        print(in_time, crg.nodes[0].start_time, crg.nodes[0].end_time)\n",
    "    if not (crg.nodes[1].start_time <= out_time[0] and crg.nodes[1].end_time >= out_time[1]):\n",
    "        print(out_time, crg.nodes[0].start_time, crg.nodes[0].end_time)"
   ]
  },
  {
   "cell_type": "code",
   "execution_count": null,
   "id": "2661b09e310b799f",
   "metadata": {
    "collapsed": false
   },
   "outputs": [],
   "source": []
  }
 ],
 "metadata": {
  "kernelspec": {
   "display_name": "operations_research",
   "language": "python",
   "name": "python3"
  },
  "language_info": {
   "codemirror_mode": {
    "name": "ipython",
    "version": 3
   },
   "file_extension": ".py",
   "mimetype": "text/x-python",
   "name": "python",
   "nbconvert_exporter": "python",
   "pygments_lexer": "ipython3",
   "version": "3.11.4"
  }
 },
 "nbformat": 4,
 "nbformat_minor": 5
}
