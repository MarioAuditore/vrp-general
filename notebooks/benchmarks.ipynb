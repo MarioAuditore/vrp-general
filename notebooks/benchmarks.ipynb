{
 "cells": [
  {
   "cell_type": "code",
   "execution_count": 1,
   "id": "db1d78be09bd5094",
   "metadata": {
    "ExecuteTime": {
     "end_time": "2025-07-02T13:41:34.671808Z",
     "start_time": "2025-07-02T13:41:34.659765Z"
    },
    "collapsed": false
   },
   "outputs": [],
   "source": [
    "from loguru import logger as log\n",
    "\n",
    "import sys\n",
    "\n",
    "sys.path.append('../')"
   ]
  },
  {
   "cell_type": "code",
   "execution_count": 2,
   "id": "initial_id",
   "metadata": {
    "ExecuteTime": {
     "end_time": "2025-07-02T13:41:34.935050Z",
     "start_time": "2025-07-02T13:41:34.673079Z"
    },
    "collapsed": true
   },
   "outputs": [],
   "source": [
    "import numpy as np\n",
    "from ortools.sat.python import cp_model\n",
    "\n",
    "from vrp_study.data_model import Tariff, Cargo, Node\n",
    "from vrp_study.data_model import TariffCost\n",
    "from vrp_study.routing_manager import PDRoutingManager\n",
    "from vrp_study.ortools_routing_model.routing_model import find_optimal_paths"
   ]
  },
  {
   "cell_type": "code",
   "execution_count": 3,
   "id": "559f79286744de08",
   "metadata": {
    "ExecuteTime": {
     "end_time": "2025-07-02T13:41:34.937489Z",
     "start_time": "2025-07-02T13:41:34.935677Z"
    },
    "collapsed": false
   },
   "outputs": [],
   "source": [
    "benchmark_type = 'pdptw1000'\n",
    "name = 'LRC1_10_7.txt'"
   ]
  },
  {
   "cell_type": "code",
   "execution_count": 4,
   "id": "991efc321c7b5ad9",
   "metadata": {
    "ExecuteTime": {
     "end_time": "2025-07-02T13:41:34.941441Z",
     "start_time": "2025-07-02T13:41:34.938199Z"
    },
    "collapsed": false
   },
   "outputs": [],
   "source": [
    "from typing import Optional\n",
    "\n",
    "tariff = None\n",
    "cargos: list[Cargo] = []\n",
    "depo: Optional[Node] = None"
   ]
  },
  {
   "cell_type": "code",
   "execution_count": 5,
   "id": "9a1a50b9550c425c",
   "metadata": {
    "ExecuteTime": {
     "end_time": "2025-07-02T13:41:34.947086Z",
     "start_time": "2025-07-02T13:41:34.941938Z"
    },
    "collapsed": false
   },
   "outputs": [],
   "source": [
    "id2info = {}\n",
    "p2coordinates = {}\n",
    "with open(f'../data/Li & Lim benchmark/{benchmark_type}/{name}', 'r') as file:\n",
    "    for i, line in enumerate(file):\n",
    "        line = line.split('\\t')\n",
    "        if i == 0:\n",
    "            tariff = Tariff(\n",
    "                id='car',\n",
    "                capacity=int(line[1]),\n",
    "                max_count=int(line[0]),\n",
    "                cost_per_distance=[TariffCost(\n",
    "                    min_dst_km=0,\n",
    "                    max_dst_km=10000,\n",
    "                    cost_per_km=1,\n",
    "                    fixed_cost=0\n",
    "                )]\n",
    "            )\n",
    "        else:\n",
    "            c_id = int(line[0])\n",
    "            x = int(line[1])\n",
    "            y = int(line[2])\n",
    "\n",
    "            mass = int(line[3])\n",
    "\n",
    "            et = int(line[4])\n",
    "            lt = int(line[5])\n",
    "            st = int(line[6])\n",
    "\n",
    "            pick_up = int(line[7])\n",
    "            delivery = int(line[8])\n",
    "            if pick_up == delivery:\n",
    "                # print(12)\n",
    "                depo = Node(\n",
    "                    id=0,\n",
    "                    cargo_id=c_id,\n",
    "                    capacity=0,\n",
    "                    service_time=0,\n",
    "                    start_time=0,\n",
    "                    end_time=lt,\n",
    "                    coordinates=(x, y)\n",
    "                )\n",
    "                continue\n",
    "            if pick_up == 0:\n",
    "                if c_id not in id2info:\n",
    "                    id2info[c_id] = {}\n",
    "                id2info[c_id][0] = (x, y, mass, et, lt, st, c_id, delivery)\n",
    "            else:\n",
    "                delivery = c_id\n",
    "                c_id = pick_up\n",
    "                if c_id not in id2info:\n",
    "                    id2info[c_id] = {}\n",
    "                id2info[c_id][1] = (x, y, mass, et, lt, st, pick_up, delivery)\n"
   ]
  },
  {
   "cell_type": "code",
   "execution_count": 6,
   "id": "c2fb6bc413a17132",
   "metadata": {
    "ExecuteTime": {
     "end_time": "2025-07-02T13:41:34.952316Z",
     "start_time": "2025-07-02T13:41:34.947731Z"
    },
    "collapsed": false
   },
   "outputs": [
    {
     "data": {
      "text/plain": [
       "Node(id=0, cargo_id=0, capacity=0, start_time=0, end_time=1821, service_time=0, coordinates=(250, 250))"
      ]
     },
     "execution_count": 6,
     "metadata": {},
     "output_type": "execute_result"
    }
   ],
   "source": [
    "depo"
   ]
  },
  {
   "cell_type": "code",
   "execution_count": 7,
   "id": "f7bbc6862498a04e",
   "metadata": {
    "ExecuteTime": {
     "end_time": "2025-07-02T13:41:34.958153Z",
     "start_time": "2025-07-02T13:41:34.952766Z"
    },
    "collapsed": false
   },
   "outputs": [],
   "source": [
    "\n",
    "for k, v in id2info.items():\n",
    "    cargos.append(\n",
    "        Cargo(\n",
    "            id=k,\n",
    "            nodes=[\n",
    "                Node(\n",
    "                    cargo_id=k,\n",
    "                    id=v[i][6] if i == 0 else v[i][7],\n",
    "                    capacity=v[i][2],\n",
    "                    service_time=v[i][5],\n",
    "                    start_time=v[i][3],\n",
    "                    end_time=v[i][4],\n",
    "                    coordinates=(v[i][0], v[i][1])\n",
    "                )\n",
    "                for i in range(2)\n",
    "            ]\n",
    "        )\n",
    "    )"
   ]
  },
  {
   "cell_type": "code",
   "execution_count": 8,
   "id": "4239a4ae965983df",
   "metadata": {
    "ExecuteTime": {
     "end_time": "2025-07-02T13:41:37.272150Z",
     "start_time": "2025-07-02T13:41:34.958739Z"
    },
    "collapsed": false
   },
   "outputs": [],
   "source": [
    "p2coordinates.update({\n",
    "    crg.nodes[i].id: crg.nodes[i].coordinates for crg in cargos for i in range(2)\n",
    "})\n",
    "p2coordinates[depo.id] = depo.coordinates\n",
    "distance_matrix = {(u, v): np.sqrt((du[0] - dv[0]) ** 2 + (du[1] - dv[1]) ** 2) for u, du in\n",
    "                   p2coordinates.items() for\n",
    "                   v, dv in p2coordinates.items()}\n",
    "time_matrix = {(u, v): np.sqrt((du[0] - dv[0]) ** 2 + (du[1] - dv[1]) ** 2) for u, du in p2coordinates.items() for\n",
    "               v, dv in p2coordinates.items()}"
   ]
  },
  {
   "cell_type": "code",
   "execution_count": null,
   "id": "6bd1e99727e05112",
   "metadata": {
    "ExecuteTime": {
     "end_time": "2025-07-02T13:41:37.893230Z",
     "start_time": "2025-07-02T13:41:37.273127Z"
    },
    "collapsed": false
   },
   "outputs": [],
   "source": [
    "from vrp_study.configs import ModelConfig\n",
    "\n",
    "\n",
    "routing_manager = PDRoutingManager(\n",
    "    distance_matrix = distance_matrix,\n",
    "    time_matrix = time_matrix,\n",
    "    model_config=ModelConfig(max_execution_time_minutes=1)\n",
    ")\n",
    "\n",
    "routing_manager.add_cargos(cargos)\n",
    "routing_manager.add_tariff(tariff)\n",
    "\n",
    "routing_manager.add_depo(depo)\n",
    "\n",
    "# routing_manager.distance_matrix = distance_matrix\n",
    "# routing_manager.time_matrix = time_matrix\n",
    "\n",
    "\n",
    "routing_manager = routing_manager.build()"
   ]
  },
  {
   "cell_type": "code",
   "execution_count": 10,
   "id": "b89ab99b84f7f518",
   "metadata": {
    "ExecuteTime": {
     "start_time": "2025-07-02T13:41:37.894624Z"
    },
    "collapsed": false,
    "is_executing": true
   },
   "outputs": [
    {
     "name": "stderr",
     "output_type": "stream",
     "text": [
      "\u001b[32m2025-07-02 16:51:32.754\u001b[0m | \u001b[1mINFO    \u001b[0m | \u001b[36mvrp_study.ortools_routing_model.routing_model\u001b[0m:\u001b[36mfind_optimal_paths\u001b[0m:\u001b[36m435\u001b[0m - \u001b[1mproblem size: 1047\u001b[0m\n",
      "\u001b[32m2025-07-02 16:51:32.755\u001b[0m | \u001b[1mINFO    \u001b[0m | \u001b[36mvrp_study.ortools_routing_model.routing_model\u001b[0m:\u001b[36mdo_solve\u001b[0m:\u001b[36m373\u001b[0m - \u001b[1mНачало создания модели\u001b[0m\n",
      "\u001b[32m2025-07-02 16:51:32.756\u001b[0m | \u001b[1mINFO    \u001b[0m | \u001b[36mvrp_study.ortools_routing_model.routing_model\u001b[0m:\u001b[36madd_distance_dimension\u001b[0m:\u001b[36m293\u001b[0m - \u001b[1mДобавление размерности для расстояния\u001b[0m\n",
      "\u001b[32m2025-07-02 16:51:32.757\u001b[0m | \u001b[1mINFO    \u001b[0m | \u001b[36mvrp_study.ortools_routing_model.routing_model\u001b[0m:\u001b[36madd_count_dimension\u001b[0m:\u001b[36m329\u001b[0m - \u001b[1mДобавление размерности для расстояния\u001b[0m\n",
      "\u001b[32m2025-07-02 16:51:32.758\u001b[0m | \u001b[1mINFO    \u001b[0m | \u001b[36mvrp_study.ortools_routing_model.routing_model\u001b[0m:\u001b[36madd_pick_up_and_delivery\u001b[0m:\u001b[36m263\u001b[0m - \u001b[1mДобавление ограничения для порядка доставки\u001b[0m\n",
      "\u001b[32m2025-07-02 16:51:32.761\u001b[0m | \u001b[1mINFO    \u001b[0m | \u001b[36mvrp_study.ortools_routing_model.routing_model\u001b[0m:\u001b[36madd_vehicles_cost\u001b[0m:\u001b[36m237\u001b[0m - \u001b[1mДобавление стоимостей машин\u001b[0m\n",
      "\u001b[32m2025-07-02 16:51:32.762\u001b[0m | \u001b[1mINFO    \u001b[0m | \u001b[36mvrp_study.ortools_routing_model.routing_model\u001b[0m:\u001b[36madd_time_window\u001b[0m:\u001b[36m188\u001b[0m - \u001b[1madd time\u001b[0m\n",
      "\u001b[32m2025-07-02 16:51:32.764\u001b[0m | \u001b[1mINFO    \u001b[0m | \u001b[36mvrp_study.ortools_routing_model.routing_model\u001b[0m:\u001b[36madd_mass_constraint\u001b[0m:\u001b[36m171\u001b[0m - \u001b[1mДобавление ограничений для массы\u001b[0m\n",
      "\u001b[32m2025-07-02 16:51:32.793\u001b[0m | \u001b[1mINFO    \u001b[0m | \u001b[36mvrp_study.ortools_routing_model.routing_model\u001b[0m:\u001b[36mdo_solve\u001b[0m:\u001b[36m399\u001b[0m - \u001b[1mНачало решения\u001b[0m\n",
      "\u001b[32m2025-07-02 16:51:47.272\u001b[0m | \u001b[34m\u001b[1mDEBUG   \u001b[0m | \u001b[36mvrp_study.ortools_routing_model.routing_model\u001b[0m:\u001b[36m__call__\u001b[0m:\u001b[36m34\u001b[0m - \u001b[34m\u001b[1mfind new solution: 6404799, best solution: 6404799\u001b[0m\n",
      "\u001b[32m2025-07-02 16:51:47.394\u001b[0m | \u001b[34m\u001b[1mDEBUG   \u001b[0m | \u001b[36mvrp_study.ortools_routing_model.routing_model\u001b[0m:\u001b[36m__call__\u001b[0m:\u001b[36m34\u001b[0m - \u001b[34m\u001b[1mfind new solution: 6404792, best solution: 6404792\u001b[0m\n",
      "\u001b[32m2025-07-02 16:51:47.423\u001b[0m | \u001b[34m\u001b[1mDEBUG   \u001b[0m | \u001b[36mvrp_study.ortools_routing_model.routing_model\u001b[0m:\u001b[36m__call__\u001b[0m:\u001b[36m34\u001b[0m - \u001b[34m\u001b[1mfind new solution: 6404770, best solution: 6404770\u001b[0m\n",
      "\u001b[32m2025-07-02 16:51:47.462\u001b[0m | \u001b[34m\u001b[1mDEBUG   \u001b[0m | \u001b[36mvrp_study.ortools_routing_model.routing_model\u001b[0m:\u001b[36m__call__\u001b[0m:\u001b[36m34\u001b[0m - \u001b[34m\u001b[1mfind new solution: 6404699, best solution: 6404699\u001b[0m\n",
      "\u001b[32m2025-07-02 16:51:47.492\u001b[0m | \u001b[34m\u001b[1mDEBUG   \u001b[0m | \u001b[36mvrp_study.ortools_routing_model.routing_model\u001b[0m:\u001b[36m__call__\u001b[0m:\u001b[36m34\u001b[0m - \u001b[34m\u001b[1mfind new solution: 6404355, best solution: 6404355\u001b[0m\n",
      "\u001b[32m2025-07-02 16:51:47.535\u001b[0m | \u001b[34m\u001b[1mDEBUG   \u001b[0m | \u001b[36mvrp_study.ortools_routing_model.routing_model\u001b[0m:\u001b[36m__call__\u001b[0m:\u001b[36m34\u001b[0m - \u001b[34m\u001b[1mfind new solution: 6404352, best solution: 6404352\u001b[0m\n",
      "\u001b[32m2025-07-02 16:51:47.562\u001b[0m | \u001b[34m\u001b[1mDEBUG   \u001b[0m | \u001b[36mvrp_study.ortools_routing_model.routing_model\u001b[0m:\u001b[36m__call__\u001b[0m:\u001b[36m34\u001b[0m - \u001b[34m\u001b[1mfind new solution: 6404260, best solution: 6404260\u001b[0m\n",
      "\u001b[32m2025-07-02 16:51:47.590\u001b[0m | \u001b[34m\u001b[1mDEBUG   \u001b[0m | \u001b[36mvrp_study.ortools_routing_model.routing_model\u001b[0m:\u001b[36m__call__\u001b[0m:\u001b[36m34\u001b[0m - \u001b[34m\u001b[1mfind new solution: 6403659, best solution: 6403659\u001b[0m\n",
      "\u001b[32m2025-07-02 16:51:47.616\u001b[0m | \u001b[34m\u001b[1mDEBUG   \u001b[0m | \u001b[36mvrp_study.ortools_routing_model.routing_model\u001b[0m:\u001b[36m__call__\u001b[0m:\u001b[36m34\u001b[0m - \u001b[34m\u001b[1mfind new solution: 6402825, best solution: 6402825\u001b[0m\n",
      "\u001b[32m2025-07-02 16:51:47.803\u001b[0m | \u001b[34m\u001b[1mDEBUG   \u001b[0m | \u001b[36mvrp_study.ortools_routing_model.routing_model\u001b[0m:\u001b[36m__call__\u001b[0m:\u001b[36m34\u001b[0m - \u001b[34m\u001b[1mfind new solution: 6402710, best solution: 6402710\u001b[0m\n",
      "\u001b[32m2025-07-02 16:51:47.892\u001b[0m | \u001b[34m\u001b[1mDEBUG   \u001b[0m | \u001b[36mvrp_study.ortools_routing_model.routing_model\u001b[0m:\u001b[36m__call__\u001b[0m:\u001b[36m34\u001b[0m - \u001b[34m\u001b[1mfind new solution: 6395967, best solution: 6395967\u001b[0m\n",
      "\u001b[32m2025-07-02 16:51:47.919\u001b[0m | \u001b[34m\u001b[1mDEBUG   \u001b[0m | \u001b[36mvrp_study.ortools_routing_model.routing_model\u001b[0m:\u001b[36m__call__\u001b[0m:\u001b[36m34\u001b[0m - \u001b[34m\u001b[1mfind new solution: 6395642, best solution: 6395642\u001b[0m\n",
      "\u001b[32m2025-07-02 16:51:47.948\u001b[0m | \u001b[34m\u001b[1mDEBUG   \u001b[0m | \u001b[36mvrp_study.ortools_routing_model.routing_model\u001b[0m:\u001b[36m__call__\u001b[0m:\u001b[36m34\u001b[0m - \u001b[34m\u001b[1mfind new solution: 6385611, best solution: 6385611\u001b[0m\n",
      "\u001b[32m2025-07-02 16:51:48.049\u001b[0m | \u001b[34m\u001b[1mDEBUG   \u001b[0m | \u001b[36mvrp_study.ortools_routing_model.routing_model\u001b[0m:\u001b[36m__call__\u001b[0m:\u001b[36m34\u001b[0m - \u001b[34m\u001b[1mfind new solution: 6385609, best solution: 6385609\u001b[0m\n",
      "\u001b[32m2025-07-02 16:51:48.077\u001b[0m | \u001b[34m\u001b[1mDEBUG   \u001b[0m | \u001b[36mvrp_study.ortools_routing_model.routing_model\u001b[0m:\u001b[36m__call__\u001b[0m:\u001b[36m34\u001b[0m - \u001b[34m\u001b[1mfind new solution: 6385510, best solution: 6385510\u001b[0m\n",
      "\u001b[32m2025-07-02 16:51:48.207\u001b[0m | \u001b[34m\u001b[1mDEBUG   \u001b[0m | \u001b[36mvrp_study.ortools_routing_model.routing_model\u001b[0m:\u001b[36m__call__\u001b[0m:\u001b[36m34\u001b[0m - \u001b[34m\u001b[1mfind new solution: 6382725, best solution: 6382725\u001b[0m\n",
      "\u001b[32m2025-07-02 16:51:48.234\u001b[0m | \u001b[34m\u001b[1mDEBUG   \u001b[0m | \u001b[36mvrp_study.ortools_routing_model.routing_model\u001b[0m:\u001b[36m__call__\u001b[0m:\u001b[36m34\u001b[0m - \u001b[34m\u001b[1mfind new solution: 6381996, best solution: 6381996\u001b[0m\n",
      "\u001b[32m2025-07-02 16:51:48.262\u001b[0m | \u001b[34m\u001b[1mDEBUG   \u001b[0m | \u001b[36mvrp_study.ortools_routing_model.routing_model\u001b[0m:\u001b[36m__call__\u001b[0m:\u001b[36m34\u001b[0m - \u001b[34m\u001b[1mfind new solution: 6381685, best solution: 6381685\u001b[0m\n",
      "\u001b[32m2025-07-02 16:51:48.349\u001b[0m | \u001b[34m\u001b[1mDEBUG   \u001b[0m | \u001b[36mvrp_study.ortools_routing_model.routing_model\u001b[0m:\u001b[36m__call__\u001b[0m:\u001b[36m34\u001b[0m - \u001b[34m\u001b[1mfind new solution: 6381674, best solution: 6381674\u001b[0m\n",
      "\u001b[32m2025-07-02 16:51:48.408\u001b[0m | \u001b[34m\u001b[1mDEBUG   \u001b[0m | \u001b[36mvrp_study.ortools_routing_model.routing_model\u001b[0m:\u001b[36m__call__\u001b[0m:\u001b[36m34\u001b[0m - \u001b[34m\u001b[1mfind new solution: 6381654, best solution: 6381654\u001b[0m\n",
      "\u001b[32m2025-07-02 16:51:48.534\u001b[0m | \u001b[34m\u001b[1mDEBUG   \u001b[0m | \u001b[36mvrp_study.ortools_routing_model.routing_model\u001b[0m:\u001b[36m__call__\u001b[0m:\u001b[36m34\u001b[0m - \u001b[34m\u001b[1mfind new solution: 6381408, best solution: 6381408\u001b[0m\n",
      "\u001b[32m2025-07-02 16:51:48.591\u001b[0m | \u001b[34m\u001b[1mDEBUG   \u001b[0m | \u001b[36mvrp_study.ortools_routing_model.routing_model\u001b[0m:\u001b[36m__call__\u001b[0m:\u001b[36m34\u001b[0m - \u001b[34m\u001b[1mfind new solution: 6380089, best solution: 6380089\u001b[0m\n",
      "\u001b[32m2025-07-02 16:51:48.707\u001b[0m | \u001b[34m\u001b[1mDEBUG   \u001b[0m | \u001b[36mvrp_study.ortools_routing_model.routing_model\u001b[0m:\u001b[36m__call__\u001b[0m:\u001b[36m34\u001b[0m - \u001b[34m\u001b[1mfind new solution: 6376692, best solution: 6376692\u001b[0m\n",
      "\u001b[32m2025-07-02 16:51:48.741\u001b[0m | \u001b[34m\u001b[1mDEBUG   \u001b[0m | \u001b[36mvrp_study.ortools_routing_model.routing_model\u001b[0m:\u001b[36m__call__\u001b[0m:\u001b[36m34\u001b[0m - \u001b[34m\u001b[1mfind new solution: 6376639, best solution: 6376639\u001b[0m\n",
      "\u001b[32m2025-07-02 16:51:48.964\u001b[0m | \u001b[34m\u001b[1mDEBUG   \u001b[0m | \u001b[36mvrp_study.ortools_routing_model.routing_model\u001b[0m:\u001b[36m__call__\u001b[0m:\u001b[36m34\u001b[0m - \u001b[34m\u001b[1mfind new solution: 6376611, best solution: 6376611\u001b[0m\n",
      "\u001b[32m2025-07-02 16:51:49.002\u001b[0m | \u001b[34m\u001b[1mDEBUG   \u001b[0m | \u001b[36mvrp_study.ortools_routing_model.routing_model\u001b[0m:\u001b[36m__call__\u001b[0m:\u001b[36m34\u001b[0m - \u001b[34m\u001b[1mfind new solution: 6375947, best solution: 6375947\u001b[0m\n",
      "\u001b[32m2025-07-02 16:51:49.039\u001b[0m | \u001b[34m\u001b[1mDEBUG   \u001b[0m | \u001b[36mvrp_study.ortools_routing_model.routing_model\u001b[0m:\u001b[36m__call__\u001b[0m:\u001b[36m34\u001b[0m - \u001b[34m\u001b[1mfind new solution: 6375867, best solution: 6375867\u001b[0m\n",
      "\u001b[32m2025-07-02 16:51:49.091\u001b[0m | \u001b[34m\u001b[1mDEBUG   \u001b[0m | \u001b[36mvrp_study.ortools_routing_model.routing_model\u001b[0m:\u001b[36m__call__\u001b[0m:\u001b[36m34\u001b[0m - \u001b[34m\u001b[1mfind new solution: 6374140, best solution: 6374140\u001b[0m\n",
      "\u001b[32m2025-07-02 16:51:49.124\u001b[0m | \u001b[34m\u001b[1mDEBUG   \u001b[0m | \u001b[36mvrp_study.ortools_routing_model.routing_model\u001b[0m:\u001b[36m__call__\u001b[0m:\u001b[36m34\u001b[0m - \u001b[34m\u001b[1mfind new solution: 6355564, best solution: 6355564\u001b[0m\n",
      "\u001b[32m2025-07-02 16:51:49.689\u001b[0m | \u001b[34m\u001b[1mDEBUG   \u001b[0m | \u001b[36mvrp_study.ortools_routing_model.routing_model\u001b[0m:\u001b[36m__call__\u001b[0m:\u001b[36m34\u001b[0m - \u001b[34m\u001b[1mfind new solution: 6353829, best solution: 6353829\u001b[0m\n",
      "\u001b[32m2025-07-02 16:51:49.716\u001b[0m | \u001b[34m\u001b[1mDEBUG   \u001b[0m | \u001b[36mvrp_study.ortools_routing_model.routing_model\u001b[0m:\u001b[36m__call__\u001b[0m:\u001b[36m34\u001b[0m - \u001b[34m\u001b[1mfind new solution: 6349276, best solution: 6349276\u001b[0m\n",
      "\u001b[32m2025-07-02 16:51:49.750\u001b[0m | \u001b[34m\u001b[1mDEBUG   \u001b[0m | \u001b[36mvrp_study.ortools_routing_model.routing_model\u001b[0m:\u001b[36m__call__\u001b[0m:\u001b[36m34\u001b[0m - \u001b[34m\u001b[1mfind new solution: 6346357, best solution: 6346357\u001b[0m\n",
      "\u001b[32m2025-07-02 16:51:49.791\u001b[0m | \u001b[34m\u001b[1mDEBUG   \u001b[0m | \u001b[36mvrp_study.ortools_routing_model.routing_model\u001b[0m:\u001b[36m__call__\u001b[0m:\u001b[36m34\u001b[0m - \u001b[34m\u001b[1mfind new solution: 6346058, best solution: 6346058\u001b[0m\n",
      "\u001b[32m2025-07-02 16:51:49.819\u001b[0m | \u001b[34m\u001b[1mDEBUG   \u001b[0m | \u001b[36mvrp_study.ortools_routing_model.routing_model\u001b[0m:\u001b[36m__call__\u001b[0m:\u001b[36m34\u001b[0m - \u001b[34m\u001b[1mfind new solution: 6346002, best solution: 6346002\u001b[0m\n",
      "\u001b[32m2025-07-02 16:51:49.975\u001b[0m | \u001b[34m\u001b[1mDEBUG   \u001b[0m | \u001b[36mvrp_study.ortools_routing_model.routing_model\u001b[0m:\u001b[36m__call__\u001b[0m:\u001b[36m34\u001b[0m - \u001b[34m\u001b[1mfind new solution: 6345993, best solution: 6345993\u001b[0m\n",
      "\u001b[32m2025-07-02 16:51:50.003\u001b[0m | \u001b[34m\u001b[1mDEBUG   \u001b[0m | \u001b[36mvrp_study.ortools_routing_model.routing_model\u001b[0m:\u001b[36m__call__\u001b[0m:\u001b[36m34\u001b[0m - \u001b[34m\u001b[1mfind new solution: 6345970, best solution: 6345970\u001b[0m\n",
      "\u001b[32m2025-07-02 16:51:50.036\u001b[0m | \u001b[34m\u001b[1mDEBUG   \u001b[0m | \u001b[36mvrp_study.ortools_routing_model.routing_model\u001b[0m:\u001b[36m__call__\u001b[0m:\u001b[36m34\u001b[0m - \u001b[34m\u001b[1mfind new solution: 6344388, best solution: 6344388\u001b[0m\n",
      "\u001b[32m2025-07-02 16:51:50.533\u001b[0m | \u001b[34m\u001b[1mDEBUG   \u001b[0m | \u001b[36mvrp_study.ortools_routing_model.routing_model\u001b[0m:\u001b[36m__call__\u001b[0m:\u001b[36m34\u001b[0m - \u001b[34m\u001b[1mfind new solution: 6342243, best solution: 6342243\u001b[0m\n",
      "\u001b[32m2025-07-02 16:51:50.561\u001b[0m | \u001b[34m\u001b[1mDEBUG   \u001b[0m | \u001b[36mvrp_study.ortools_routing_model.routing_model\u001b[0m:\u001b[36m__call__\u001b[0m:\u001b[36m34\u001b[0m - \u001b[34m\u001b[1mfind new solution: 6342165, best solution: 6342165\u001b[0m\n",
      "\u001b[32m2025-07-02 16:51:50.590\u001b[0m | \u001b[34m\u001b[1mDEBUG   \u001b[0m | \u001b[36mvrp_study.ortools_routing_model.routing_model\u001b[0m:\u001b[36m__call__\u001b[0m:\u001b[36m34\u001b[0m - \u001b[34m\u001b[1mfind new solution: 6341839, best solution: 6341839\u001b[0m\n",
      "\u001b[32m2025-07-02 16:51:50.619\u001b[0m | \u001b[34m\u001b[1mDEBUG   \u001b[0m | \u001b[36mvrp_study.ortools_routing_model.routing_model\u001b[0m:\u001b[36m__call__\u001b[0m:\u001b[36m34\u001b[0m - \u001b[34m\u001b[1mfind new solution: 6341786, best solution: 6341786\u001b[0m\n",
      "\u001b[32m2025-07-02 16:51:50.654\u001b[0m | \u001b[34m\u001b[1mDEBUG   \u001b[0m | \u001b[36mvrp_study.ortools_routing_model.routing_model\u001b[0m:\u001b[36m__call__\u001b[0m:\u001b[36m34\u001b[0m - \u001b[34m\u001b[1mfind new solution: 6341752, best solution: 6341752\u001b[0m\n",
      "\u001b[32m2025-07-02 16:51:50.683\u001b[0m | \u001b[34m\u001b[1mDEBUG   \u001b[0m | \u001b[36mvrp_study.ortools_routing_model.routing_model\u001b[0m:\u001b[36m__call__\u001b[0m:\u001b[36m34\u001b[0m - \u001b[34m\u001b[1mfind new solution: 6341744, best solution: 6341744\u001b[0m\n",
      "\u001b[32m2025-07-02 16:51:50.733\u001b[0m | \u001b[34m\u001b[1mDEBUG   \u001b[0m | \u001b[36mvrp_study.ortools_routing_model.routing_model\u001b[0m:\u001b[36m__call__\u001b[0m:\u001b[36m34\u001b[0m - \u001b[34m\u001b[1mfind new solution: 6340296, best solution: 6340296\u001b[0m\n",
      "\u001b[32m2025-07-02 16:51:50.762\u001b[0m | \u001b[34m\u001b[1mDEBUG   \u001b[0m | \u001b[36mvrp_study.ortools_routing_model.routing_model\u001b[0m:\u001b[36m__call__\u001b[0m:\u001b[36m34\u001b[0m - \u001b[34m\u001b[1mfind new solution: 6339704, best solution: 6339704\u001b[0m\n",
      "\u001b[32m2025-07-02 16:51:50.800\u001b[0m | \u001b[34m\u001b[1mDEBUG   \u001b[0m | \u001b[36mvrp_study.ortools_routing_model.routing_model\u001b[0m:\u001b[36m__call__\u001b[0m:\u001b[36m34\u001b[0m - \u001b[34m\u001b[1mfind new solution: 6332154, best solution: 6332154\u001b[0m\n",
      "\u001b[32m2025-07-02 16:51:51.127\u001b[0m | \u001b[34m\u001b[1mDEBUG   \u001b[0m | \u001b[36mvrp_study.ortools_routing_model.routing_model\u001b[0m:\u001b[36m__call__\u001b[0m:\u001b[36m34\u001b[0m - \u001b[34m\u001b[1mfind new solution: 6332025, best solution: 6332025\u001b[0m\n",
      "\u001b[32m2025-07-02 16:51:51.238\u001b[0m | \u001b[34m\u001b[1mDEBUG   \u001b[0m | \u001b[36mvrp_study.ortools_routing_model.routing_model\u001b[0m:\u001b[36m__call__\u001b[0m:\u001b[36m34\u001b[0m - \u001b[34m\u001b[1mfind new solution: 6331676, best solution: 6331676\u001b[0m\n",
      "\u001b[32m2025-07-02 16:51:51.282\u001b[0m | \u001b[34m\u001b[1mDEBUG   \u001b[0m | \u001b[36mvrp_study.ortools_routing_model.routing_model\u001b[0m:\u001b[36m__call__\u001b[0m:\u001b[36m34\u001b[0m - \u001b[34m\u001b[1mfind new solution: 6331634, best solution: 6331634\u001b[0m\n",
      "\u001b[32m2025-07-02 16:51:51.311\u001b[0m | \u001b[34m\u001b[1mDEBUG   \u001b[0m | \u001b[36mvrp_study.ortools_routing_model.routing_model\u001b[0m:\u001b[36m__call__\u001b[0m:\u001b[36m34\u001b[0m - \u001b[34m\u001b[1mfind new solution: 6331194, best solution: 6331194\u001b[0m\n",
      "\u001b[32m2025-07-02 16:51:51.342\u001b[0m | \u001b[34m\u001b[1mDEBUG   \u001b[0m | \u001b[36mvrp_study.ortools_routing_model.routing_model\u001b[0m:\u001b[36m__call__\u001b[0m:\u001b[36m34\u001b[0m - \u001b[34m\u001b[1mfind new solution: 6331166, best solution: 6331166\u001b[0m\n",
      "\u001b[32m2025-07-02 16:51:51.547\u001b[0m | \u001b[34m\u001b[1mDEBUG   \u001b[0m | \u001b[36mvrp_study.ortools_routing_model.routing_model\u001b[0m:\u001b[36m__call__\u001b[0m:\u001b[36m34\u001b[0m - \u001b[34m\u001b[1mfind new solution: 6330936, best solution: 6330936\u001b[0m\n",
      "\u001b[32m2025-07-02 16:51:51.576\u001b[0m | \u001b[34m\u001b[1mDEBUG   \u001b[0m | \u001b[36mvrp_study.ortools_routing_model.routing_model\u001b[0m:\u001b[36m__call__\u001b[0m:\u001b[36m34\u001b[0m - \u001b[34m\u001b[1mfind new solution: 6330660, best solution: 6330660\u001b[0m\n",
      "\u001b[32m2025-07-02 16:51:51.609\u001b[0m | \u001b[34m\u001b[1mDEBUG   \u001b[0m | \u001b[36mvrp_study.ortools_routing_model.routing_model\u001b[0m:\u001b[36m__call__\u001b[0m:\u001b[36m34\u001b[0m - \u001b[34m\u001b[1mfind new solution: 6321129, best solution: 6321129\u001b[0m\n",
      "\u001b[32m2025-07-02 16:51:51.637\u001b[0m | \u001b[34m\u001b[1mDEBUG   \u001b[0m | \u001b[36mvrp_study.ortools_routing_model.routing_model\u001b[0m:\u001b[36m__call__\u001b[0m:\u001b[36m34\u001b[0m - \u001b[34m\u001b[1mfind new solution: 6317128, best solution: 6317128\u001b[0m\n",
      "\u001b[32m2025-07-02 16:51:52.047\u001b[0m | \u001b[34m\u001b[1mDEBUG   \u001b[0m | \u001b[36mvrp_study.ortools_routing_model.routing_model\u001b[0m:\u001b[36m__call__\u001b[0m:\u001b[36m34\u001b[0m - \u001b[34m\u001b[1mfind new solution: 6316684, best solution: 6316684\u001b[0m\n",
      "\u001b[32m2025-07-02 16:51:52.075\u001b[0m | \u001b[34m\u001b[1mDEBUG   \u001b[0m | \u001b[36mvrp_study.ortools_routing_model.routing_model\u001b[0m:\u001b[36m__call__\u001b[0m:\u001b[36m34\u001b[0m - \u001b[34m\u001b[1mfind new solution: 6316636, best solution: 6316636\u001b[0m\n",
      "\u001b[32m2025-07-02 16:51:52.113\u001b[0m | \u001b[34m\u001b[1mDEBUG   \u001b[0m | \u001b[36mvrp_study.ortools_routing_model.routing_model\u001b[0m:\u001b[36m__call__\u001b[0m:\u001b[36m34\u001b[0m - \u001b[34m\u001b[1mfind new solution: 6316357, best solution: 6316357\u001b[0m\n",
      "\u001b[32m2025-07-02 16:51:52.490\u001b[0m | \u001b[34m\u001b[1mDEBUG   \u001b[0m | \u001b[36mvrp_study.ortools_routing_model.routing_model\u001b[0m:\u001b[36m__call__\u001b[0m:\u001b[36m34\u001b[0m - \u001b[34m\u001b[1mfind new solution: 6316082, best solution: 6316082\u001b[0m\n",
      "\u001b[32m2025-07-02 16:51:52.520\u001b[0m | \u001b[34m\u001b[1mDEBUG   \u001b[0m | \u001b[36mvrp_study.ortools_routing_model.routing_model\u001b[0m:\u001b[36m__call__\u001b[0m:\u001b[36m34\u001b[0m - \u001b[34m\u001b[1mfind new solution: 6315604, best solution: 6315604\u001b[0m\n",
      "\u001b[32m2025-07-02 16:51:52.547\u001b[0m | \u001b[34m\u001b[1mDEBUG   \u001b[0m | \u001b[36mvrp_study.ortools_routing_model.routing_model\u001b[0m:\u001b[36m__call__\u001b[0m:\u001b[36m34\u001b[0m - \u001b[34m\u001b[1mfind new solution: 6315443, best solution: 6315443\u001b[0m\n",
      "\u001b[32m2025-07-02 16:51:52.939\u001b[0m | \u001b[34m\u001b[1mDEBUG   \u001b[0m | \u001b[36mvrp_study.ortools_routing_model.routing_model\u001b[0m:\u001b[36m__call__\u001b[0m:\u001b[36m34\u001b[0m - \u001b[34m\u001b[1mfind new solution: 6314927, best solution: 6314927\u001b[0m\n",
      "\u001b[32m2025-07-02 16:51:53.029\u001b[0m | \u001b[34m\u001b[1mDEBUG   \u001b[0m | \u001b[36mvrp_study.ortools_routing_model.routing_model\u001b[0m:\u001b[36m__call__\u001b[0m:\u001b[36m34\u001b[0m - \u001b[34m\u001b[1mfind new solution: 6314515, best solution: 6314515\u001b[0m\n",
      "\u001b[32m2025-07-02 16:51:53.355\u001b[0m | \u001b[34m\u001b[1mDEBUG   \u001b[0m | \u001b[36mvrp_study.ortools_routing_model.routing_model\u001b[0m:\u001b[36m__call__\u001b[0m:\u001b[36m34\u001b[0m - \u001b[34m\u001b[1mfind new solution: 6313189, best solution: 6313189\u001b[0m\n",
      "\u001b[32m2025-07-02 16:51:53.385\u001b[0m | \u001b[34m\u001b[1mDEBUG   \u001b[0m | \u001b[36mvrp_study.ortools_routing_model.routing_model\u001b[0m:\u001b[36m__call__\u001b[0m:\u001b[36m34\u001b[0m - \u001b[34m\u001b[1mfind new solution: 6311269, best solution: 6311269\u001b[0m\n",
      "\u001b[32m2025-07-02 16:51:53.421\u001b[0m | \u001b[34m\u001b[1mDEBUG   \u001b[0m | \u001b[36mvrp_study.ortools_routing_model.routing_model\u001b[0m:\u001b[36m__call__\u001b[0m:\u001b[36m34\u001b[0m - \u001b[34m\u001b[1mfind new solution: 6309596, best solution: 6309596\u001b[0m\n",
      "\u001b[32m2025-07-02 16:51:53.449\u001b[0m | \u001b[34m\u001b[1mDEBUG   \u001b[0m | \u001b[36mvrp_study.ortools_routing_model.routing_model\u001b[0m:\u001b[36m__call__\u001b[0m:\u001b[36m34\u001b[0m - \u001b[34m\u001b[1mfind new solution: 6309004, best solution: 6309004\u001b[0m\n",
      "\u001b[32m2025-07-02 16:51:53.480\u001b[0m | \u001b[34m\u001b[1mDEBUG   \u001b[0m | \u001b[36mvrp_study.ortools_routing_model.routing_model\u001b[0m:\u001b[36m__call__\u001b[0m:\u001b[36m34\u001b[0m - \u001b[34m\u001b[1mfind new solution: 6308991, best solution: 6308991\u001b[0m\n",
      "\u001b[32m2025-07-02 16:51:53.512\u001b[0m | \u001b[34m\u001b[1mDEBUG   \u001b[0m | \u001b[36mvrp_study.ortools_routing_model.routing_model\u001b[0m:\u001b[36m__call__\u001b[0m:\u001b[36m34\u001b[0m - \u001b[34m\u001b[1mfind new solution: 6308931, best solution: 6308931\u001b[0m\n",
      "\u001b[32m2025-07-02 16:51:53.720\u001b[0m | \u001b[34m\u001b[1mDEBUG   \u001b[0m | \u001b[36mvrp_study.ortools_routing_model.routing_model\u001b[0m:\u001b[36m__call__\u001b[0m:\u001b[36m34\u001b[0m - \u001b[34m\u001b[1mfind new solution: 6308848, best solution: 6308848\u001b[0m\n",
      "\u001b[32m2025-07-02 16:51:53.765\u001b[0m | \u001b[34m\u001b[1mDEBUG   \u001b[0m | \u001b[36mvrp_study.ortools_routing_model.routing_model\u001b[0m:\u001b[36m__call__\u001b[0m:\u001b[36m34\u001b[0m - \u001b[34m\u001b[1mfind new solution: 6308035, best solution: 6308035\u001b[0m\n",
      "\u001b[32m2025-07-02 16:51:53.795\u001b[0m | \u001b[34m\u001b[1mDEBUG   \u001b[0m | \u001b[36mvrp_study.ortools_routing_model.routing_model\u001b[0m:\u001b[36m__call__\u001b[0m:\u001b[36m34\u001b[0m - \u001b[34m\u001b[1mfind new solution: 6307006, best solution: 6307006\u001b[0m\n",
      "\u001b[32m2025-07-02 16:51:54.021\u001b[0m | \u001b[34m\u001b[1mDEBUG   \u001b[0m | \u001b[36mvrp_study.ortools_routing_model.routing_model\u001b[0m:\u001b[36m__call__\u001b[0m:\u001b[36m34\u001b[0m - \u001b[34m\u001b[1mfind new solution: 6305681, best solution: 6305681\u001b[0m\n",
      "\u001b[32m2025-07-02 16:51:54.048\u001b[0m | \u001b[34m\u001b[1mDEBUG   \u001b[0m | \u001b[36mvrp_study.ortools_routing_model.routing_model\u001b[0m:\u001b[36m__call__\u001b[0m:\u001b[36m34\u001b[0m - \u001b[34m\u001b[1mfind new solution: 6305547, best solution: 6305547\u001b[0m\n",
      "\u001b[32m2025-07-02 16:51:54.130\u001b[0m | \u001b[34m\u001b[1mDEBUG   \u001b[0m | \u001b[36mvrp_study.ortools_routing_model.routing_model\u001b[0m:\u001b[36m__call__\u001b[0m:\u001b[36m34\u001b[0m - \u001b[34m\u001b[1mfind new solution: 6305534, best solution: 6305534\u001b[0m\n",
      "\u001b[32m2025-07-02 16:51:54.526\u001b[0m | \u001b[34m\u001b[1mDEBUG   \u001b[0m | \u001b[36mvrp_study.ortools_routing_model.routing_model\u001b[0m:\u001b[36m__call__\u001b[0m:\u001b[36m34\u001b[0m - \u001b[34m\u001b[1mfind new solution: 6302863, best solution: 6302863\u001b[0m\n",
      "\u001b[32m2025-07-02 16:51:54.553\u001b[0m | \u001b[34m\u001b[1mDEBUG   \u001b[0m | \u001b[36mvrp_study.ortools_routing_model.routing_model\u001b[0m:\u001b[36m__call__\u001b[0m:\u001b[36m34\u001b[0m - \u001b[34m\u001b[1mfind new solution: 6302782, best solution: 6302782\u001b[0m\n",
      "\u001b[32m2025-07-02 16:51:54.586\u001b[0m | \u001b[34m\u001b[1mDEBUG   \u001b[0m | \u001b[36mvrp_study.ortools_routing_model.routing_model\u001b[0m:\u001b[36m__call__\u001b[0m:\u001b[36m34\u001b[0m - \u001b[34m\u001b[1mfind new solution: 6302777, best solution: 6302777\u001b[0m\n",
      "\u001b[32m2025-07-02 16:51:54.613\u001b[0m | \u001b[34m\u001b[1mDEBUG   \u001b[0m | \u001b[36mvrp_study.ortools_routing_model.routing_model\u001b[0m:\u001b[36m__call__\u001b[0m:\u001b[36m34\u001b[0m - \u001b[34m\u001b[1mfind new solution: 6302753, best solution: 6302753\u001b[0m\n",
      "\u001b[32m2025-07-02 16:51:54.693\u001b[0m | \u001b[34m\u001b[1mDEBUG   \u001b[0m | \u001b[36mvrp_study.ortools_routing_model.routing_model\u001b[0m:\u001b[36m__call__\u001b[0m:\u001b[36m34\u001b[0m - \u001b[34m\u001b[1mfind new solution: 6269963, best solution: 6269963\u001b[0m\n",
      "\u001b[32m2025-07-02 16:51:54.763\u001b[0m | \u001b[34m\u001b[1mDEBUG   \u001b[0m | \u001b[36mvrp_study.ortools_routing_model.routing_model\u001b[0m:\u001b[36m__call__\u001b[0m:\u001b[36m34\u001b[0m - \u001b[34m\u001b[1mfind new solution: 6269473, best solution: 6269473\u001b[0m\n",
      "\u001b[32m2025-07-02 16:51:55.307\u001b[0m | \u001b[34m\u001b[1mDEBUG   \u001b[0m | \u001b[36mvrp_study.ortools_routing_model.routing_model\u001b[0m:\u001b[36m__call__\u001b[0m:\u001b[36m34\u001b[0m - \u001b[34m\u001b[1mfind new solution: 6269461, best solution: 6269461\u001b[0m\n",
      "\u001b[32m2025-07-02 16:51:55.364\u001b[0m | \u001b[34m\u001b[1mDEBUG   \u001b[0m | \u001b[36mvrp_study.ortools_routing_model.routing_model\u001b[0m:\u001b[36m__call__\u001b[0m:\u001b[36m34\u001b[0m - \u001b[34m\u001b[1mfind new solution: 6269407, best solution: 6269407\u001b[0m\n",
      "\u001b[32m2025-07-02 16:51:55.408\u001b[0m | \u001b[34m\u001b[1mDEBUG   \u001b[0m | \u001b[36mvrp_study.ortools_routing_model.routing_model\u001b[0m:\u001b[36m__call__\u001b[0m:\u001b[36m34\u001b[0m - \u001b[34m\u001b[1mfind new solution: 6265527, best solution: 6265527\u001b[0m\n",
      "\u001b[32m2025-07-02 16:51:55.437\u001b[0m | \u001b[34m\u001b[1mDEBUG   \u001b[0m | \u001b[36mvrp_study.ortools_routing_model.routing_model\u001b[0m:\u001b[36m__call__\u001b[0m:\u001b[36m34\u001b[0m - \u001b[34m\u001b[1mfind new solution: 6265255, best solution: 6265255\u001b[0m\n",
      "\u001b[32m2025-07-02 16:51:55.466\u001b[0m | \u001b[34m\u001b[1mDEBUG   \u001b[0m | \u001b[36mvrp_study.ortools_routing_model.routing_model\u001b[0m:\u001b[36m__call__\u001b[0m:\u001b[36m34\u001b[0m - \u001b[34m\u001b[1mfind new solution: 6265012, best solution: 6265012\u001b[0m\n",
      "\u001b[32m2025-07-02 16:51:55.495\u001b[0m | \u001b[34m\u001b[1mDEBUG   \u001b[0m | \u001b[36mvrp_study.ortools_routing_model.routing_model\u001b[0m:\u001b[36m__call__\u001b[0m:\u001b[36m34\u001b[0m - \u001b[34m\u001b[1mfind new solution: 6263821, best solution: 6263821\u001b[0m\n",
      "\u001b[32m2025-07-02 16:51:55.528\u001b[0m | \u001b[34m\u001b[1mDEBUG   \u001b[0m | \u001b[36mvrp_study.ortools_routing_model.routing_model\u001b[0m:\u001b[36m__call__\u001b[0m:\u001b[36m34\u001b[0m - \u001b[34m\u001b[1mfind new solution: 6263223, best solution: 6263223\u001b[0m\n",
      "\u001b[32m2025-07-02 16:51:55.576\u001b[0m | \u001b[34m\u001b[1mDEBUG   \u001b[0m | \u001b[36mvrp_study.ortools_routing_model.routing_model\u001b[0m:\u001b[36m__call__\u001b[0m:\u001b[36m34\u001b[0m - \u001b[34m\u001b[1mfind new solution: 6261364, best solution: 6261364\u001b[0m\n",
      "\u001b[32m2025-07-02 16:51:55.604\u001b[0m | \u001b[34m\u001b[1mDEBUG   \u001b[0m | \u001b[36mvrp_study.ortools_routing_model.routing_model\u001b[0m:\u001b[36m__call__\u001b[0m:\u001b[36m34\u001b[0m - \u001b[34m\u001b[1mfind new solution: 6261308, best solution: 6261308\u001b[0m\n",
      "\u001b[32m2025-07-02 16:51:55.632\u001b[0m | \u001b[34m\u001b[1mDEBUG   \u001b[0m | \u001b[36mvrp_study.ortools_routing_model.routing_model\u001b[0m:\u001b[36m__call__\u001b[0m:\u001b[36m34\u001b[0m - \u001b[34m\u001b[1mfind new solution: 6261216, best solution: 6261216\u001b[0m\n",
      "\u001b[32m2025-07-02 16:51:55.662\u001b[0m | \u001b[34m\u001b[1mDEBUG   \u001b[0m | \u001b[36mvrp_study.ortools_routing_model.routing_model\u001b[0m:\u001b[36m__call__\u001b[0m:\u001b[36m34\u001b[0m - \u001b[34m\u001b[1mfind new solution: 6261160, best solution: 6261160\u001b[0m\n",
      "\u001b[32m2025-07-02 16:51:55.720\u001b[0m | \u001b[34m\u001b[1mDEBUG   \u001b[0m | \u001b[36mvrp_study.ortools_routing_model.routing_model\u001b[0m:\u001b[36m__call__\u001b[0m:\u001b[36m34\u001b[0m - \u001b[34m\u001b[1mfind new solution: 6251255, best solution: 6251255\u001b[0m\n",
      "\u001b[32m2025-07-02 16:51:55.779\u001b[0m | \u001b[34m\u001b[1mDEBUG   \u001b[0m | \u001b[36mvrp_study.ortools_routing_model.routing_model\u001b[0m:\u001b[36m__call__\u001b[0m:\u001b[36m34\u001b[0m - \u001b[34m\u001b[1mfind new solution: 6244758, best solution: 6244758\u001b[0m\n",
      "\u001b[32m2025-07-02 16:51:55.806\u001b[0m | \u001b[34m\u001b[1mDEBUG   \u001b[0m | \u001b[36mvrp_study.ortools_routing_model.routing_model\u001b[0m:\u001b[36m__call__\u001b[0m:\u001b[36m34\u001b[0m - \u001b[34m\u001b[1mfind new solution: 6244671, best solution: 6244671\u001b[0m\n",
      "\u001b[32m2025-07-02 16:51:55.861\u001b[0m | \u001b[34m\u001b[1mDEBUG   \u001b[0m | \u001b[36mvrp_study.ortools_routing_model.routing_model\u001b[0m:\u001b[36m__call__\u001b[0m:\u001b[36m34\u001b[0m - \u001b[34m\u001b[1mfind new solution: 6242998, best solution: 6242998\u001b[0m\n",
      "\u001b[32m2025-07-02 16:51:55.899\u001b[0m | \u001b[34m\u001b[1mDEBUG   \u001b[0m | \u001b[36mvrp_study.ortools_routing_model.routing_model\u001b[0m:\u001b[36m__call__\u001b[0m:\u001b[36m34\u001b[0m - \u001b[34m\u001b[1mfind new solution: 6242597, best solution: 6242597\u001b[0m\n",
      "\u001b[32m2025-07-02 16:51:56.063\u001b[0m | \u001b[34m\u001b[1mDEBUG   \u001b[0m | \u001b[36mvrp_study.ortools_routing_model.routing_model\u001b[0m:\u001b[36m__call__\u001b[0m:\u001b[36m34\u001b[0m - \u001b[34m\u001b[1mfind new solution: 6242596, best solution: 6242596\u001b[0m\n",
      "\u001b[32m2025-07-02 16:51:56.109\u001b[0m | \u001b[34m\u001b[1mDEBUG   \u001b[0m | \u001b[36mvrp_study.ortools_routing_model.routing_model\u001b[0m:\u001b[36m__call__\u001b[0m:\u001b[36m34\u001b[0m - \u001b[34m\u001b[1mfind new solution: 6242293, best solution: 6242293\u001b[0m\n",
      "\u001b[32m2025-07-02 16:51:56.322\u001b[0m | \u001b[34m\u001b[1mDEBUG   \u001b[0m | \u001b[36mvrp_study.ortools_routing_model.routing_model\u001b[0m:\u001b[36m__call__\u001b[0m:\u001b[36m34\u001b[0m - \u001b[34m\u001b[1mfind new solution: 6242273, best solution: 6242273\u001b[0m\n",
      "\u001b[32m2025-07-02 16:51:56.365\u001b[0m | \u001b[34m\u001b[1mDEBUG   \u001b[0m | \u001b[36mvrp_study.ortools_routing_model.routing_model\u001b[0m:\u001b[36m__call__\u001b[0m:\u001b[36m34\u001b[0m - \u001b[34m\u001b[1mfind new solution: 6242062, best solution: 6242062\u001b[0m\n",
      "\u001b[32m2025-07-02 16:51:56.639\u001b[0m | \u001b[34m\u001b[1mDEBUG   \u001b[0m | \u001b[36mvrp_study.ortools_routing_model.routing_model\u001b[0m:\u001b[36m__call__\u001b[0m:\u001b[36m34\u001b[0m - \u001b[34m\u001b[1mfind new solution: 6240906, best solution: 6240906\u001b[0m\n",
      "\u001b[32m2025-07-02 16:51:56.667\u001b[0m | \u001b[34m\u001b[1mDEBUG   \u001b[0m | \u001b[36mvrp_study.ortools_routing_model.routing_model\u001b[0m:\u001b[36m__call__\u001b[0m:\u001b[36m34\u001b[0m - \u001b[34m\u001b[1mfind new solution: 6240846, best solution: 6240846\u001b[0m\n",
      "\u001b[32m2025-07-02 16:51:56.695\u001b[0m | \u001b[34m\u001b[1mDEBUG   \u001b[0m | \u001b[36mvrp_study.ortools_routing_model.routing_model\u001b[0m:\u001b[36m__call__\u001b[0m:\u001b[36m34\u001b[0m - \u001b[34m\u001b[1mfind new solution: 6238696, best solution: 6238696\u001b[0m\n",
      "\u001b[32m2025-07-02 16:51:56.723\u001b[0m | \u001b[34m\u001b[1mDEBUG   \u001b[0m | \u001b[36mvrp_study.ortools_routing_model.routing_model\u001b[0m:\u001b[36m__call__\u001b[0m:\u001b[36m34\u001b[0m - \u001b[34m\u001b[1mfind new solution: 6238636, best solution: 6238636\u001b[0m\n",
      "\u001b[32m2025-07-02 16:51:56.750\u001b[0m | \u001b[34m\u001b[1mDEBUG   \u001b[0m | \u001b[36mvrp_study.ortools_routing_model.routing_model\u001b[0m:\u001b[36m__call__\u001b[0m:\u001b[36m34\u001b[0m - \u001b[34m\u001b[1mfind new solution: 6238633, best solution: 6238633\u001b[0m\n",
      "\u001b[32m2025-07-02 16:51:56.829\u001b[0m | \u001b[34m\u001b[1mDEBUG   \u001b[0m | \u001b[36mvrp_study.ortools_routing_model.routing_model\u001b[0m:\u001b[36m__call__\u001b[0m:\u001b[36m34\u001b[0m - \u001b[34m\u001b[1mfind new solution: 6230397, best solution: 6230397\u001b[0m\n",
      "\u001b[32m2025-07-02 16:51:56.886\u001b[0m | \u001b[34m\u001b[1mDEBUG   \u001b[0m | \u001b[36mvrp_study.ortools_routing_model.routing_model\u001b[0m:\u001b[36m__call__\u001b[0m:\u001b[36m34\u001b[0m - \u001b[34m\u001b[1mfind new solution: 6227211, best solution: 6227211\u001b[0m\n",
      "\u001b[32m2025-07-02 16:51:56.942\u001b[0m | \u001b[34m\u001b[1mDEBUG   \u001b[0m | \u001b[36mvrp_study.ortools_routing_model.routing_model\u001b[0m:\u001b[36m__call__\u001b[0m:\u001b[36m34\u001b[0m - \u001b[34m\u001b[1mfind new solution: 6223857, best solution: 6223857\u001b[0m\n",
      "\u001b[32m2025-07-02 16:51:56.970\u001b[0m | \u001b[34m\u001b[1mDEBUG   \u001b[0m | \u001b[36mvrp_study.ortools_routing_model.routing_model\u001b[0m:\u001b[36m__call__\u001b[0m:\u001b[36m34\u001b[0m - \u001b[34m\u001b[1mfind new solution: 6223377, best solution: 6223377\u001b[0m\n",
      "\u001b[32m2025-07-02 16:51:56.998\u001b[0m | \u001b[34m\u001b[1mDEBUG   \u001b[0m | \u001b[36mvrp_study.ortools_routing_model.routing_model\u001b[0m:\u001b[36m__call__\u001b[0m:\u001b[36m34\u001b[0m - \u001b[34m\u001b[1mfind new solution: 6223356, best solution: 6223356\u001b[0m\n",
      "\u001b[32m2025-07-02 16:51:57.026\u001b[0m | \u001b[34m\u001b[1mDEBUG   \u001b[0m | \u001b[36mvrp_study.ortools_routing_model.routing_model\u001b[0m:\u001b[36m__call__\u001b[0m:\u001b[36m34\u001b[0m - \u001b[34m\u001b[1mfind new solution: 6223211, best solution: 6223211\u001b[0m\n",
      "\u001b[32m2025-07-02 16:51:57.055\u001b[0m | \u001b[34m\u001b[1mDEBUG   \u001b[0m | \u001b[36mvrp_study.ortools_routing_model.routing_model\u001b[0m:\u001b[36m__call__\u001b[0m:\u001b[36m34\u001b[0m - \u001b[34m\u001b[1mfind new solution: 6223190, best solution: 6223190\u001b[0m\n",
      "\u001b[32m2025-07-02 16:51:57.099\u001b[0m | \u001b[34m\u001b[1mDEBUG   \u001b[0m | \u001b[36mvrp_study.ortools_routing_model.routing_model\u001b[0m:\u001b[36m__call__\u001b[0m:\u001b[36m34\u001b[0m - \u001b[34m\u001b[1mfind new solution: 6216648, best solution: 6216648\u001b[0m\n",
      "\u001b[32m2025-07-02 16:51:57.135\u001b[0m | \u001b[34m\u001b[1mDEBUG   \u001b[0m | \u001b[36mvrp_study.ortools_routing_model.routing_model\u001b[0m:\u001b[36m__call__\u001b[0m:\u001b[36m34\u001b[0m - \u001b[34m\u001b[1mfind new solution: 6216394, best solution: 6216394\u001b[0m\n",
      "\u001b[32m2025-07-02 16:51:57.161\u001b[0m | \u001b[34m\u001b[1mDEBUG   \u001b[0m | \u001b[36mvrp_study.ortools_routing_model.routing_model\u001b[0m:\u001b[36m__call__\u001b[0m:\u001b[36m34\u001b[0m - \u001b[34m\u001b[1mfind new solution: 6216292, best solution: 6216292\u001b[0m\n",
      "\u001b[32m2025-07-02 16:51:57.192\u001b[0m | \u001b[34m\u001b[1mDEBUG   \u001b[0m | \u001b[36mvrp_study.ortools_routing_model.routing_model\u001b[0m:\u001b[36m__call__\u001b[0m:\u001b[36m34\u001b[0m - \u001b[34m\u001b[1mfind new solution: 6214561, best solution: 6214561\u001b[0m\n",
      "\u001b[32m2025-07-02 16:51:57.430\u001b[0m | \u001b[34m\u001b[1mDEBUG   \u001b[0m | \u001b[36mvrp_study.ortools_routing_model.routing_model\u001b[0m:\u001b[36m__call__\u001b[0m:\u001b[36m34\u001b[0m - \u001b[34m\u001b[1mfind new solution: 6214075, best solution: 6214075\u001b[0m\n",
      "\u001b[32m2025-07-02 16:51:57.508\u001b[0m | \u001b[34m\u001b[1mDEBUG   \u001b[0m | \u001b[36mvrp_study.ortools_routing_model.routing_model\u001b[0m:\u001b[36m__call__\u001b[0m:\u001b[36m34\u001b[0m - \u001b[34m\u001b[1mfind new solution: 6213095, best solution: 6213095\u001b[0m\n",
      "\u001b[32m2025-07-02 16:51:57.562\u001b[0m | \u001b[34m\u001b[1mDEBUG   \u001b[0m | \u001b[36mvrp_study.ortools_routing_model.routing_model\u001b[0m:\u001b[36m__call__\u001b[0m:\u001b[36m34\u001b[0m - \u001b[34m\u001b[1mfind new solution: 6210265, best solution: 6210265\u001b[0m\n",
      "\u001b[32m2025-07-02 16:51:57.594\u001b[0m | \u001b[34m\u001b[1mDEBUG   \u001b[0m | \u001b[36mvrp_study.ortools_routing_model.routing_model\u001b[0m:\u001b[36m__call__\u001b[0m:\u001b[36m34\u001b[0m - \u001b[34m\u001b[1mfind new solution: 6210188, best solution: 6210188\u001b[0m\n",
      "\u001b[32m2025-07-02 16:51:57.627\u001b[0m | \u001b[34m\u001b[1mDEBUG   \u001b[0m | \u001b[36mvrp_study.ortools_routing_model.routing_model\u001b[0m:\u001b[36m__call__\u001b[0m:\u001b[36m34\u001b[0m - \u001b[34m\u001b[1mfind new solution: 6210100, best solution: 6210100\u001b[0m\n",
      "\u001b[32m2025-07-02 16:51:57.659\u001b[0m | \u001b[34m\u001b[1mDEBUG   \u001b[0m | \u001b[36mvrp_study.ortools_routing_model.routing_model\u001b[0m:\u001b[36m__call__\u001b[0m:\u001b[36m34\u001b[0m - \u001b[34m\u001b[1mfind new solution: 6208814, best solution: 6208814\u001b[0m\n",
      "\u001b[32m2025-07-02 16:51:57.740\u001b[0m | \u001b[34m\u001b[1mDEBUG   \u001b[0m | \u001b[36mvrp_study.ortools_routing_model.routing_model\u001b[0m:\u001b[36m__call__\u001b[0m:\u001b[36m34\u001b[0m - \u001b[34m\u001b[1mfind new solution: 6207653, best solution: 6207653\u001b[0m\n",
      "\u001b[32m2025-07-02 16:51:57.770\u001b[0m | \u001b[34m\u001b[1mDEBUG   \u001b[0m | \u001b[36mvrp_study.ortools_routing_model.routing_model\u001b[0m:\u001b[36m__call__\u001b[0m:\u001b[36m34\u001b[0m - \u001b[34m\u001b[1mfind new solution: 6204302, best solution: 6204302\u001b[0m\n",
      "\u001b[32m2025-07-02 16:51:58.371\u001b[0m | \u001b[34m\u001b[1mDEBUG   \u001b[0m | \u001b[36mvrp_study.ortools_routing_model.routing_model\u001b[0m:\u001b[36m__call__\u001b[0m:\u001b[36m34\u001b[0m - \u001b[34m\u001b[1mfind new solution: 6203790, best solution: 6203790\u001b[0m\n",
      "\u001b[32m2025-07-02 16:51:58.410\u001b[0m | \u001b[34m\u001b[1mDEBUG   \u001b[0m | \u001b[36mvrp_study.ortools_routing_model.routing_model\u001b[0m:\u001b[36m__call__\u001b[0m:\u001b[36m34\u001b[0m - \u001b[34m\u001b[1mfind new solution: 6203019, best solution: 6203019\u001b[0m\n",
      "\u001b[32m2025-07-02 16:51:58.465\u001b[0m | \u001b[34m\u001b[1mDEBUG   \u001b[0m | \u001b[36mvrp_study.ortools_routing_model.routing_model\u001b[0m:\u001b[36m__call__\u001b[0m:\u001b[36m34\u001b[0m - \u001b[34m\u001b[1mfind new solution: 6203011, best solution: 6203011\u001b[0m\n",
      "\u001b[32m2025-07-02 16:51:58.494\u001b[0m | \u001b[34m\u001b[1mDEBUG   \u001b[0m | \u001b[36mvrp_study.ortools_routing_model.routing_model\u001b[0m:\u001b[36m__call__\u001b[0m:\u001b[36m34\u001b[0m - \u001b[34m\u001b[1mfind new solution: 6191414, best solution: 6191414\u001b[0m\n",
      "\u001b[32m2025-07-02 16:51:59.088\u001b[0m | \u001b[34m\u001b[1mDEBUG   \u001b[0m | \u001b[36mvrp_study.ortools_routing_model.routing_model\u001b[0m:\u001b[36m__call__\u001b[0m:\u001b[36m34\u001b[0m - \u001b[34m\u001b[1mfind new solution: 6190557, best solution: 6190557\u001b[0m\n",
      "\u001b[32m2025-07-02 16:51:59.130\u001b[0m | \u001b[34m\u001b[1mDEBUG   \u001b[0m | \u001b[36mvrp_study.ortools_routing_model.routing_model\u001b[0m:\u001b[36m__call__\u001b[0m:\u001b[36m34\u001b[0m - \u001b[34m\u001b[1mfind new solution: 6190199, best solution: 6190199\u001b[0m\n",
      "\u001b[32m2025-07-02 16:51:59.530\u001b[0m | \u001b[34m\u001b[1mDEBUG   \u001b[0m | \u001b[36mvrp_study.ortools_routing_model.routing_model\u001b[0m:\u001b[36m__call__\u001b[0m:\u001b[36m34\u001b[0m - \u001b[34m\u001b[1mfind new solution: 6181048, best solution: 6181048\u001b[0m\n",
      "\u001b[32m2025-07-02 16:51:59.560\u001b[0m | \u001b[34m\u001b[1mDEBUG   \u001b[0m | \u001b[36mvrp_study.ortools_routing_model.routing_model\u001b[0m:\u001b[36m__call__\u001b[0m:\u001b[36m34\u001b[0m - \u001b[34m\u001b[1mfind new solution: 6180985, best solution: 6180985\u001b[0m\n",
      "\u001b[32m2025-07-02 16:51:59.590\u001b[0m | \u001b[34m\u001b[1mDEBUG   \u001b[0m | \u001b[36mvrp_study.ortools_routing_model.routing_model\u001b[0m:\u001b[36m__call__\u001b[0m:\u001b[36m34\u001b[0m - \u001b[34m\u001b[1mfind new solution: 6180772, best solution: 6180772\u001b[0m\n",
      "\u001b[32m2025-07-02 16:51:59.626\u001b[0m | \u001b[34m\u001b[1mDEBUG   \u001b[0m | \u001b[36mvrp_study.ortools_routing_model.routing_model\u001b[0m:\u001b[36m__call__\u001b[0m:\u001b[36m34\u001b[0m - \u001b[34m\u001b[1mfind new solution: 6180747, best solution: 6180747\u001b[0m\n",
      "\u001b[32m2025-07-02 16:51:59.656\u001b[0m | \u001b[34m\u001b[1mDEBUG   \u001b[0m | \u001b[36mvrp_study.ortools_routing_model.routing_model\u001b[0m:\u001b[36m__call__\u001b[0m:\u001b[36m34\u001b[0m - \u001b[34m\u001b[1mfind new solution: 6180709, best solution: 6180709\u001b[0m\n",
      "\u001b[32m2025-07-02 16:51:59.979\u001b[0m | \u001b[34m\u001b[1mDEBUG   \u001b[0m | \u001b[36mvrp_study.ortools_routing_model.routing_model\u001b[0m:\u001b[36m__call__\u001b[0m:\u001b[36m34\u001b[0m - \u001b[34m\u001b[1mfind new solution: 6179899, best solution: 6179899\u001b[0m\n",
      "\u001b[32m2025-07-02 16:52:00.028\u001b[0m | \u001b[34m\u001b[1mDEBUG   \u001b[0m | \u001b[36mvrp_study.ortools_routing_model.routing_model\u001b[0m:\u001b[36m__call__\u001b[0m:\u001b[36m34\u001b[0m - \u001b[34m\u001b[1mfind new solution: 6179893, best solution: 6179893\u001b[0m\n",
      "\u001b[32m2025-07-02 16:52:00.059\u001b[0m | \u001b[34m\u001b[1mDEBUG   \u001b[0m | \u001b[36mvrp_study.ortools_routing_model.routing_model\u001b[0m:\u001b[36m__call__\u001b[0m:\u001b[36m34\u001b[0m - \u001b[34m\u001b[1mfind new solution: 6177907, best solution: 6177907\u001b[0m\n",
      "\u001b[32m2025-07-02 16:52:00.186\u001b[0m | \u001b[34m\u001b[1mDEBUG   \u001b[0m | \u001b[36mvrp_study.ortools_routing_model.routing_model\u001b[0m:\u001b[36m__call__\u001b[0m:\u001b[36m34\u001b[0m - \u001b[34m\u001b[1mfind new solution: 6177816, best solution: 6177816\u001b[0m\n",
      "\u001b[32m2025-07-02 16:52:00.229\u001b[0m | \u001b[34m\u001b[1mDEBUG   \u001b[0m | \u001b[36mvrp_study.ortools_routing_model.routing_model\u001b[0m:\u001b[36m__call__\u001b[0m:\u001b[36m34\u001b[0m - \u001b[34m\u001b[1mfind new solution: 6177784, best solution: 6177784\u001b[0m\n",
      "\u001b[32m2025-07-02 16:52:00.269\u001b[0m | \u001b[34m\u001b[1mDEBUG   \u001b[0m | \u001b[36mvrp_study.ortools_routing_model.routing_model\u001b[0m:\u001b[36m__call__\u001b[0m:\u001b[36m34\u001b[0m - \u001b[34m\u001b[1mfind new solution: 6177619, best solution: 6177619\u001b[0m\n",
      "\u001b[32m2025-07-02 16:52:00.297\u001b[0m | \u001b[34m\u001b[1mDEBUG   \u001b[0m | \u001b[36mvrp_study.ortools_routing_model.routing_model\u001b[0m:\u001b[36m__call__\u001b[0m:\u001b[36m34\u001b[0m - \u001b[34m\u001b[1mfind new solution: 6177511, best solution: 6177511\u001b[0m\n",
      "\u001b[32m2025-07-02 16:52:00.328\u001b[0m | \u001b[34m\u001b[1mDEBUG   \u001b[0m | \u001b[36mvrp_study.ortools_routing_model.routing_model\u001b[0m:\u001b[36m__call__\u001b[0m:\u001b[36m34\u001b[0m - \u001b[34m\u001b[1mfind new solution: 6177297, best solution: 6177297\u001b[0m\n",
      "\u001b[32m2025-07-02 16:52:00.362\u001b[0m | \u001b[34m\u001b[1mDEBUG   \u001b[0m | \u001b[36mvrp_study.ortools_routing_model.routing_model\u001b[0m:\u001b[36m__call__\u001b[0m:\u001b[36m34\u001b[0m - \u001b[34m\u001b[1mfind new solution: 6177286, best solution: 6177286\u001b[0m\n",
      "\u001b[32m2025-07-02 16:52:00.592\u001b[0m | \u001b[34m\u001b[1mDEBUG   \u001b[0m | \u001b[36mvrp_study.ortools_routing_model.routing_model\u001b[0m:\u001b[36m__call__\u001b[0m:\u001b[36m34\u001b[0m - \u001b[34m\u001b[1mfind new solution: 6168217, best solution: 6168217\u001b[0m\n",
      "\u001b[32m2025-07-02 16:52:00.624\u001b[0m | \u001b[34m\u001b[1mDEBUG   \u001b[0m | \u001b[36mvrp_study.ortools_routing_model.routing_model\u001b[0m:\u001b[36m__call__\u001b[0m:\u001b[36m34\u001b[0m - \u001b[34m\u001b[1mfind new solution: 6163615, best solution: 6163615\u001b[0m\n",
      "\u001b[32m2025-07-02 16:52:00.667\u001b[0m | \u001b[34m\u001b[1mDEBUG   \u001b[0m | \u001b[36mvrp_study.ortools_routing_model.routing_model\u001b[0m:\u001b[36m__call__\u001b[0m:\u001b[36m34\u001b[0m - \u001b[34m\u001b[1mfind new solution: 6162513, best solution: 6162513\u001b[0m\n",
      "\u001b[32m2025-07-02 16:52:00.695\u001b[0m | \u001b[34m\u001b[1mDEBUG   \u001b[0m | \u001b[36mvrp_study.ortools_routing_model.routing_model\u001b[0m:\u001b[36m__call__\u001b[0m:\u001b[36m34\u001b[0m - \u001b[34m\u001b[1mfind new solution: 6162024, best solution: 6162024\u001b[0m\n",
      "\u001b[32m2025-07-02 16:52:00.722\u001b[0m | \u001b[34m\u001b[1mDEBUG   \u001b[0m | \u001b[36mvrp_study.ortools_routing_model.routing_model\u001b[0m:\u001b[36m__call__\u001b[0m:\u001b[36m34\u001b[0m - \u001b[34m\u001b[1mfind new solution: 6161557, best solution: 6161557\u001b[0m\n",
      "\u001b[32m2025-07-02 16:52:00.750\u001b[0m | \u001b[34m\u001b[1mDEBUG   \u001b[0m | \u001b[36mvrp_study.ortools_routing_model.routing_model\u001b[0m:\u001b[36m__call__\u001b[0m:\u001b[36m34\u001b[0m - \u001b[34m\u001b[1mfind new solution: 6161290, best solution: 6161290\u001b[0m\n",
      "\u001b[32m2025-07-02 16:52:00.816\u001b[0m | \u001b[34m\u001b[1mDEBUG   \u001b[0m | \u001b[36mvrp_study.ortools_routing_model.routing_model\u001b[0m:\u001b[36m__call__\u001b[0m:\u001b[36m34\u001b[0m - \u001b[34m\u001b[1mfind new solution: 6160947, best solution: 6160947\u001b[0m\n",
      "\u001b[32m2025-07-02 16:52:00.845\u001b[0m | \u001b[34m\u001b[1mDEBUG   \u001b[0m | \u001b[36mvrp_study.ortools_routing_model.routing_model\u001b[0m:\u001b[36m__call__\u001b[0m:\u001b[36m34\u001b[0m - \u001b[34m\u001b[1mfind new solution: 6160863, best solution: 6160863\u001b[0m\n",
      "\u001b[32m2025-07-02 16:52:00.888\u001b[0m | \u001b[34m\u001b[1mDEBUG   \u001b[0m | \u001b[36mvrp_study.ortools_routing_model.routing_model\u001b[0m:\u001b[36m__call__\u001b[0m:\u001b[36m34\u001b[0m - \u001b[34m\u001b[1mfind new solution: 6157979, best solution: 6157979\u001b[0m\n",
      "\u001b[32m2025-07-02 16:52:00.916\u001b[0m | \u001b[34m\u001b[1mDEBUG   \u001b[0m | \u001b[36mvrp_study.ortools_routing_model.routing_model\u001b[0m:\u001b[36m__call__\u001b[0m:\u001b[36m34\u001b[0m - \u001b[34m\u001b[1mfind new solution: 6157276, best solution: 6157276\u001b[0m\n",
      "\u001b[32m2025-07-02 16:52:00.943\u001b[0m | \u001b[34m\u001b[1mDEBUG   \u001b[0m | \u001b[36mvrp_study.ortools_routing_model.routing_model\u001b[0m:\u001b[36m__call__\u001b[0m:\u001b[36m34\u001b[0m - \u001b[34m\u001b[1mfind new solution: 6157241, best solution: 6157241\u001b[0m\n",
      "\u001b[32m2025-07-02 16:52:00.988\u001b[0m | \u001b[34m\u001b[1mDEBUG   \u001b[0m | \u001b[36mvrp_study.ortools_routing_model.routing_model\u001b[0m:\u001b[36m__call__\u001b[0m:\u001b[36m34\u001b[0m - \u001b[34m\u001b[1mfind new solution: 6146690, best solution: 6146690\u001b[0m\n",
      "\u001b[32m2025-07-02 16:52:01.180\u001b[0m | \u001b[34m\u001b[1mDEBUG   \u001b[0m | \u001b[36mvrp_study.ortools_routing_model.routing_model\u001b[0m:\u001b[36m__call__\u001b[0m:\u001b[36m34\u001b[0m - \u001b[34m\u001b[1mfind new solution: 6146487, best solution: 6146487\u001b[0m\n",
      "\u001b[32m2025-07-02 16:52:01.311\u001b[0m | \u001b[34m\u001b[1mDEBUG   \u001b[0m | \u001b[36mvrp_study.ortools_routing_model.routing_model\u001b[0m:\u001b[36m__call__\u001b[0m:\u001b[36m34\u001b[0m - \u001b[34m\u001b[1mfind new solution: 6137293, best solution: 6137293\u001b[0m\n",
      "\u001b[32m2025-07-02 16:52:01.342\u001b[0m | \u001b[34m\u001b[1mDEBUG   \u001b[0m | \u001b[36mvrp_study.ortools_routing_model.routing_model\u001b[0m:\u001b[36m__call__\u001b[0m:\u001b[36m34\u001b[0m - \u001b[34m\u001b[1mfind new solution: 6133675, best solution: 6133675\u001b[0m\n",
      "\u001b[32m2025-07-02 16:52:01.380\u001b[0m | \u001b[34m\u001b[1mDEBUG   \u001b[0m | \u001b[36mvrp_study.ortools_routing_model.routing_model\u001b[0m:\u001b[36m__call__\u001b[0m:\u001b[36m34\u001b[0m - \u001b[34m\u001b[1mfind new solution: 6128543, best solution: 6128543\u001b[0m\n",
      "\u001b[32m2025-07-02 16:52:01.416\u001b[0m | \u001b[34m\u001b[1mDEBUG   \u001b[0m | \u001b[36mvrp_study.ortools_routing_model.routing_model\u001b[0m:\u001b[36m__call__\u001b[0m:\u001b[36m34\u001b[0m - \u001b[34m\u001b[1mfind new solution: 6124974, best solution: 6124974\u001b[0m\n",
      "\u001b[32m2025-07-02 16:52:01.444\u001b[0m | \u001b[34m\u001b[1mDEBUG   \u001b[0m | \u001b[36mvrp_study.ortools_routing_model.routing_model\u001b[0m:\u001b[36m__call__\u001b[0m:\u001b[36m34\u001b[0m - \u001b[34m\u001b[1mfind new solution: 6124960, best solution: 6124960\u001b[0m\n",
      "\u001b[32m2025-07-02 16:52:01.471\u001b[0m | \u001b[34m\u001b[1mDEBUG   \u001b[0m | \u001b[36mvrp_study.ortools_routing_model.routing_model\u001b[0m:\u001b[36m__call__\u001b[0m:\u001b[36m34\u001b[0m - \u001b[34m\u001b[1mfind new solution: 6124925, best solution: 6124925\u001b[0m\n",
      "\u001b[32m2025-07-02 16:52:01.499\u001b[0m | \u001b[34m\u001b[1mDEBUG   \u001b[0m | \u001b[36mvrp_study.ortools_routing_model.routing_model\u001b[0m:\u001b[36m__call__\u001b[0m:\u001b[36m34\u001b[0m - \u001b[34m\u001b[1mfind new solution: 6124873, best solution: 6124873\u001b[0m\n",
      "\u001b[32m2025-07-02 16:52:01.529\u001b[0m | \u001b[34m\u001b[1mDEBUG   \u001b[0m | \u001b[36mvrp_study.ortools_routing_model.routing_model\u001b[0m:\u001b[36m__call__\u001b[0m:\u001b[36m34\u001b[0m - \u001b[34m\u001b[1mfind new solution: 6118241, best solution: 6118241\u001b[0m\n",
      "\u001b[32m2025-07-02 16:52:02.082\u001b[0m | \u001b[34m\u001b[1mDEBUG   \u001b[0m | \u001b[36mvrp_study.ortools_routing_model.routing_model\u001b[0m:\u001b[36m__call__\u001b[0m:\u001b[36m34\u001b[0m - \u001b[34m\u001b[1mfind new solution: 6118212, best solution: 6118212\u001b[0m\n",
      "\u001b[32m2025-07-02 16:52:02.205\u001b[0m | \u001b[34m\u001b[1mDEBUG   \u001b[0m | \u001b[36mvrp_study.ortools_routing_model.routing_model\u001b[0m:\u001b[36m__call__\u001b[0m:\u001b[36m34\u001b[0m - \u001b[34m\u001b[1mfind new solution: 6116885, best solution: 6116885\u001b[0m\n",
      "\u001b[32m2025-07-02 16:52:02.247\u001b[0m | \u001b[34m\u001b[1mDEBUG   \u001b[0m | \u001b[36mvrp_study.ortools_routing_model.routing_model\u001b[0m:\u001b[36m__call__\u001b[0m:\u001b[36m34\u001b[0m - \u001b[34m\u001b[1mfind new solution: 6112569, best solution: 6112569\u001b[0m\n",
      "\u001b[32m2025-07-02 16:52:02.423\u001b[0m | \u001b[34m\u001b[1mDEBUG   \u001b[0m | \u001b[36mvrp_study.ortools_routing_model.routing_model\u001b[0m:\u001b[36m__call__\u001b[0m:\u001b[36m34\u001b[0m - \u001b[34m\u001b[1mfind new solution: 6112375, best solution: 6112375\u001b[0m\n",
      "\u001b[32m2025-07-02 16:52:02.450\u001b[0m | \u001b[34m\u001b[1mDEBUG   \u001b[0m | \u001b[36mvrp_study.ortools_routing_model.routing_model\u001b[0m:\u001b[36m__call__\u001b[0m:\u001b[36m34\u001b[0m - \u001b[34m\u001b[1mfind new solution: 6112319, best solution: 6112319\u001b[0m\n",
      "\u001b[32m2025-07-02 16:52:02.486\u001b[0m | \u001b[34m\u001b[1mDEBUG   \u001b[0m | \u001b[36mvrp_study.ortools_routing_model.routing_model\u001b[0m:\u001b[36m__call__\u001b[0m:\u001b[36m34\u001b[0m - \u001b[34m\u001b[1mfind new solution: 6111152, best solution: 6111152\u001b[0m\n",
      "\u001b[32m2025-07-02 16:52:02.514\u001b[0m | \u001b[34m\u001b[1mDEBUG   \u001b[0m | \u001b[36mvrp_study.ortools_routing_model.routing_model\u001b[0m:\u001b[36m__call__\u001b[0m:\u001b[36m34\u001b[0m - \u001b[34m\u001b[1mfind new solution: 6110215, best solution: 6110215\u001b[0m\n",
      "\u001b[32m2025-07-02 16:52:03.273\u001b[0m | \u001b[34m\u001b[1mDEBUG   \u001b[0m | \u001b[36mvrp_study.ortools_routing_model.routing_model\u001b[0m:\u001b[36m__call__\u001b[0m:\u001b[36m34\u001b[0m - \u001b[34m\u001b[1mfind new solution: 6108255, best solution: 6108255\u001b[0m\n",
      "\u001b[32m2025-07-02 16:52:03.301\u001b[0m | \u001b[34m\u001b[1mDEBUG   \u001b[0m | \u001b[36mvrp_study.ortools_routing_model.routing_model\u001b[0m:\u001b[36m__call__\u001b[0m:\u001b[36m34\u001b[0m - \u001b[34m\u001b[1mfind new solution: 6107649, best solution: 6107649\u001b[0m\n",
      "\u001b[32m2025-07-02 16:52:03.368\u001b[0m | \u001b[34m\u001b[1mDEBUG   \u001b[0m | \u001b[36mvrp_study.ortools_routing_model.routing_model\u001b[0m:\u001b[36m__call__\u001b[0m:\u001b[36m34\u001b[0m - \u001b[34m\u001b[1mfind new solution: 6106168, best solution: 6106168\u001b[0m\n",
      "\u001b[32m2025-07-02 16:52:03.713\u001b[0m | \u001b[34m\u001b[1mDEBUG   \u001b[0m | \u001b[36mvrp_study.ortools_routing_model.routing_model\u001b[0m:\u001b[36m__call__\u001b[0m:\u001b[36m34\u001b[0m - \u001b[34m\u001b[1mfind new solution: 6103450, best solution: 6103450\u001b[0m\n",
      "\u001b[32m2025-07-02 16:52:03.761\u001b[0m | \u001b[34m\u001b[1mDEBUG   \u001b[0m | \u001b[36mvrp_study.ortools_routing_model.routing_model\u001b[0m:\u001b[36m__call__\u001b[0m:\u001b[36m34\u001b[0m - \u001b[34m\u001b[1mfind new solution: 6100907, best solution: 6100907\u001b[0m\n",
      "\u001b[32m2025-07-02 16:52:03.789\u001b[0m | \u001b[34m\u001b[1mDEBUG   \u001b[0m | \u001b[36mvrp_study.ortools_routing_model.routing_model\u001b[0m:\u001b[36m__call__\u001b[0m:\u001b[36m34\u001b[0m - \u001b[34m\u001b[1mfind new solution: 6100606, best solution: 6100606\u001b[0m\n",
      "\u001b[32m2025-07-02 16:52:03.819\u001b[0m | \u001b[34m\u001b[1mDEBUG   \u001b[0m | \u001b[36mvrp_study.ortools_routing_model.routing_model\u001b[0m:\u001b[36m__call__\u001b[0m:\u001b[36m34\u001b[0m - \u001b[34m\u001b[1mfind new solution: 6097266, best solution: 6097266\u001b[0m\n",
      "\u001b[32m2025-07-02 16:52:03.855\u001b[0m | \u001b[34m\u001b[1mDEBUG   \u001b[0m | \u001b[36mvrp_study.ortools_routing_model.routing_model\u001b[0m:\u001b[36m__call__\u001b[0m:\u001b[36m34\u001b[0m - \u001b[34m\u001b[1mfind new solution: 6095558, best solution: 6095558\u001b[0m\n",
      "\u001b[32m2025-07-02 16:52:03.883\u001b[0m | \u001b[34m\u001b[1mDEBUG   \u001b[0m | \u001b[36mvrp_study.ortools_routing_model.routing_model\u001b[0m:\u001b[36m__call__\u001b[0m:\u001b[36m34\u001b[0m - \u001b[34m\u001b[1mfind new solution: 6088292, best solution: 6088292\u001b[0m\n",
      "\u001b[32m2025-07-02 16:52:03.909\u001b[0m | \u001b[34m\u001b[1mDEBUG   \u001b[0m | \u001b[36mvrp_study.ortools_routing_model.routing_model\u001b[0m:\u001b[36m__call__\u001b[0m:\u001b[36m34\u001b[0m - \u001b[34m\u001b[1mfind new solution: 6088059, best solution: 6088059\u001b[0m\n",
      "\u001b[32m2025-07-02 16:52:03.937\u001b[0m | \u001b[34m\u001b[1mDEBUG   \u001b[0m | \u001b[36mvrp_study.ortools_routing_model.routing_model\u001b[0m:\u001b[36m__call__\u001b[0m:\u001b[36m34\u001b[0m - \u001b[34m\u001b[1mfind new solution: 6087976, best solution: 6087976\u001b[0m\n",
      "\u001b[32m2025-07-02 16:52:03.966\u001b[0m | \u001b[34m\u001b[1mDEBUG   \u001b[0m | \u001b[36mvrp_study.ortools_routing_model.routing_model\u001b[0m:\u001b[36m__call__\u001b[0m:\u001b[36m34\u001b[0m - \u001b[34m\u001b[1mfind new solution: 6086516, best solution: 6086516\u001b[0m\n",
      "\u001b[32m2025-07-02 16:52:03.993\u001b[0m | \u001b[34m\u001b[1mDEBUG   \u001b[0m | \u001b[36mvrp_study.ortools_routing_model.routing_model\u001b[0m:\u001b[36m__call__\u001b[0m:\u001b[36m34\u001b[0m - \u001b[34m\u001b[1mfind new solution: 6085800, best solution: 6085800\u001b[0m\n",
      "\u001b[32m2025-07-02 16:52:04.466\u001b[0m | \u001b[34m\u001b[1mDEBUG   \u001b[0m | \u001b[36mvrp_study.ortools_routing_model.routing_model\u001b[0m:\u001b[36m__call__\u001b[0m:\u001b[36m34\u001b[0m - \u001b[34m\u001b[1mfind new solution: 6085788, best solution: 6085788\u001b[0m\n",
      "\u001b[32m2025-07-02 16:52:04.644\u001b[0m | \u001b[34m\u001b[1mDEBUG   \u001b[0m | \u001b[36mvrp_study.ortools_routing_model.routing_model\u001b[0m:\u001b[36m__call__\u001b[0m:\u001b[36m34\u001b[0m - \u001b[34m\u001b[1mfind new solution: 6085278, best solution: 6085278\u001b[0m\n",
      "\u001b[32m2025-07-02 16:52:04.686\u001b[0m | \u001b[34m\u001b[1mDEBUG   \u001b[0m | \u001b[36mvrp_study.ortools_routing_model.routing_model\u001b[0m:\u001b[36m__call__\u001b[0m:\u001b[36m34\u001b[0m - \u001b[34m\u001b[1mfind new solution: 6085078, best solution: 6085078\u001b[0m\n",
      "\u001b[32m2025-07-02 16:52:04.716\u001b[0m | \u001b[34m\u001b[1mDEBUG   \u001b[0m | \u001b[36mvrp_study.ortools_routing_model.routing_model\u001b[0m:\u001b[36m__call__\u001b[0m:\u001b[36m34\u001b[0m - \u001b[34m\u001b[1mfind new solution: 6085059, best solution: 6085059\u001b[0m\n",
      "\u001b[32m2025-07-02 16:52:04.752\u001b[0m | \u001b[34m\u001b[1mDEBUG   \u001b[0m | \u001b[36mvrp_study.ortools_routing_model.routing_model\u001b[0m:\u001b[36m__call__\u001b[0m:\u001b[36m34\u001b[0m - \u001b[34m\u001b[1mfind new solution: 6084686, best solution: 6084686\u001b[0m\n",
      "\u001b[32m2025-07-02 16:52:04.783\u001b[0m | \u001b[34m\u001b[1mDEBUG   \u001b[0m | \u001b[36mvrp_study.ortools_routing_model.routing_model\u001b[0m:\u001b[36m__call__\u001b[0m:\u001b[36m34\u001b[0m - \u001b[34m\u001b[1mfind new solution: 6083854, best solution: 6083854\u001b[0m\n",
      "\u001b[32m2025-07-02 16:52:04.812\u001b[0m | \u001b[34m\u001b[1mDEBUG   \u001b[0m | \u001b[36mvrp_study.ortools_routing_model.routing_model\u001b[0m:\u001b[36m__call__\u001b[0m:\u001b[36m34\u001b[0m - \u001b[34m\u001b[1mfind new solution: 6083412, best solution: 6083412\u001b[0m\n",
      "\u001b[32m2025-07-02 16:52:05.915\u001b[0m | \u001b[34m\u001b[1mDEBUG   \u001b[0m | \u001b[36mvrp_study.ortools_routing_model.routing_model\u001b[0m:\u001b[36m__call__\u001b[0m:\u001b[36m34\u001b[0m - \u001b[34m\u001b[1mfind new solution: 6082120, best solution: 6082120\u001b[0m\n",
      "\u001b[32m2025-07-02 16:52:05.982\u001b[0m | \u001b[34m\u001b[1mDEBUG   \u001b[0m | \u001b[36mvrp_study.ortools_routing_model.routing_model\u001b[0m:\u001b[36m__call__\u001b[0m:\u001b[36m34\u001b[0m - \u001b[34m\u001b[1mfind new solution: 6066431, best solution: 6066431\u001b[0m\n",
      "\u001b[32m2025-07-02 16:52:06.009\u001b[0m | \u001b[34m\u001b[1mDEBUG   \u001b[0m | \u001b[36mvrp_study.ortools_routing_model.routing_model\u001b[0m:\u001b[36m__call__\u001b[0m:\u001b[36m34\u001b[0m - \u001b[34m\u001b[1mfind new solution: 6063896, best solution: 6063896\u001b[0m\n",
      "\u001b[32m2025-07-02 16:52:06.040\u001b[0m | \u001b[34m\u001b[1mDEBUG   \u001b[0m | \u001b[36mvrp_study.ortools_routing_model.routing_model\u001b[0m:\u001b[36m__call__\u001b[0m:\u001b[36m34\u001b[0m - \u001b[34m\u001b[1mfind new solution: 6053522, best solution: 6053522\u001b[0m\n",
      "\u001b[32m2025-07-02 16:52:06.069\u001b[0m | \u001b[34m\u001b[1mDEBUG   \u001b[0m | \u001b[36mvrp_study.ortools_routing_model.routing_model\u001b[0m:\u001b[36m__call__\u001b[0m:\u001b[36m34\u001b[0m - \u001b[34m\u001b[1mfind new solution: 6052106, best solution: 6052106\u001b[0m\n",
      "\u001b[32m2025-07-02 16:52:07.080\u001b[0m | \u001b[34m\u001b[1mDEBUG   \u001b[0m | \u001b[36mvrp_study.ortools_routing_model.routing_model\u001b[0m:\u001b[36m__call__\u001b[0m:\u001b[36m34\u001b[0m - \u001b[34m\u001b[1mfind new solution: 6051540, best solution: 6051540\u001b[0m\n",
      "\u001b[32m2025-07-02 16:52:07.135\u001b[0m | \u001b[34m\u001b[1mDEBUG   \u001b[0m | \u001b[36mvrp_study.ortools_routing_model.routing_model\u001b[0m:\u001b[36m__call__\u001b[0m:\u001b[36m34\u001b[0m - \u001b[34m\u001b[1mfind new solution: 6050193, best solution: 6050193\u001b[0m\n",
      "\u001b[32m2025-07-02 16:52:08.214\u001b[0m | \u001b[34m\u001b[1mDEBUG   \u001b[0m | \u001b[36mvrp_study.ortools_routing_model.routing_model\u001b[0m:\u001b[36m__call__\u001b[0m:\u001b[36m34\u001b[0m - \u001b[34m\u001b[1mfind new solution: 6049737, best solution: 6049737\u001b[0m\n",
      "\u001b[32m2025-07-02 16:52:08.246\u001b[0m | \u001b[34m\u001b[1mDEBUG   \u001b[0m | \u001b[36mvrp_study.ortools_routing_model.routing_model\u001b[0m:\u001b[36m__call__\u001b[0m:\u001b[36m34\u001b[0m - \u001b[34m\u001b[1mfind new solution: 6049730, best solution: 6049730\u001b[0m\n",
      "\u001b[32m2025-07-02 16:52:08.279\u001b[0m | \u001b[34m\u001b[1mDEBUG   \u001b[0m | \u001b[36mvrp_study.ortools_routing_model.routing_model\u001b[0m:\u001b[36m__call__\u001b[0m:\u001b[36m34\u001b[0m - \u001b[34m\u001b[1mfind new solution: 6049620, best solution: 6049620\u001b[0m\n",
      "\u001b[32m2025-07-02 16:52:09.103\u001b[0m | \u001b[34m\u001b[1mDEBUG   \u001b[0m | \u001b[36mvrp_study.ortools_routing_model.routing_model\u001b[0m:\u001b[36m__call__\u001b[0m:\u001b[36m34\u001b[0m - \u001b[34m\u001b[1mfind new solution: 6046608, best solution: 6046608\u001b[0m\n",
      "\u001b[32m2025-07-02 16:52:10.185\u001b[0m | \u001b[34m\u001b[1mDEBUG   \u001b[0m | \u001b[36mvrp_study.ortools_routing_model.routing_model\u001b[0m:\u001b[36m__call__\u001b[0m:\u001b[36m34\u001b[0m - \u001b[34m\u001b[1mfind new solution: 6043654, best solution: 6043654\u001b[0m\n",
      "\u001b[32m2025-07-02 16:52:10.292\u001b[0m | \u001b[34m\u001b[1mDEBUG   \u001b[0m | \u001b[36mvrp_study.ortools_routing_model.routing_model\u001b[0m:\u001b[36m__call__\u001b[0m:\u001b[36m34\u001b[0m - \u001b[34m\u001b[1mfind new solution: 6040264, best solution: 6040264\u001b[0m\n",
      "\u001b[32m2025-07-02 16:52:10.319\u001b[0m | \u001b[34m\u001b[1mDEBUG   \u001b[0m | \u001b[36mvrp_study.ortools_routing_model.routing_model\u001b[0m:\u001b[36m__call__\u001b[0m:\u001b[36m34\u001b[0m - \u001b[34m\u001b[1mfind new solution: 6039780, best solution: 6039780\u001b[0m\n",
      "\u001b[32m2025-07-02 16:52:10.348\u001b[0m | \u001b[34m\u001b[1mDEBUG   \u001b[0m | \u001b[36mvrp_study.ortools_routing_model.routing_model\u001b[0m:\u001b[36m__call__\u001b[0m:\u001b[36m34\u001b[0m - \u001b[34m\u001b[1mfind new solution: 6039571, best solution: 6039571\u001b[0m\n",
      "\u001b[32m2025-07-02 16:52:10.380\u001b[0m | \u001b[34m\u001b[1mDEBUG   \u001b[0m | \u001b[36mvrp_study.ortools_routing_model.routing_model\u001b[0m:\u001b[36m__call__\u001b[0m:\u001b[36m34\u001b[0m - \u001b[34m\u001b[1mfind new solution: 6039330, best solution: 6039330\u001b[0m\n",
      "\u001b[32m2025-07-02 16:52:10.712\u001b[0m | \u001b[34m\u001b[1mDEBUG   \u001b[0m | \u001b[36mvrp_study.ortools_routing_model.routing_model\u001b[0m:\u001b[36m__call__\u001b[0m:\u001b[36m34\u001b[0m - \u001b[34m\u001b[1mfind new solution: 6039195, best solution: 6039195\u001b[0m\n",
      "\u001b[32m2025-07-02 16:52:11.771\u001b[0m | \u001b[34m\u001b[1mDEBUG   \u001b[0m | \u001b[36mvrp_study.ortools_routing_model.routing_model\u001b[0m:\u001b[36m__call__\u001b[0m:\u001b[36m34\u001b[0m - \u001b[34m\u001b[1mfind new solution: 6032952, best solution: 6032952\u001b[0m\n",
      "\u001b[32m2025-07-02 16:52:11.878\u001b[0m | \u001b[34m\u001b[1mDEBUG   \u001b[0m | \u001b[36mvrp_study.ortools_routing_model.routing_model\u001b[0m:\u001b[36m__call__\u001b[0m:\u001b[36m34\u001b[0m - \u001b[34m\u001b[1mfind new solution: 6032069, best solution: 6032069\u001b[0m\n",
      "\u001b[32m2025-07-02 16:52:11.928\u001b[0m | \u001b[34m\u001b[1mDEBUG   \u001b[0m | \u001b[36mvrp_study.ortools_routing_model.routing_model\u001b[0m:\u001b[36m__call__\u001b[0m:\u001b[36m34\u001b[0m - \u001b[34m\u001b[1mfind new solution: 6029618, best solution: 6029618\u001b[0m\n",
      "\u001b[32m2025-07-02 16:52:11.971\u001b[0m | \u001b[34m\u001b[1mDEBUG   \u001b[0m | \u001b[36mvrp_study.ortools_routing_model.routing_model\u001b[0m:\u001b[36m__call__\u001b[0m:\u001b[36m34\u001b[0m - \u001b[34m\u001b[1mfind new solution: 6028270, best solution: 6028270\u001b[0m\n",
      "\u001b[32m2025-07-02 16:52:12.005\u001b[0m | \u001b[34m\u001b[1mDEBUG   \u001b[0m | \u001b[36mvrp_study.ortools_routing_model.routing_model\u001b[0m:\u001b[36m__call__\u001b[0m:\u001b[36m34\u001b[0m - \u001b[34m\u001b[1mfind new solution: 6020903, best solution: 6020903\u001b[0m\n",
      "\u001b[32m2025-07-02 16:52:12.034\u001b[0m | \u001b[34m\u001b[1mDEBUG   \u001b[0m | \u001b[36mvrp_study.ortools_routing_model.routing_model\u001b[0m:\u001b[36m__call__\u001b[0m:\u001b[36m34\u001b[0m - \u001b[34m\u001b[1mfind new solution: 6020409, best solution: 6020409\u001b[0m\n",
      "\u001b[32m2025-07-02 16:52:12.061\u001b[0m | \u001b[34m\u001b[1mDEBUG   \u001b[0m | \u001b[36mvrp_study.ortools_routing_model.routing_model\u001b[0m:\u001b[36m__call__\u001b[0m:\u001b[36m34\u001b[0m - \u001b[34m\u001b[1mfind new solution: 6020331, best solution: 6020331\u001b[0m\n",
      "\u001b[32m2025-07-02 16:52:13.017\u001b[0m | \u001b[34m\u001b[1mDEBUG   \u001b[0m | \u001b[36mvrp_study.ortools_routing_model.routing_model\u001b[0m:\u001b[36m__call__\u001b[0m:\u001b[36m34\u001b[0m - \u001b[34m\u001b[1mfind new solution: 6020210, best solution: 6020210\u001b[0m\n",
      "\u001b[32m2025-07-02 16:52:13.043\u001b[0m | \u001b[34m\u001b[1mDEBUG   \u001b[0m | \u001b[36mvrp_study.ortools_routing_model.routing_model\u001b[0m:\u001b[36m__call__\u001b[0m:\u001b[36m34\u001b[0m - \u001b[34m\u001b[1mfind new solution: 6020158, best solution: 6020158\u001b[0m\n",
      "\u001b[32m2025-07-02 16:52:13.108\u001b[0m | \u001b[34m\u001b[1mDEBUG   \u001b[0m | \u001b[36mvrp_study.ortools_routing_model.routing_model\u001b[0m:\u001b[36m__call__\u001b[0m:\u001b[36m34\u001b[0m - \u001b[34m\u001b[1mfind new solution: 6014025, best solution: 6014025\u001b[0m\n",
      "\u001b[32m2025-07-02 16:52:13.155\u001b[0m | \u001b[34m\u001b[1mDEBUG   \u001b[0m | \u001b[36mvrp_study.ortools_routing_model.routing_model\u001b[0m:\u001b[36m__call__\u001b[0m:\u001b[36m34\u001b[0m - \u001b[34m\u001b[1mfind new solution: 6013918, best solution: 6013918\u001b[0m\n",
      "\u001b[32m2025-07-02 16:52:13.254\u001b[0m | \u001b[34m\u001b[1mDEBUG   \u001b[0m | \u001b[36mvrp_study.ortools_routing_model.routing_model\u001b[0m:\u001b[36m__call__\u001b[0m:\u001b[36m34\u001b[0m - \u001b[34m\u001b[1mfind new solution: 6013548, best solution: 6013548\u001b[0m\n",
      "\u001b[32m2025-07-02 16:52:13.285\u001b[0m | \u001b[34m\u001b[1mDEBUG   \u001b[0m | \u001b[36mvrp_study.ortools_routing_model.routing_model\u001b[0m:\u001b[36m__call__\u001b[0m:\u001b[36m34\u001b[0m - \u001b[34m\u001b[1mfind new solution: 6013323, best solution: 6013323\u001b[0m\n",
      "\u001b[32m2025-07-02 16:52:13.312\u001b[0m | \u001b[34m\u001b[1mDEBUG   \u001b[0m | \u001b[36mvrp_study.ortools_routing_model.routing_model\u001b[0m:\u001b[36m__call__\u001b[0m:\u001b[36m34\u001b[0m - \u001b[34m\u001b[1mfind new solution: 6012443, best solution: 6012443\u001b[0m\n",
      "\u001b[32m2025-07-02 16:52:13.339\u001b[0m | \u001b[34m\u001b[1mDEBUG   \u001b[0m | \u001b[36mvrp_study.ortools_routing_model.routing_model\u001b[0m:\u001b[36m__call__\u001b[0m:\u001b[36m34\u001b[0m - \u001b[34m\u001b[1mfind new solution: 6012442, best solution: 6012442\u001b[0m\n",
      "\u001b[32m2025-07-02 16:52:13.451\u001b[0m | \u001b[34m\u001b[1mDEBUG   \u001b[0m | \u001b[36mvrp_study.ortools_routing_model.routing_model\u001b[0m:\u001b[36m__call__\u001b[0m:\u001b[36m34\u001b[0m - \u001b[34m\u001b[1mfind new solution: 6011603, best solution: 6011603\u001b[0m\n",
      "\u001b[32m2025-07-02 16:52:13.477\u001b[0m | \u001b[34m\u001b[1mDEBUG   \u001b[0m | \u001b[36mvrp_study.ortools_routing_model.routing_model\u001b[0m:\u001b[36m__call__\u001b[0m:\u001b[36m34\u001b[0m - \u001b[34m\u001b[1mfind new solution: 6011378, best solution: 6011378\u001b[0m\n",
      "\u001b[32m2025-07-02 16:52:13.613\u001b[0m | \u001b[34m\u001b[1mDEBUG   \u001b[0m | \u001b[36mvrp_study.ortools_routing_model.routing_model\u001b[0m:\u001b[36m__call__\u001b[0m:\u001b[36m34\u001b[0m - \u001b[34m\u001b[1mfind new solution: 6011349, best solution: 6011349\u001b[0m\n",
      "\u001b[32m2025-07-02 16:52:14.045\u001b[0m | \u001b[34m\u001b[1mDEBUG   \u001b[0m | \u001b[36mvrp_study.ortools_routing_model.routing_model\u001b[0m:\u001b[36m__call__\u001b[0m:\u001b[36m34\u001b[0m - \u001b[34m\u001b[1mfind new solution: 6010953, best solution: 6010953\u001b[0m\n",
      "\u001b[32m2025-07-02 16:52:14.073\u001b[0m | \u001b[34m\u001b[1mDEBUG   \u001b[0m | \u001b[36mvrp_study.ortools_routing_model.routing_model\u001b[0m:\u001b[36m__call__\u001b[0m:\u001b[36m34\u001b[0m - \u001b[34m\u001b[1mfind new solution: 6010862, best solution: 6010862\u001b[0m\n",
      "\u001b[32m2025-07-02 16:52:15.107\u001b[0m | \u001b[34m\u001b[1mDEBUG   \u001b[0m | \u001b[36mvrp_study.ortools_routing_model.routing_model\u001b[0m:\u001b[36m__call__\u001b[0m:\u001b[36m34\u001b[0m - \u001b[34m\u001b[1mfind new solution: 6010619, best solution: 6010619\u001b[0m\n",
      "\u001b[32m2025-07-02 16:52:15.134\u001b[0m | \u001b[34m\u001b[1mDEBUG   \u001b[0m | \u001b[36mvrp_study.ortools_routing_model.routing_model\u001b[0m:\u001b[36m__call__\u001b[0m:\u001b[36m34\u001b[0m - \u001b[34m\u001b[1mfind new solution: 6010133, best solution: 6010133\u001b[0m\n",
      "\u001b[32m2025-07-02 16:52:15.231\u001b[0m | \u001b[34m\u001b[1mDEBUG   \u001b[0m | \u001b[36mvrp_study.ortools_routing_model.routing_model\u001b[0m:\u001b[36m__call__\u001b[0m:\u001b[36m34\u001b[0m - \u001b[34m\u001b[1mfind new solution: 6009652, best solution: 6009652\u001b[0m\n",
      "\u001b[32m2025-07-02 16:52:15.312\u001b[0m | \u001b[34m\u001b[1mDEBUG   \u001b[0m | \u001b[36mvrp_study.ortools_routing_model.routing_model\u001b[0m:\u001b[36m__call__\u001b[0m:\u001b[36m34\u001b[0m - \u001b[34m\u001b[1mfind new solution: 6009354, best solution: 6009354\u001b[0m\n",
      "\u001b[32m2025-07-02 16:52:15.362\u001b[0m | \u001b[34m\u001b[1mDEBUG   \u001b[0m | \u001b[36mvrp_study.ortools_routing_model.routing_model\u001b[0m:\u001b[36m__call__\u001b[0m:\u001b[36m34\u001b[0m - \u001b[34m\u001b[1mfind new solution: 6005178, best solution: 6005178\u001b[0m\n",
      "\u001b[32m2025-07-02 16:52:15.391\u001b[0m | \u001b[34m\u001b[1mDEBUG   \u001b[0m | \u001b[36mvrp_study.ortools_routing_model.routing_model\u001b[0m:\u001b[36m__call__\u001b[0m:\u001b[36m34\u001b[0m - \u001b[34m\u001b[1mfind new solution: 6005042, best solution: 6005042\u001b[0m\n",
      "\u001b[32m2025-07-02 16:52:15.425\u001b[0m | \u001b[34m\u001b[1mDEBUG   \u001b[0m | \u001b[36mvrp_study.ortools_routing_model.routing_model\u001b[0m:\u001b[36m__call__\u001b[0m:\u001b[36m34\u001b[0m - \u001b[34m\u001b[1mfind new solution: 6004742, best solution: 6004742\u001b[0m\n",
      "\u001b[32m2025-07-02 16:52:15.453\u001b[0m | \u001b[34m\u001b[1mDEBUG   \u001b[0m | \u001b[36mvrp_study.ortools_routing_model.routing_model\u001b[0m:\u001b[36m__call__\u001b[0m:\u001b[36m34\u001b[0m - \u001b[34m\u001b[1mfind new solution: 6004726, best solution: 6004726\u001b[0m\n",
      "\u001b[32m2025-07-02 16:52:15.481\u001b[0m | \u001b[34m\u001b[1mDEBUG   \u001b[0m | \u001b[36mvrp_study.ortools_routing_model.routing_model\u001b[0m:\u001b[36m__call__\u001b[0m:\u001b[36m34\u001b[0m - \u001b[34m\u001b[1mfind new solution: 6004488, best solution: 6004488\u001b[0m\n",
      "\u001b[32m2025-07-02 16:52:15.509\u001b[0m | \u001b[34m\u001b[1mDEBUG   \u001b[0m | \u001b[36mvrp_study.ortools_routing_model.routing_model\u001b[0m:\u001b[36m__call__\u001b[0m:\u001b[36m34\u001b[0m - \u001b[34m\u001b[1mfind new solution: 6004338, best solution: 6004338\u001b[0m\n",
      "\u001b[32m2025-07-02 16:52:15.538\u001b[0m | \u001b[34m\u001b[1mDEBUG   \u001b[0m | \u001b[36mvrp_study.ortools_routing_model.routing_model\u001b[0m:\u001b[36m__call__\u001b[0m:\u001b[36m34\u001b[0m - \u001b[34m\u001b[1mfind new solution: 6004317, best solution: 6004317\u001b[0m\n",
      "\u001b[32m2025-07-02 16:52:15.603\u001b[0m | \u001b[34m\u001b[1mDEBUG   \u001b[0m | \u001b[36mvrp_study.ortools_routing_model.routing_model\u001b[0m:\u001b[36m__call__\u001b[0m:\u001b[36m34\u001b[0m - \u001b[34m\u001b[1mfind new solution: 5999282, best solution: 5999282\u001b[0m\n",
      "\u001b[32m2025-07-02 16:52:15.631\u001b[0m | \u001b[34m\u001b[1mDEBUG   \u001b[0m | \u001b[36mvrp_study.ortools_routing_model.routing_model\u001b[0m:\u001b[36m__call__\u001b[0m:\u001b[36m34\u001b[0m - \u001b[34m\u001b[1mfind new solution: 5999156, best solution: 5999156\u001b[0m\n",
      "\u001b[32m2025-07-02 16:52:15.659\u001b[0m | \u001b[34m\u001b[1mDEBUG   \u001b[0m | \u001b[36mvrp_study.ortools_routing_model.routing_model\u001b[0m:\u001b[36m__call__\u001b[0m:\u001b[36m34\u001b[0m - \u001b[34m\u001b[1mfind new solution: 5999119, best solution: 5999119\u001b[0m\n",
      "\u001b[32m2025-07-02 16:52:15.688\u001b[0m | \u001b[34m\u001b[1mDEBUG   \u001b[0m | \u001b[36mvrp_study.ortools_routing_model.routing_model\u001b[0m:\u001b[36m__call__\u001b[0m:\u001b[36m34\u001b[0m - \u001b[34m\u001b[1mfind new solution: 5999107, best solution: 5999107\u001b[0m\n",
      "\u001b[32m2025-07-02 16:52:15.722\u001b[0m | \u001b[34m\u001b[1mDEBUG   \u001b[0m | \u001b[36mvrp_study.ortools_routing_model.routing_model\u001b[0m:\u001b[36m__call__\u001b[0m:\u001b[36m34\u001b[0m - \u001b[34m\u001b[1mfind new solution: 5998089, best solution: 5998089\u001b[0m\n",
      "\u001b[32m2025-07-02 16:52:15.756\u001b[0m | \u001b[34m\u001b[1mDEBUG   \u001b[0m | \u001b[36mvrp_study.ortools_routing_model.routing_model\u001b[0m:\u001b[36m__call__\u001b[0m:\u001b[36m34\u001b[0m - \u001b[34m\u001b[1mfind new solution: 5996511, best solution: 5996511\u001b[0m\n",
      "\u001b[32m2025-07-02 16:52:15.788\u001b[0m | \u001b[34m\u001b[1mDEBUG   \u001b[0m | \u001b[36mvrp_study.ortools_routing_model.routing_model\u001b[0m:\u001b[36m__call__\u001b[0m:\u001b[36m34\u001b[0m - \u001b[34m\u001b[1mfind new solution: 5996218, best solution: 5996218\u001b[0m\n",
      "\u001b[32m2025-07-02 16:52:15.822\u001b[0m | \u001b[34m\u001b[1mDEBUG   \u001b[0m | \u001b[36mvrp_study.ortools_routing_model.routing_model\u001b[0m:\u001b[36m__call__\u001b[0m:\u001b[36m34\u001b[0m - \u001b[34m\u001b[1mfind new solution: 5996145, best solution: 5996145\u001b[0m\n",
      "\u001b[32m2025-07-02 16:52:15.850\u001b[0m | \u001b[34m\u001b[1mDEBUG   \u001b[0m | \u001b[36mvrp_study.ortools_routing_model.routing_model\u001b[0m:\u001b[36m__call__\u001b[0m:\u001b[36m34\u001b[0m - \u001b[34m\u001b[1mfind new solution: 5995215, best solution: 5995215\u001b[0m\n",
      "\u001b[32m2025-07-02 16:52:15.960\u001b[0m | \u001b[34m\u001b[1mDEBUG   \u001b[0m | \u001b[36mvrp_study.ortools_routing_model.routing_model\u001b[0m:\u001b[36m__call__\u001b[0m:\u001b[36m34\u001b[0m - \u001b[34m\u001b[1mfind new solution: 5994940, best solution: 5994940\u001b[0m\n",
      "\u001b[32m2025-07-02 16:52:16.316\u001b[0m | \u001b[34m\u001b[1mDEBUG   \u001b[0m | \u001b[36mvrp_study.ortools_routing_model.routing_model\u001b[0m:\u001b[36m__call__\u001b[0m:\u001b[36m34\u001b[0m - \u001b[34m\u001b[1mfind new solution: 5994846, best solution: 5994846\u001b[0m\n",
      "\u001b[32m2025-07-02 16:52:17.690\u001b[0m | \u001b[34m\u001b[1mDEBUG   \u001b[0m | \u001b[36mvrp_study.ortools_routing_model.routing_model\u001b[0m:\u001b[36m__call__\u001b[0m:\u001b[36m34\u001b[0m - \u001b[34m\u001b[1mfind new solution: 5992410, best solution: 5992410\u001b[0m\n",
      "\u001b[32m2025-07-02 16:52:17.779\u001b[0m | \u001b[34m\u001b[1mDEBUG   \u001b[0m | \u001b[36mvrp_study.ortools_routing_model.routing_model\u001b[0m:\u001b[36m__call__\u001b[0m:\u001b[36m34\u001b[0m - \u001b[34m\u001b[1mfind new solution: 5985408, best solution: 5985408\u001b[0m\n",
      "\u001b[32m2025-07-02 16:52:17.838\u001b[0m | \u001b[34m\u001b[1mDEBUG   \u001b[0m | \u001b[36mvrp_study.ortools_routing_model.routing_model\u001b[0m:\u001b[36m__call__\u001b[0m:\u001b[36m34\u001b[0m - \u001b[34m\u001b[1mfind new solution: 5982893, best solution: 5982893\u001b[0m\n",
      "\u001b[32m2025-07-02 16:52:19.741\u001b[0m | \u001b[34m\u001b[1mDEBUG   \u001b[0m | \u001b[36mvrp_study.ortools_routing_model.routing_model\u001b[0m:\u001b[36m__call__\u001b[0m:\u001b[36m34\u001b[0m - \u001b[34m\u001b[1mfind new solution: 5980860, best solution: 5980860\u001b[0m\n",
      "\u001b[32m2025-07-02 16:52:19.816\u001b[0m | \u001b[34m\u001b[1mDEBUG   \u001b[0m | \u001b[36mvrp_study.ortools_routing_model.routing_model\u001b[0m:\u001b[36m__call__\u001b[0m:\u001b[36m34\u001b[0m - \u001b[34m\u001b[1mfind new solution: 5979928, best solution: 5979928\u001b[0m\n",
      "\u001b[32m2025-07-02 16:52:19.844\u001b[0m | \u001b[34m\u001b[1mDEBUG   \u001b[0m | \u001b[36mvrp_study.ortools_routing_model.routing_model\u001b[0m:\u001b[36m__call__\u001b[0m:\u001b[36m34\u001b[0m - \u001b[34m\u001b[1mfind new solution: 5979841, best solution: 5979841\u001b[0m\n",
      "\u001b[32m2025-07-02 16:52:19.872\u001b[0m | \u001b[34m\u001b[1mDEBUG   \u001b[0m | \u001b[36mvrp_study.ortools_routing_model.routing_model\u001b[0m:\u001b[36m__call__\u001b[0m:\u001b[36m34\u001b[0m - \u001b[34m\u001b[1mfind new solution: 5979728, best solution: 5979728\u001b[0m\n",
      "\u001b[32m2025-07-02 16:52:19.912\u001b[0m | \u001b[34m\u001b[1mDEBUG   \u001b[0m | \u001b[36mvrp_study.ortools_routing_model.routing_model\u001b[0m:\u001b[36m__call__\u001b[0m:\u001b[36m34\u001b[0m - \u001b[34m\u001b[1mfind new solution: 5976745, best solution: 5976745\u001b[0m\n",
      "\u001b[32m2025-07-02 16:52:19.948\u001b[0m | \u001b[34m\u001b[1mDEBUG   \u001b[0m | \u001b[36mvrp_study.ortools_routing_model.routing_model\u001b[0m:\u001b[36m__call__\u001b[0m:\u001b[36m34\u001b[0m - \u001b[34m\u001b[1mfind new solution: 5974369, best solution: 5974369\u001b[0m\n",
      "\u001b[32m2025-07-02 16:52:20.005\u001b[0m | \u001b[34m\u001b[1mDEBUG   \u001b[0m | \u001b[36mvrp_study.ortools_routing_model.routing_model\u001b[0m:\u001b[36m__call__\u001b[0m:\u001b[36m34\u001b[0m - \u001b[34m\u001b[1mfind new solution: 5974363, best solution: 5974363\u001b[0m\n",
      "\u001b[32m2025-07-02 16:52:20.033\u001b[0m | \u001b[34m\u001b[1mDEBUG   \u001b[0m | \u001b[36mvrp_study.ortools_routing_model.routing_model\u001b[0m:\u001b[36m__call__\u001b[0m:\u001b[36m34\u001b[0m - \u001b[34m\u001b[1mfind new solution: 5974186, best solution: 5974186\u001b[0m\n",
      "\u001b[32m2025-07-02 16:52:20.190\u001b[0m | \u001b[34m\u001b[1mDEBUG   \u001b[0m | \u001b[36mvrp_study.ortools_routing_model.routing_model\u001b[0m:\u001b[36m__call__\u001b[0m:\u001b[36m34\u001b[0m - \u001b[34m\u001b[1mfind new solution: 5973891, best solution: 5973891\u001b[0m\n",
      "\u001b[32m2025-07-02 16:52:20.438\u001b[0m | \u001b[34m\u001b[1mDEBUG   \u001b[0m | \u001b[36mvrp_study.ortools_routing_model.routing_model\u001b[0m:\u001b[36m__call__\u001b[0m:\u001b[36m34\u001b[0m - \u001b[34m\u001b[1mfind new solution: 5970862, best solution: 5970862\u001b[0m\n",
      "\u001b[32m2025-07-02 16:52:20.490\u001b[0m | \u001b[34m\u001b[1mDEBUG   \u001b[0m | \u001b[36mvrp_study.ortools_routing_model.routing_model\u001b[0m:\u001b[36m__call__\u001b[0m:\u001b[36m34\u001b[0m - \u001b[34m\u001b[1mfind new solution: 5963107, best solution: 5963107\u001b[0m\n",
      "\u001b[32m2025-07-02 16:52:20.542\u001b[0m | \u001b[34m\u001b[1mDEBUG   \u001b[0m | \u001b[36mvrp_study.ortools_routing_model.routing_model\u001b[0m:\u001b[36m__call__\u001b[0m:\u001b[36m34\u001b[0m - \u001b[34m\u001b[1mfind new solution: 5960342, best solution: 5960342\u001b[0m\n",
      "\u001b[32m2025-07-02 16:52:20.570\u001b[0m | \u001b[34m\u001b[1mDEBUG   \u001b[0m | \u001b[36mvrp_study.ortools_routing_model.routing_model\u001b[0m:\u001b[36m__call__\u001b[0m:\u001b[36m34\u001b[0m - \u001b[34m\u001b[1mfind new solution: 5960069, best solution: 5960069\u001b[0m\n",
      "\u001b[32m2025-07-02 16:52:20.599\u001b[0m | \u001b[34m\u001b[1mDEBUG   \u001b[0m | \u001b[36mvrp_study.ortools_routing_model.routing_model\u001b[0m:\u001b[36m__call__\u001b[0m:\u001b[36m34\u001b[0m - \u001b[34m\u001b[1mfind new solution: 5957743, best solution: 5957743\u001b[0m\n",
      "\u001b[32m2025-07-02 16:52:20.627\u001b[0m | \u001b[34m\u001b[1mDEBUG   \u001b[0m | \u001b[36mvrp_study.ortools_routing_model.routing_model\u001b[0m:\u001b[36m__call__\u001b[0m:\u001b[36m34\u001b[0m - \u001b[34m\u001b[1mfind new solution: 5957438, best solution: 5957438\u001b[0m\n",
      "\u001b[32m2025-07-02 16:52:21.732\u001b[0m | \u001b[34m\u001b[1mDEBUG   \u001b[0m | \u001b[36mvrp_study.ortools_routing_model.routing_model\u001b[0m:\u001b[36m__call__\u001b[0m:\u001b[36m34\u001b[0m - \u001b[34m\u001b[1mfind new solution: 5957415, best solution: 5957415\u001b[0m\n",
      "\u001b[32m2025-07-02 16:52:22.507\u001b[0m | \u001b[34m\u001b[1mDEBUG   \u001b[0m | \u001b[36mvrp_study.ortools_routing_model.routing_model\u001b[0m:\u001b[36m__call__\u001b[0m:\u001b[36m34\u001b[0m - \u001b[34m\u001b[1mfind new solution: 5946685, best solution: 5946685\u001b[0m\n",
      "\u001b[32m2025-07-02 16:52:22.581\u001b[0m | \u001b[34m\u001b[1mDEBUG   \u001b[0m | \u001b[36mvrp_study.ortools_routing_model.routing_model\u001b[0m:\u001b[36m__call__\u001b[0m:\u001b[36m34\u001b[0m - \u001b[34m\u001b[1mfind new solution: 5945739, best solution: 5945739\u001b[0m\n",
      "\u001b[32m2025-07-02 16:52:22.634\u001b[0m | \u001b[34m\u001b[1mDEBUG   \u001b[0m | \u001b[36mvrp_study.ortools_routing_model.routing_model\u001b[0m:\u001b[36m__call__\u001b[0m:\u001b[36m34\u001b[0m - \u001b[34m\u001b[1mfind new solution: 5945334, best solution: 5945334\u001b[0m\n",
      "\u001b[32m2025-07-02 16:52:22.670\u001b[0m | \u001b[34m\u001b[1mDEBUG   \u001b[0m | \u001b[36mvrp_study.ortools_routing_model.routing_model\u001b[0m:\u001b[36m__call__\u001b[0m:\u001b[36m34\u001b[0m - \u001b[34m\u001b[1mfind new solution: 5945141, best solution: 5945141\u001b[0m\n",
      "\u001b[32m2025-07-02 16:52:22.721\u001b[0m | \u001b[34m\u001b[1mDEBUG   \u001b[0m | \u001b[36mvrp_study.ortools_routing_model.routing_model\u001b[0m:\u001b[36m__call__\u001b[0m:\u001b[36m34\u001b[0m - \u001b[34m\u001b[1mfind new solution: 5945122, best solution: 5945122\u001b[0m\n",
      "\u001b[32m2025-07-02 16:52:23.408\u001b[0m | \u001b[34m\u001b[1mDEBUG   \u001b[0m | \u001b[36mvrp_study.ortools_routing_model.routing_model\u001b[0m:\u001b[36m__call__\u001b[0m:\u001b[36m34\u001b[0m - \u001b[34m\u001b[1mfind new solution: 5943465, best solution: 5943465\u001b[0m\n",
      "\u001b[32m2025-07-02 16:52:23.436\u001b[0m | \u001b[34m\u001b[1mDEBUG   \u001b[0m | \u001b[36mvrp_study.ortools_routing_model.routing_model\u001b[0m:\u001b[36m__call__\u001b[0m:\u001b[36m34\u001b[0m - \u001b[34m\u001b[1mfind new solution: 5943333, best solution: 5943333\u001b[0m\n",
      "\u001b[32m2025-07-02 16:52:23.464\u001b[0m | \u001b[34m\u001b[1mDEBUG   \u001b[0m | \u001b[36mvrp_study.ortools_routing_model.routing_model\u001b[0m:\u001b[36m__call__\u001b[0m:\u001b[36m34\u001b[0m - \u001b[34m\u001b[1mfind new solution: 5943156, best solution: 5943156\u001b[0m\n",
      "\u001b[32m2025-07-02 16:52:23.492\u001b[0m | \u001b[34m\u001b[1mDEBUG   \u001b[0m | \u001b[36mvrp_study.ortools_routing_model.routing_model\u001b[0m:\u001b[36m__call__\u001b[0m:\u001b[36m34\u001b[0m - \u001b[34m\u001b[1mfind new solution: 5942797, best solution: 5942797\u001b[0m\n",
      "\u001b[32m2025-07-02 16:52:23.559\u001b[0m | \u001b[34m\u001b[1mDEBUG   \u001b[0m | \u001b[36mvrp_study.ortools_routing_model.routing_model\u001b[0m:\u001b[36m__call__\u001b[0m:\u001b[36m34\u001b[0m - \u001b[34m\u001b[1mfind new solution: 5940923, best solution: 5940923\u001b[0m\n",
      "\u001b[32m2025-07-02 16:52:23.587\u001b[0m | \u001b[34m\u001b[1mDEBUG   \u001b[0m | \u001b[36mvrp_study.ortools_routing_model.routing_model\u001b[0m:\u001b[36m__call__\u001b[0m:\u001b[36m34\u001b[0m - \u001b[34m\u001b[1mfind new solution: 5940793, best solution: 5940793\u001b[0m\n",
      "\u001b[32m2025-07-02 16:52:23.614\u001b[0m | \u001b[34m\u001b[1mDEBUG   \u001b[0m | \u001b[36mvrp_study.ortools_routing_model.routing_model\u001b[0m:\u001b[36m__call__\u001b[0m:\u001b[36m34\u001b[0m - \u001b[34m\u001b[1mfind new solution: 5940736, best solution: 5940736\u001b[0m\n",
      "\u001b[32m2025-07-02 16:52:23.642\u001b[0m | \u001b[34m\u001b[1mDEBUG   \u001b[0m | \u001b[36mvrp_study.ortools_routing_model.routing_model\u001b[0m:\u001b[36m__call__\u001b[0m:\u001b[36m34\u001b[0m - \u001b[34m\u001b[1mfind new solution: 5940704, best solution: 5940704\u001b[0m\n",
      "\u001b[32m2025-07-02 16:52:25.058\u001b[0m | \u001b[34m\u001b[1mDEBUG   \u001b[0m | \u001b[36mvrp_study.ortools_routing_model.routing_model\u001b[0m:\u001b[36m__call__\u001b[0m:\u001b[36m34\u001b[0m - \u001b[34m\u001b[1mfind new solution: 5934437, best solution: 5934437\u001b[0m\n",
      "\u001b[32m2025-07-02 16:52:25.086\u001b[0m | \u001b[34m\u001b[1mDEBUG   \u001b[0m | \u001b[36mvrp_study.ortools_routing_model.routing_model\u001b[0m:\u001b[36m__call__\u001b[0m:\u001b[36m34\u001b[0m - \u001b[34m\u001b[1mfind new solution: 5934406, best solution: 5934406\u001b[0m\n",
      "\u001b[32m2025-07-02 16:52:25.113\u001b[0m | \u001b[34m\u001b[1mDEBUG   \u001b[0m | \u001b[36mvrp_study.ortools_routing_model.routing_model\u001b[0m:\u001b[36m__call__\u001b[0m:\u001b[36m34\u001b[0m - \u001b[34m\u001b[1mfind new solution: 5934390, best solution: 5934390\u001b[0m\n",
      "\u001b[32m2025-07-02 16:52:25.142\u001b[0m | \u001b[34m\u001b[1mDEBUG   \u001b[0m | \u001b[36mvrp_study.ortools_routing_model.routing_model\u001b[0m:\u001b[36m__call__\u001b[0m:\u001b[36m34\u001b[0m - \u001b[34m\u001b[1mfind new solution: 5929241, best solution: 5929241\u001b[0m\n",
      "\u001b[32m2025-07-02 16:52:25.169\u001b[0m | \u001b[34m\u001b[1mDEBUG   \u001b[0m | \u001b[36mvrp_study.ortools_routing_model.routing_model\u001b[0m:\u001b[36m__call__\u001b[0m:\u001b[36m34\u001b[0m - \u001b[34m\u001b[1mfind new solution: 5929229, best solution: 5929229\u001b[0m\n",
      "\u001b[32m2025-07-02 16:52:25.197\u001b[0m | \u001b[34m\u001b[1mDEBUG   \u001b[0m | \u001b[36mvrp_study.ortools_routing_model.routing_model\u001b[0m:\u001b[36m__call__\u001b[0m:\u001b[36m34\u001b[0m - \u001b[34m\u001b[1mfind new solution: 5928802, best solution: 5928802\u001b[0m\n",
      "\u001b[32m2025-07-02 16:52:25.225\u001b[0m | \u001b[34m\u001b[1mDEBUG   \u001b[0m | \u001b[36mvrp_study.ortools_routing_model.routing_model\u001b[0m:\u001b[36m__call__\u001b[0m:\u001b[36m34\u001b[0m - \u001b[34m\u001b[1mfind new solution: 5928627, best solution: 5928627\u001b[0m\n",
      "\u001b[32m2025-07-02 16:52:25.252\u001b[0m | \u001b[34m\u001b[1mDEBUG   \u001b[0m | \u001b[36mvrp_study.ortools_routing_model.routing_model\u001b[0m:\u001b[36m__call__\u001b[0m:\u001b[36m34\u001b[0m - \u001b[34m\u001b[1mfind new solution: 5928487, best solution: 5928487\u001b[0m\n",
      "\u001b[32m2025-07-02 16:52:25.284\u001b[0m | \u001b[34m\u001b[1mDEBUG   \u001b[0m | \u001b[36mvrp_study.ortools_routing_model.routing_model\u001b[0m:\u001b[36m__call__\u001b[0m:\u001b[36m34\u001b[0m - \u001b[34m\u001b[1mfind new solution: 5925079, best solution: 5925079\u001b[0m\n",
      "\u001b[32m2025-07-02 16:52:25.372\u001b[0m | \u001b[34m\u001b[1mDEBUG   \u001b[0m | \u001b[36mvrp_study.ortools_routing_model.routing_model\u001b[0m:\u001b[36m__call__\u001b[0m:\u001b[36m34\u001b[0m - \u001b[34m\u001b[1mfind new solution: 5925032, best solution: 5925032\u001b[0m\n",
      "\u001b[32m2025-07-02 16:52:25.425\u001b[0m | \u001b[34m\u001b[1mDEBUG   \u001b[0m | \u001b[36mvrp_study.ortools_routing_model.routing_model\u001b[0m:\u001b[36m__call__\u001b[0m:\u001b[36m34\u001b[0m - \u001b[34m\u001b[1mfind new solution: 5915855, best solution: 5915855\u001b[0m\n",
      "\u001b[32m2025-07-02 16:52:26.612\u001b[0m | \u001b[34m\u001b[1mDEBUG   \u001b[0m | \u001b[36mvrp_study.ortools_routing_model.routing_model\u001b[0m:\u001b[36m__call__\u001b[0m:\u001b[36m34\u001b[0m - \u001b[34m\u001b[1mfind new solution: 5915453, best solution: 5915453\u001b[0m\n",
      "\u001b[32m2025-07-02 16:52:27.928\u001b[0m | \u001b[34m\u001b[1mDEBUG   \u001b[0m | \u001b[36mvrp_study.ortools_routing_model.routing_model\u001b[0m:\u001b[36m__call__\u001b[0m:\u001b[36m34\u001b[0m - \u001b[34m\u001b[1mfind new solution: 5914868, best solution: 5914868\u001b[0m\n",
      "\u001b[32m2025-07-02 16:52:27.956\u001b[0m | \u001b[34m\u001b[1mDEBUG   \u001b[0m | \u001b[36mvrp_study.ortools_routing_model.routing_model\u001b[0m:\u001b[36m__call__\u001b[0m:\u001b[36m34\u001b[0m - \u001b[34m\u001b[1mfind new solution: 5914769, best solution: 5914769\u001b[0m\n",
      "\u001b[32m2025-07-02 16:52:28.225\u001b[0m | \u001b[34m\u001b[1mDEBUG   \u001b[0m | \u001b[36mvrp_study.ortools_routing_model.routing_model\u001b[0m:\u001b[36m__call__\u001b[0m:\u001b[36m34\u001b[0m - \u001b[34m\u001b[1mfind new solution: 5914751, best solution: 5914751\u001b[0m\n",
      "\u001b[32m2025-07-02 16:52:28.253\u001b[0m | \u001b[34m\u001b[1mDEBUG   \u001b[0m | \u001b[36mvrp_study.ortools_routing_model.routing_model\u001b[0m:\u001b[36m__call__\u001b[0m:\u001b[36m34\u001b[0m - \u001b[34m\u001b[1mfind new solution: 5914666, best solution: 5914666\u001b[0m\n",
      "\u001b[32m2025-07-02 16:52:28.281\u001b[0m | \u001b[34m\u001b[1mDEBUG   \u001b[0m | \u001b[36mvrp_study.ortools_routing_model.routing_model\u001b[0m:\u001b[36m__call__\u001b[0m:\u001b[36m34\u001b[0m - \u001b[34m\u001b[1mfind new solution: 5914168, best solution: 5914168\u001b[0m\n",
      "\u001b[32m2025-07-02 16:52:28.315\u001b[0m | \u001b[34m\u001b[1mDEBUG   \u001b[0m | \u001b[36mvrp_study.ortools_routing_model.routing_model\u001b[0m:\u001b[36m__call__\u001b[0m:\u001b[36m34\u001b[0m - \u001b[34m\u001b[1mfind new solution: 5914010, best solution: 5914010\u001b[0m\n",
      "\u001b[32m2025-07-02 16:52:28.355\u001b[0m | \u001b[34m\u001b[1mDEBUG   \u001b[0m | \u001b[36mvrp_study.ortools_routing_model.routing_model\u001b[0m:\u001b[36m__call__\u001b[0m:\u001b[36m34\u001b[0m - \u001b[34m\u001b[1mfind new solution: 5905384, best solution: 5905384\u001b[0m\n",
      "\u001b[32m2025-07-02 16:52:28.383\u001b[0m | \u001b[34m\u001b[1mDEBUG   \u001b[0m | \u001b[36mvrp_study.ortools_routing_model.routing_model\u001b[0m:\u001b[36m__call__\u001b[0m:\u001b[36m34\u001b[0m - \u001b[34m\u001b[1mfind new solution: 5904210, best solution: 5904210\u001b[0m\n",
      "\u001b[32m2025-07-02 16:52:28.432\u001b[0m | \u001b[34m\u001b[1mDEBUG   \u001b[0m | \u001b[36mvrp_study.ortools_routing_model.routing_model\u001b[0m:\u001b[36m__call__\u001b[0m:\u001b[36m34\u001b[0m - \u001b[34m\u001b[1mfind new solution: 5903953, best solution: 5903953\u001b[0m\n",
      "\u001b[32m2025-07-02 16:52:29.593\u001b[0m | \u001b[34m\u001b[1mDEBUG   \u001b[0m | \u001b[36mvrp_study.ortools_routing_model.routing_model\u001b[0m:\u001b[36m__call__\u001b[0m:\u001b[36m34\u001b[0m - \u001b[34m\u001b[1mfind new solution: 5903491, best solution: 5903491\u001b[0m\n",
      "\u001b[32m2025-07-02 16:52:29.766\u001b[0m | \u001b[34m\u001b[1mDEBUG   \u001b[0m | \u001b[36mvrp_study.ortools_routing_model.routing_model\u001b[0m:\u001b[36m__call__\u001b[0m:\u001b[36m34\u001b[0m - \u001b[34m\u001b[1mfind new solution: 5903452, best solution: 5903452\u001b[0m\n",
      "\u001b[32m2025-07-02 16:52:29.838\u001b[0m | \u001b[34m\u001b[1mDEBUG   \u001b[0m | \u001b[36mvrp_study.ortools_routing_model.routing_model\u001b[0m:\u001b[36m__call__\u001b[0m:\u001b[36m34\u001b[0m - \u001b[34m\u001b[1mfind new solution: 5903447, best solution: 5903447\u001b[0m\n",
      "\u001b[32m2025-07-02 16:52:29.865\u001b[0m | \u001b[34m\u001b[1mDEBUG   \u001b[0m | \u001b[36mvrp_study.ortools_routing_model.routing_model\u001b[0m:\u001b[36m__call__\u001b[0m:\u001b[36m34\u001b[0m - \u001b[34m\u001b[1mfind new solution: 5901583, best solution: 5901583\u001b[0m\n",
      "\u001b[32m2025-07-02 16:52:29.913\u001b[0m | \u001b[34m\u001b[1mDEBUG   \u001b[0m | \u001b[36mvrp_study.ortools_routing_model.routing_model\u001b[0m:\u001b[36m__call__\u001b[0m:\u001b[36m34\u001b[0m - \u001b[34m\u001b[1mfind new solution: 5894220, best solution: 5894220\u001b[0m\n",
      "\u001b[32m2025-07-02 16:52:29.969\u001b[0m | \u001b[34m\u001b[1mDEBUG   \u001b[0m | \u001b[36mvrp_study.ortools_routing_model.routing_model\u001b[0m:\u001b[36m__call__\u001b[0m:\u001b[36m34\u001b[0m - \u001b[34m\u001b[1mfind new solution: 5894047, best solution: 5894047\u001b[0m\n",
      "\u001b[32m2025-07-02 16:52:29.999\u001b[0m | \u001b[34m\u001b[1mDEBUG   \u001b[0m | \u001b[36mvrp_study.ortools_routing_model.routing_model\u001b[0m:\u001b[36m__call__\u001b[0m:\u001b[36m34\u001b[0m - \u001b[34m\u001b[1mfind new solution: 5893946, best solution: 5893946\u001b[0m\n",
      "\u001b[32m2025-07-02 16:52:30.040\u001b[0m | \u001b[34m\u001b[1mDEBUG   \u001b[0m | \u001b[36mvrp_study.ortools_routing_model.routing_model\u001b[0m:\u001b[36m__call__\u001b[0m:\u001b[36m34\u001b[0m - \u001b[34m\u001b[1mfind new solution: 5893843, best solution: 5893843\u001b[0m\n",
      "\u001b[32m2025-07-02 16:52:30.068\u001b[0m | \u001b[34m\u001b[1mDEBUG   \u001b[0m | \u001b[36mvrp_study.ortools_routing_model.routing_model\u001b[0m:\u001b[36m__call__\u001b[0m:\u001b[36m34\u001b[0m - \u001b[34m\u001b[1mfind new solution: 5893480, best solution: 5893480\u001b[0m\n",
      "\u001b[32m2025-07-02 16:52:30.653\u001b[0m | \u001b[34m\u001b[1mDEBUG   \u001b[0m | \u001b[36mvrp_study.ortools_routing_model.routing_model\u001b[0m:\u001b[36m__call__\u001b[0m:\u001b[36m34\u001b[0m - \u001b[34m\u001b[1mfind new solution: 5885869, best solution: 5885869\u001b[0m\n",
      "\u001b[32m2025-07-02 16:52:30.715\u001b[0m | \u001b[34m\u001b[1mDEBUG   \u001b[0m | \u001b[36mvrp_study.ortools_routing_model.routing_model\u001b[0m:\u001b[36m__call__\u001b[0m:\u001b[36m34\u001b[0m - \u001b[34m\u001b[1mfind new solution: 5864150, best solution: 5864150\u001b[0m\n",
      "\u001b[32m2025-07-02 16:52:30.791\u001b[0m | \u001b[34m\u001b[1mDEBUG   \u001b[0m | \u001b[36mvrp_study.ortools_routing_model.routing_model\u001b[0m:\u001b[36m__call__\u001b[0m:\u001b[36m34\u001b[0m - \u001b[34m\u001b[1mfind new solution: 5862972, best solution: 5862972\u001b[0m\n",
      "\u001b[32m2025-07-02 16:52:31.599\u001b[0m | \u001b[34m\u001b[1mDEBUG   \u001b[0m | \u001b[36mvrp_study.ortools_routing_model.routing_model\u001b[0m:\u001b[36m__call__\u001b[0m:\u001b[36m34\u001b[0m - \u001b[34m\u001b[1mfind new solution: 5859399, best solution: 5859399\u001b[0m\n",
      "\u001b[32m2025-07-02 16:52:31.627\u001b[0m | \u001b[34m\u001b[1mDEBUG   \u001b[0m | \u001b[36mvrp_study.ortools_routing_model.routing_model\u001b[0m:\u001b[36m__call__\u001b[0m:\u001b[36m34\u001b[0m - \u001b[34m\u001b[1mfind new solution: 5853202, best solution: 5853202\u001b[0m\n",
      "\u001b[32m2025-07-02 16:52:31.658\u001b[0m | \u001b[34m\u001b[1mDEBUG   \u001b[0m | \u001b[36mvrp_study.ortools_routing_model.routing_model\u001b[0m:\u001b[36m__call__\u001b[0m:\u001b[36m34\u001b[0m - \u001b[34m\u001b[1mfind new solution: 5853046, best solution: 5853046\u001b[0m\n",
      "\u001b[32m2025-07-02 16:52:31.712\u001b[0m | \u001b[34m\u001b[1mDEBUG   \u001b[0m | \u001b[36mvrp_study.ortools_routing_model.routing_model\u001b[0m:\u001b[36m__call__\u001b[0m:\u001b[36m34\u001b[0m - \u001b[34m\u001b[1mfind new solution: 5847361, best solution: 5847361\u001b[0m\n",
      "\u001b[32m2025-07-02 16:52:31.762\u001b[0m | \u001b[34m\u001b[1mDEBUG   \u001b[0m | \u001b[36mvrp_study.ortools_routing_model.routing_model\u001b[0m:\u001b[36m__call__\u001b[0m:\u001b[36m34\u001b[0m - \u001b[34m\u001b[1mfind new solution: 5843705, best solution: 5843705\u001b[0m\n",
      "\u001b[32m2025-07-02 16:52:32.606\u001b[0m | \u001b[34m\u001b[1mDEBUG   \u001b[0m | \u001b[36mvrp_study.ortools_routing_model.routing_model\u001b[0m:\u001b[36m__call__\u001b[0m:\u001b[36m34\u001b[0m - \u001b[34m\u001b[1mfind new solution: 5841431, best solution: 5841431\u001b[0m\n",
      "\u001b[32m2025-07-02 16:52:32.796\u001b[0m | \u001b[1mINFO    \u001b[0m | \u001b[36mvrp_study.ortools_routing_model.routing_model\u001b[0m:\u001b[36mdo_solve\u001b[0m:\u001b[36m415\u001b[0m - \u001b[1mfind solution\u001b[0m\n",
      "\u001b[32m2025-07-02 16:52:32.800\u001b[0m | \u001b[1mINFO    \u001b[0m | \u001b[36mvrp_study.ortools_routing_model.routing_model\u001b[0m:\u001b[36mfind_optimal_paths\u001b[0m:\u001b[36m440\u001b[0m - \u001b[1mbest_score: 80\u001b[0m\n",
      "\u001b[32m2025-07-02 16:52:32.801\u001b[0m | \u001b[1mINFO    \u001b[0m | \u001b[36mvrp_study.ortools_routing_model.routing_model\u001b[0m:\u001b[36mfind_optimal_paths\u001b[0m:\u001b[36m442\u001b[0m - \u001b[1mbest_score: 58414.31\u001b[0m\n"
     ]
    }
   ],
   "source": [
    "from vrp_study.init_solution_builder.solution_builder import SolutionBuilder\n",
    "\n",
    "# sol = find_optimal_paths(routing_manager, SolutionBuilder())\n",
    "sol = find_optimal_paths(routing_manager)"
   ]
  },
  {
   "cell_type": "code",
   "execution_count": 11,
   "id": "26cc4b2b4712073f",
   "metadata": {
    "collapsed": false,
    "is_executing": true
   },
   "outputs": [
    {
     "data": {
      "text/plain": [
       "523"
      ]
     },
     "execution_count": 11,
     "metadata": {},
     "output_type": "execute_result"
    }
   ],
   "source": [
    "len(cargos)"
   ]
  },
  {
   "cell_type": "code",
   "execution_count": 12,
   "id": "c7d7dd16de67f42d",
   "metadata": {
    "collapsed": false,
    "is_executing": true
   },
   "outputs": [
    {
     "data": {
      "text/plain": [
       "6320"
      ]
     },
     "execution_count": 12,
     "metadata": {},
     "output_type": "execute_result"
    }
   ],
   "source": [
    "80 * 79"
   ]
  },
  {
   "cell_type": "code",
   "execution_count": 13,
   "id": "33bc623d73fbab33",
   "metadata": {
    "collapsed": false,
    "is_executing": true
   },
   "outputs": [],
   "source": [
    "#  best_score: 107\n",
    "# 2025-06-02 14:45:05,380 - routing_model [INFO] - best_score: 46228.27"
   ]
  },
  {
   "cell_type": "code",
   "execution_count": 14,
   "id": "6c8841a344403423",
   "metadata": {
    "collapsed": false,
    "is_executing": true
   },
   "outputs": [],
   "source": [
    "# est_score: 8\n",
    "# 2025-06-02 14:25:30,179 - routing_model [INFO] - best_score: 1979.21"
   ]
  },
  {
   "cell_type": "code",
   "execution_count": 15,
   "id": "3dec13fea9c46a8c",
   "metadata": {
    "collapsed": false,
    "is_executing": true
   },
   "outputs": [
    {
     "data": {
      "text/plain": [
       "58418.89676549103"
      ]
     },
     "execution_count": 15,
     "metadata": {},
     "output_type": "execute_result"
    }
   ],
   "source": [
    "total_l = 0\n",
    "for s in sol[0]:\n",
    "    if len(s) > 0:\n",
    "        # print(s)\n",
    "        # a = routing_manager.nodes()[s[i]]\n",
    "        # b = routing_manager.nodes()[s[i+1]]\n",
    "        \n",
    "        l = sum(routing_manager.get_distance(routing_manager.nodes()[s[i]], routing_manager.nodes()[s[i + 1]]) for i in range(len(s) - 1))\n",
    "        # print(s, l)\n",
    "        total_l += l\n",
    "total_l"
   ]
  },
  {
   "cell_type": "code",
   "execution_count": null,
   "id": "a259aa07",
   "metadata": {},
   "outputs": [],
   "source": [
    "routing_manager."
   ]
  },
  {
   "cell_type": "code",
   "execution_count": 16,
   "id": "2b3a47a4a6ce1eff",
   "metadata": {
    "collapsed": false,
    "is_executing": true
   },
   "outputs": [
    {
     "ename": "AttributeError",
     "evalue": "'RoutingManager' object has no attribute '_node_to_inner_node'",
     "output_type": "error",
     "traceback": [
      "\u001b[0;31m---------------------------------------------------------------------------\u001b[0m",
      "\u001b[0;31mAttributeError\u001b[0m                            Traceback (most recent call last)",
      "Cell \u001b[0;32mIn[16], line 2\u001b[0m\n\u001b[1;32m      1\u001b[0m \u001b[38;5;28;01mfor\u001b[39;00m crg \u001b[38;5;129;01min\u001b[39;00m cargos:\n\u001b[0;32m----> 2\u001b[0m     in1 \u001b[38;5;241m=\u001b[39m \u001b[43mrouting_manager\u001b[49m\u001b[38;5;241;43m.\u001b[39;49m\u001b[43m_node_to_inner_node\u001b[49m[crg\u001b[38;5;241m.\u001b[39mnodes[\u001b[38;5;241m0\u001b[39m]]\n\u001b[1;32m      3\u001b[0m     in2 \u001b[38;5;241m=\u001b[39m routing_manager\u001b[38;5;241m.\u001b[39m_node_to_inner_node[crg\u001b[38;5;241m.\u001b[39mnodes[\u001b[38;5;241m1\u001b[39m]]\n\u001b[1;32m      5\u001b[0m     start \u001b[38;5;241m=\u001b[39m \u001b[38;5;28;01mNone\u001b[39;00m\n",
      "\u001b[0;31mAttributeError\u001b[0m: 'RoutingManager' object has no attribute '_node_to_inner_node'"
     ]
    }
   ],
   "source": [
    "for crg in cargos:\n",
    "    in1 = routing_manager._node_to_inner_node[crg.nodes[0]]\n",
    "    in2 = routing_manager._node_to_inner_node[crg.nodes[1]]\n",
    "\n",
    "    start = None\n",
    "    end = None\n",
    "    in_time = None\n",
    "    out_time = None\n",
    "\n",
    "    for i, s in enumerate(sol[0]):\n",
    "        s_time = sol[1][i]\n",
    "        if len(s) == 0:\n",
    "            continue\n",
    "\n",
    "        for order, i in enumerate(s):\n",
    "            if i == in1.id:\n",
    "                start = i\n",
    "                in_time = s_time[order]\n",
    "            if i == in2.id:\n",
    "                end = i\n",
    "                out_time = s_time[order]\n",
    "\n",
    "    assert start is not None and end is not None and start < end, (start, end)\n",
    "\n",
    "    if not (crg.nodes[0].start_time <= in_time[0] and crg.nodes[0].end_time >= in_time[1]):\n",
    "        print(in_time, crg.nodes[0].start_time, crg.nodes[0].end_time)\n",
    "    if not (crg.nodes[1].start_time <= out_time[0] and crg.nodes[1].end_time >= out_time[1]):\n",
    "        print(out_time, crg.nodes[0].start_time, crg.nodes[0].end_time)"
   ]
  },
  {
   "cell_type": "code",
   "execution_count": null,
   "id": "2661b09e310b799f",
   "metadata": {
    "collapsed": false,
    "is_executing": true
   },
   "outputs": [],
   "source": []
  }
 ],
 "metadata": {
  "kernelspec": {
   "display_name": "operations_research",
   "language": "python",
   "name": "python3"
  },
  "language_info": {
   "codemirror_mode": {
    "name": "ipython",
    "version": 3
   },
   "file_extension": ".py",
   "mimetype": "text/x-python",
   "name": "python",
   "nbconvert_exporter": "python",
   "pygments_lexer": "ipython3",
   "version": "3.11.4"
  }
 },
 "nbformat": 4,
 "nbformat_minor": 5
}
